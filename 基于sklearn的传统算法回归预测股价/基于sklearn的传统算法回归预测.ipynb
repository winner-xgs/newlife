{
 "cells": [
  {
   "cell_type": "code",
   "execution_count": 1,
   "id": "14dc8a5c",
   "metadata": {},
   "outputs": [],
   "source": [
    "import numpy as np\n",
    "import pandas as pd\n",
    "from pylab import plt,mpl\n",
    "import warnings\n",
    "import datetime as dt"
   ]
  },
  {
   "cell_type": "code",
   "execution_count": 2,
   "id": "fa950656",
   "metadata": {},
   "outputs": [],
   "source": [
    "plt.style.use('seaborn')\n",
    "warnings.simplefilter('ignore')\n",
    "np.random.seed(1000)\n",
    "mpl.rcParams['font.family']='serif'"
   ]
  },
  {
   "cell_type": "markdown",
   "id": "4ab7b4fe",
   "metadata": {},
   "source": [
    "# linear regression"
   ]
  },
  {
   "cell_type": "code",
   "execution_count": 3,
   "id": "0c0f43c9",
   "metadata": {},
   "outputs": [],
   "source": [
    "raw=pd.read_csv('tr_eikon_eod_data.csv',index_col=0,parse_dates=True)\n",
    "symbol='EUR='"
   ]
  },
  {
   "cell_type": "code",
   "execution_count": 4,
   "id": "aa295a41",
   "metadata": {},
   "outputs": [
    {
     "data": {
      "text/html": [
       "<div>\n",
       "<style scoped>\n",
       "    .dataframe tbody tr th:only-of-type {\n",
       "        vertical-align: middle;\n",
       "    }\n",
       "\n",
       "    .dataframe tbody tr th {\n",
       "        vertical-align: top;\n",
       "    }\n",
       "\n",
       "    .dataframe thead th {\n",
       "        text-align: right;\n",
       "    }\n",
       "</style>\n",
       "<table border=\"1\" class=\"dataframe\">\n",
       "  <thead>\n",
       "    <tr style=\"text-align: right;\">\n",
       "      <th></th>\n",
       "      <th>EUR=</th>\n",
       "    </tr>\n",
       "    <tr>\n",
       "      <th>Date</th>\n",
       "      <th></th>\n",
       "    </tr>\n",
       "  </thead>\n",
       "  <tbody>\n",
       "    <tr>\n",
       "      <th>2010-01-01</th>\n",
       "      <td>1.4323</td>\n",
       "    </tr>\n",
       "    <tr>\n",
       "      <th>2010-01-04</th>\n",
       "      <td>1.4411</td>\n",
       "    </tr>\n",
       "    <tr>\n",
       "      <th>2010-01-05</th>\n",
       "      <td>1.4368</td>\n",
       "    </tr>\n",
       "    <tr>\n",
       "      <th>2010-01-06</th>\n",
       "      <td>1.4412</td>\n",
       "    </tr>\n",
       "    <tr>\n",
       "      <th>2010-01-07</th>\n",
       "      <td>1.4318</td>\n",
       "    </tr>\n",
       "    <tr>\n",
       "      <th>...</th>\n",
       "      <td>...</td>\n",
       "    </tr>\n",
       "    <tr>\n",
       "      <th>2018-06-25</th>\n",
       "      <td>1.1702</td>\n",
       "    </tr>\n",
       "    <tr>\n",
       "      <th>2018-06-26</th>\n",
       "      <td>1.1645</td>\n",
       "    </tr>\n",
       "    <tr>\n",
       "      <th>2018-06-27</th>\n",
       "      <td>1.1552</td>\n",
       "    </tr>\n",
       "    <tr>\n",
       "      <th>2018-06-28</th>\n",
       "      <td>1.1567</td>\n",
       "    </tr>\n",
       "    <tr>\n",
       "      <th>2018-06-29</th>\n",
       "      <td>1.1683</td>\n",
       "    </tr>\n",
       "  </tbody>\n",
       "</table>\n",
       "<p>2216 rows × 1 columns</p>\n",
       "</div>"
      ],
      "text/plain": [
       "              EUR=\n",
       "Date              \n",
       "2010-01-01  1.4323\n",
       "2010-01-04  1.4411\n",
       "2010-01-05  1.4368\n",
       "2010-01-06  1.4412\n",
       "2010-01-07  1.4318\n",
       "...            ...\n",
       "2018-06-25  1.1702\n",
       "2018-06-26  1.1645\n",
       "2018-06-27  1.1552\n",
       "2018-06-28  1.1567\n",
       "2018-06-29  1.1683\n",
       "\n",
       "[2216 rows x 1 columns]"
      ]
     },
     "execution_count": 4,
     "metadata": {},
     "output_type": "execute_result"
    }
   ],
   "source": [
    "data=pd.DataFrame(raw[symbol])\n",
    "data"
   ]
  },
  {
   "cell_type": "code",
   "execution_count": 5,
   "id": "58d6dc9b",
   "metadata": {},
   "outputs": [
    {
     "data": {
      "text/html": [
       "<div>\n",
       "<style scoped>\n",
       "    .dataframe tbody tr th:only-of-type {\n",
       "        vertical-align: middle;\n",
       "    }\n",
       "\n",
       "    .dataframe tbody tr th {\n",
       "        vertical-align: top;\n",
       "    }\n",
       "\n",
       "    .dataframe thead th {\n",
       "        text-align: right;\n",
       "    }\n",
       "</style>\n",
       "<table border=\"1\" class=\"dataframe\">\n",
       "  <thead>\n",
       "    <tr style=\"text-align: right;\">\n",
       "      <th></th>\n",
       "      <th>EUR=</th>\n",
       "      <th>returns</th>\n",
       "      <th>direction</th>\n",
       "    </tr>\n",
       "    <tr>\n",
       "      <th>Date</th>\n",
       "      <th></th>\n",
       "      <th></th>\n",
       "      <th></th>\n",
       "    </tr>\n",
       "  </thead>\n",
       "  <tbody>\n",
       "    <tr>\n",
       "      <th>2010-01-04</th>\n",
       "      <td>1.4411</td>\n",
       "      <td>0.006125</td>\n",
       "      <td>1</td>\n",
       "    </tr>\n",
       "    <tr>\n",
       "      <th>2010-01-05</th>\n",
       "      <td>1.4368</td>\n",
       "      <td>-0.002988</td>\n",
       "      <td>-1</td>\n",
       "    </tr>\n",
       "    <tr>\n",
       "      <th>2010-01-06</th>\n",
       "      <td>1.4412</td>\n",
       "      <td>0.003058</td>\n",
       "      <td>1</td>\n",
       "    </tr>\n",
       "    <tr>\n",
       "      <th>2010-01-07</th>\n",
       "      <td>1.4318</td>\n",
       "      <td>-0.006544</td>\n",
       "      <td>-1</td>\n",
       "    </tr>\n",
       "    <tr>\n",
       "      <th>2010-01-08</th>\n",
       "      <td>1.4412</td>\n",
       "      <td>0.006544</td>\n",
       "      <td>1</td>\n",
       "    </tr>\n",
       "    <tr>\n",
       "      <th>...</th>\n",
       "      <td>...</td>\n",
       "      <td>...</td>\n",
       "      <td>...</td>\n",
       "    </tr>\n",
       "    <tr>\n",
       "      <th>2018-06-25</th>\n",
       "      <td>1.1702</td>\n",
       "      <td>0.004024</td>\n",
       "      <td>1</td>\n",
       "    </tr>\n",
       "    <tr>\n",
       "      <th>2018-06-26</th>\n",
       "      <td>1.1645</td>\n",
       "      <td>-0.004883</td>\n",
       "      <td>-1</td>\n",
       "    </tr>\n",
       "    <tr>\n",
       "      <th>2018-06-27</th>\n",
       "      <td>1.1552</td>\n",
       "      <td>-0.008018</td>\n",
       "      <td>-1</td>\n",
       "    </tr>\n",
       "    <tr>\n",
       "      <th>2018-06-28</th>\n",
       "      <td>1.1567</td>\n",
       "      <td>0.001298</td>\n",
       "      <td>1</td>\n",
       "    </tr>\n",
       "    <tr>\n",
       "      <th>2018-06-29</th>\n",
       "      <td>1.1683</td>\n",
       "      <td>0.009979</td>\n",
       "      <td>1</td>\n",
       "    </tr>\n",
       "  </tbody>\n",
       "</table>\n",
       "<p>2215 rows × 3 columns</p>\n",
       "</div>"
      ],
      "text/plain": [
       "              EUR=   returns  direction\n",
       "Date                                   \n",
       "2010-01-04  1.4411  0.006125          1\n",
       "2010-01-05  1.4368 -0.002988         -1\n",
       "2010-01-06  1.4412  0.003058          1\n",
       "2010-01-07  1.4318 -0.006544         -1\n",
       "2010-01-08  1.4412  0.006544          1\n",
       "...            ...       ...        ...\n",
       "2018-06-25  1.1702  0.004024          1\n",
       "2018-06-26  1.1645 -0.004883         -1\n",
       "2018-06-27  1.1552 -0.008018         -1\n",
       "2018-06-28  1.1567  0.001298          1\n",
       "2018-06-29  1.1683  0.009979          1\n",
       "\n",
       "[2215 rows x 3 columns]"
      ]
     },
     "execution_count": 5,
     "metadata": {},
     "output_type": "execute_result"
    }
   ],
   "source": [
    "data['returns']=np.log(data[symbol]/data[symbol].shift(1))\n",
    "data.dropna(inplace=True)\n",
    "data['direction']=np.sign(data['returns']).astype(int)\n",
    "data"
   ]
  },
  {
   "cell_type": "code",
   "execution_count": 6,
   "id": "8acc963f",
   "metadata": {},
   "outputs": [
    {
     "data": {
      "text/plain": [
       " 1    1111\n",
       "-1    1093\n",
       " 0      11\n",
       "Name: direction, dtype: int64"
      ]
     },
     "execution_count": 6,
     "metadata": {},
     "output_type": "execute_result"
    }
   ],
   "source": [
    "data['direction'].value_counts()"
   ]
  },
  {
   "cell_type": "code",
   "execution_count": 7,
   "id": "30370966",
   "metadata": {},
   "outputs": [
    {
     "data": {
      "text/plain": [
       "<AxesSubplot:>"
      ]
     },
     "execution_count": 7,
     "metadata": {},
     "output_type": "execute_result"
    },
    {
     "data": {
      "image/png": "[encoded data removed]",
      "text/plain": [
       "<Figure size 720x432 with 1 Axes>"
      ]
     },
     "metadata": {},
     "output_type": "display_data"
    }
   ],
   "source": [
    "data.dropna(inplace=True)\n",
    "data['returns'].astype(np.int64)\n",
    "data['returns'].round(5).hist(bins=35,figsize=(10,6))\n",
    "# data['returns'].show()"
   ]
  },
  {
   "cell_type": "code",
   "execution_count": 8,
   "id": "6de4241c",
   "metadata": {},
   "outputs": [],
   "source": [
    "lags=2\n",
    "def create_lag(data):\n",
    "    global cols\n",
    "    cols=[]\n",
    "    for lag in range(1,lags+1):\n",
    "        col='lag_{}'.format(lag)\n",
    "        data[col]=data['returns'].shift(lag)\n",
    "        cols.append(col)"
   ]
  },
  {
   "cell_type": "code",
   "execution_count": 9,
   "id": "af841fcd",
   "metadata": {},
   "outputs": [],
   "source": [
    "create_lag(data)"
   ]
  },
  {
   "cell_type": "code",
   "execution_count": 10,
   "id": "51772e95",
   "metadata": {},
   "outputs": [
    {
     "data": {
      "text/html": [
       "<div>\n",
       "<style scoped>\n",
       "    .dataframe tbody tr th:only-of-type {\n",
       "        vertical-align: middle;\n",
       "    }\n",
       "\n",
       "    .dataframe tbody tr th {\n",
       "        vertical-align: top;\n",
       "    }\n",
       "\n",
       "    .dataframe thead th {\n",
       "        text-align: right;\n",
       "    }\n",
       "</style>\n",
       "<table border=\"1\" class=\"dataframe\">\n",
       "  <thead>\n",
       "    <tr style=\"text-align: right;\">\n",
       "      <th></th>\n",
       "      <th>lag_1</th>\n",
       "      <th>lag_2</th>\n",
       "    </tr>\n",
       "    <tr>\n",
       "      <th>Date</th>\n",
       "      <th></th>\n",
       "      <th></th>\n",
       "    </tr>\n",
       "  </thead>\n",
       "  <tbody>\n",
       "    <tr>\n",
       "      <th>2010-01-04</th>\n",
       "      <td>NaN</td>\n",
       "      <td>NaN</td>\n",
       "    </tr>\n",
       "    <tr>\n",
       "      <th>2010-01-05</th>\n",
       "      <td>0.006125</td>\n",
       "      <td>NaN</td>\n",
       "    </tr>\n",
       "    <tr>\n",
       "      <th>2010-01-06</th>\n",
       "      <td>-0.002988</td>\n",
       "      <td>0.006125</td>\n",
       "    </tr>\n",
       "    <tr>\n",
       "      <th>2010-01-07</th>\n",
       "      <td>0.003058</td>\n",
       "      <td>-0.002988</td>\n",
       "    </tr>\n",
       "    <tr>\n",
       "      <th>2010-01-08</th>\n",
       "      <td>-0.006544</td>\n",
       "      <td>0.003058</td>\n",
       "    </tr>\n",
       "    <tr>\n",
       "      <th>...</th>\n",
       "      <td>...</td>\n",
       "      <td>...</td>\n",
       "    </tr>\n",
       "    <tr>\n",
       "      <th>2018-06-25</th>\n",
       "      <td>0.004644</td>\n",
       "      <td>0.002676</td>\n",
       "    </tr>\n",
       "    <tr>\n",
       "      <th>2018-06-26</th>\n",
       "      <td>0.004024</td>\n",
       "      <td>0.004644</td>\n",
       "    </tr>\n",
       "    <tr>\n",
       "      <th>2018-06-27</th>\n",
       "      <td>-0.004883</td>\n",
       "      <td>0.004024</td>\n",
       "    </tr>\n",
       "    <tr>\n",
       "      <th>2018-06-28</th>\n",
       "      <td>-0.008018</td>\n",
       "      <td>-0.004883</td>\n",
       "    </tr>\n",
       "    <tr>\n",
       "      <th>2018-06-29</th>\n",
       "      <td>0.001298</td>\n",
       "      <td>-0.008018</td>\n",
       "    </tr>\n",
       "  </tbody>\n",
       "</table>\n",
       "<p>2215 rows × 2 columns</p>\n",
       "</div>"
      ],
      "text/plain": [
       "               lag_1     lag_2\n",
       "Date                          \n",
       "2010-01-04       NaN       NaN\n",
       "2010-01-05  0.006125       NaN\n",
       "2010-01-06 -0.002988  0.006125\n",
       "2010-01-07  0.003058 -0.002988\n",
       "2010-01-08 -0.006544  0.003058\n",
       "...              ...       ...\n",
       "2018-06-25  0.004644  0.002676\n",
       "2018-06-26  0.004024  0.004644\n",
       "2018-06-27 -0.004883  0.004024\n",
       "2018-06-28 -0.008018 -0.004883\n",
       "2018-06-29  0.001298 -0.008018\n",
       "\n",
       "[2215 rows x 2 columns]"
      ]
     },
     "execution_count": 10,
     "metadata": {},
     "output_type": "execute_result"
    }
   ],
   "source": [
    "data.head()\n",
    "data[cols]"
   ]
  },
  {
   "cell_type": "code",
   "execution_count": 11,
   "id": "37ece27c",
   "metadata": {},
   "outputs": [],
   "source": [
    "data.dropna(inplace=True)"
   ]
  },
  {
   "cell_type": "code",
   "execution_count": 12,
   "id": "f7c17b2d",
   "metadata": {},
   "outputs": [
    {
     "data": {
      "text/plain": [
       "<matplotlib.lines.Line2D at 0x1acc352eeb0>"
      ]
     },
     "execution_count": 12,
     "metadata": {},
     "output_type": "execute_result"
    },
    {
     "data": {
      "image/png": "[encoded data removed]",
      "text/plain": [
       "<Figure size 720x432 with 2 Axes>"
      ]
     },
     "metadata": {},
     "output_type": "display_data"
    }
   ],
   "source": [
    "data.plot.scatter('lag_1','lag_2',c=data['returns'],cmap='coolwarm',figsize=(10,6),colorbar=True)\n",
    "plt.axvline(0,c='r',ls='--')\n",
    "plt.axhline(0,c='r',ls='--')"
   ]
  },
  {
   "cell_type": "markdown",
   "id": "921849ec",
   "metadata": {},
   "source": [
    "# regression"
   ]
  },
  {
   "cell_type": "code",
   "execution_count": 13,
   "id": "1ae75fa1",
   "metadata": {},
   "outputs": [],
   "source": [
    "from sklearn.linear_model import LinearRegression"
   ]
  },
  {
   "cell_type": "code",
   "execution_count": 14,
   "id": "92f88eba",
   "metadata": {},
   "outputs": [],
   "source": [
    "model =LinearRegression()\n",
    "data['pos_ols_1']=model.fit(data[cols],data['returns']).predict(data[cols])\n",
    "data['pos_ols_2']=model.fit(data[cols],data['direction']).predict(data[cols])\n"
   ]
  },
  {
   "cell_type": "code",
   "execution_count": 15,
   "id": "b441154e",
   "metadata": {},
   "outputs": [
    {
     "data": {
      "text/html": [
       "<div>\n",
       "<style scoped>\n",
       "    .dataframe tbody tr th:only-of-type {\n",
       "        vertical-align: middle;\n",
       "    }\n",
       "\n",
       "    .dataframe tbody tr th {\n",
       "        vertical-align: top;\n",
       "    }\n",
       "\n",
       "    .dataframe thead th {\n",
       "        text-align: right;\n",
       "    }\n",
       "</style>\n",
       "<table border=\"1\" class=\"dataframe\">\n",
       "  <thead>\n",
       "    <tr style=\"text-align: right;\">\n",
       "      <th></th>\n",
       "      <th>EUR=</th>\n",
       "      <th>returns</th>\n",
       "      <th>direction</th>\n",
       "      <th>lag_1</th>\n",
       "      <th>lag_2</th>\n",
       "      <th>pos_ols_1</th>\n",
       "      <th>pos_ols_2</th>\n",
       "    </tr>\n",
       "    <tr>\n",
       "      <th>Date</th>\n",
       "      <th></th>\n",
       "      <th></th>\n",
       "      <th></th>\n",
       "      <th></th>\n",
       "      <th></th>\n",
       "      <th></th>\n",
       "      <th></th>\n",
       "    </tr>\n",
       "  </thead>\n",
       "  <tbody>\n",
       "    <tr>\n",
       "      <th>2010-01-06</th>\n",
       "      <td>1.4412</td>\n",
       "      <td>0.003058</td>\n",
       "      <td>1</td>\n",
       "      <td>-0.002988</td>\n",
       "      <td>0.006125</td>\n",
       "      <td>-0.000002</td>\n",
       "      <td>-0.000663</td>\n",
       "    </tr>\n",
       "    <tr>\n",
       "      <th>2010-01-07</th>\n",
       "      <td>1.4318</td>\n",
       "      <td>-0.006544</td>\n",
       "      <td>-1</td>\n",
       "      <td>0.003058</td>\n",
       "      <td>-0.002988</td>\n",
       "      <td>-0.000164</td>\n",
       "      <td>0.001545</td>\n",
       "    </tr>\n",
       "    <tr>\n",
       "      <th>2010-01-08</th>\n",
       "      <td>1.4412</td>\n",
       "      <td>0.006544</td>\n",
       "      <td>1</td>\n",
       "      <td>-0.006544</td>\n",
       "      <td>0.003058</td>\n",
       "      <td>0.000030</td>\n",
       "      <td>0.032971</td>\n",
       "    </tr>\n",
       "    <tr>\n",
       "      <th>2010-01-11</th>\n",
       "      <td>1.4513</td>\n",
       "      <td>0.006984</td>\n",
       "      <td>1</td>\n",
       "      <td>0.006544</td>\n",
       "      <td>-0.006544</td>\n",
       "      <td>-0.000245</td>\n",
       "      <td>-0.004227</td>\n",
       "    </tr>\n",
       "    <tr>\n",
       "      <th>2010-01-12</th>\n",
       "      <td>1.4494</td>\n",
       "      <td>-0.001310</td>\n",
       "      <td>-1</td>\n",
       "      <td>0.006984</td>\n",
       "      <td>0.006544</td>\n",
       "      <td>-0.000154</td>\n",
       "      <td>-0.061068</td>\n",
       "    </tr>\n",
       "    <tr>\n",
       "      <th>...</th>\n",
       "      <td>...</td>\n",
       "      <td>...</td>\n",
       "      <td>...</td>\n",
       "      <td>...</td>\n",
       "      <td>...</td>\n",
       "      <td>...</td>\n",
       "      <td>...</td>\n",
       "    </tr>\n",
       "    <tr>\n",
       "      <th>2018-06-25</th>\n",
       "      <td>1.1702</td>\n",
       "      <td>0.004024</td>\n",
       "      <td>1</td>\n",
       "      <td>0.004644</td>\n",
       "      <td>0.002676</td>\n",
       "      <td>-0.000146</td>\n",
       "      <td>-0.031268</td>\n",
       "    </tr>\n",
       "    <tr>\n",
       "      <th>2018-06-26</th>\n",
       "      <td>1.1645</td>\n",
       "      <td>-0.004883</td>\n",
       "      <td>-1</td>\n",
       "      <td>0.004024</td>\n",
       "      <td>0.004644</td>\n",
       "      <td>-0.000122</td>\n",
       "      <td>-0.035783</td>\n",
       "    </tr>\n",
       "    <tr>\n",
       "      <th>2018-06-27</th>\n",
       "      <td>1.1552</td>\n",
       "      <td>-0.008018</td>\n",
       "      <td>-1</td>\n",
       "      <td>-0.004883</td>\n",
       "      <td>0.004024</td>\n",
       "      <td>0.000012</td>\n",
       "      <td>0.019191</td>\n",
       "    </tr>\n",
       "    <tr>\n",
       "      <th>2018-06-28</th>\n",
       "      <td>1.1567</td>\n",
       "      <td>0.001298</td>\n",
       "      <td>1</td>\n",
       "      <td>-0.008018</td>\n",
       "      <td>-0.004883</td>\n",
       "      <td>-0.000006</td>\n",
       "      <td>0.074564</td>\n",
       "    </tr>\n",
       "    <tr>\n",
       "      <th>2018-06-29</th>\n",
       "      <td>1.1683</td>\n",
       "      <td>0.009979</td>\n",
       "      <td>1</td>\n",
       "      <td>0.001298</td>\n",
       "      <td>-0.008018</td>\n",
       "      <td>-0.000175</td>\n",
       "      <td>0.032752</td>\n",
       "    </tr>\n",
       "  </tbody>\n",
       "</table>\n",
       "<p>2213 rows × 7 columns</p>\n",
       "</div>"
      ],
      "text/plain": [
       "              EUR=   returns  direction     lag_1     lag_2  pos_ols_1  \\\n",
       "Date                                                                     \n",
       "2010-01-06  1.4412  0.003058          1 -0.002988  0.006125  -0.000002   \n",
       "2010-01-07  1.4318 -0.006544         -1  0.003058 -0.002988  -0.000164   \n",
       "2010-01-08  1.4412  0.006544          1 -0.006544  0.003058   0.000030   \n",
       "2010-01-11  1.4513  0.006984          1  0.006544 -0.006544  -0.000245   \n",
       "2010-01-12  1.4494 -0.001310         -1  0.006984  0.006544  -0.000154   \n",
       "...            ...       ...        ...       ...       ...        ...   \n",
       "2018-06-25  1.1702  0.004024          1  0.004644  0.002676  -0.000146   \n",
       "2018-06-26  1.1645 -0.004883         -1  0.004024  0.004644  -0.000122   \n",
       "2018-06-27  1.1552 -0.008018         -1 -0.004883  0.004024   0.000012   \n",
       "2018-06-28  1.1567  0.001298          1 -0.008018 -0.004883  -0.000006   \n",
       "2018-06-29  1.1683  0.009979          1  0.001298 -0.008018  -0.000175   \n",
       "\n",
       "            pos_ols_2  \n",
       "Date                   \n",
       "2010-01-06  -0.000663  \n",
       "2010-01-07   0.001545  \n",
       "2010-01-08   0.032971  \n",
       "2010-01-11  -0.004227  \n",
       "2010-01-12  -0.061068  \n",
       "...               ...  \n",
       "2018-06-25  -0.031268  \n",
       "2018-06-26  -0.035783  \n",
       "2018-06-27   0.019191  \n",
       "2018-06-28   0.074564  \n",
       "2018-06-29   0.032752  \n",
       "\n",
       "[2213 rows x 7 columns]"
      ]
     },
     "execution_count": 15,
     "metadata": {},
     "output_type": "execute_result"
    }
   ],
   "source": [
    "data"
   ]
  },
  {
   "cell_type": "code",
   "execution_count": 16,
   "id": "826db02f",
   "metadata": {},
   "outputs": [],
   "source": [
    "data[['pos_ols_1','pos_ols_2']]=np.where(data[['pos_ols_1','pos_ols_2']]>0,1,-1)"
   ]
  },
  {
   "cell_type": "code",
   "execution_count": 17,
   "id": "b057b00e",
   "metadata": {},
   "outputs": [
    {
     "data": {
      "text/html": [
       "<div>\n",
       "<style scoped>\n",
       "    .dataframe tbody tr th:only-of-type {\n",
       "        vertical-align: middle;\n",
       "    }\n",
       "\n",
       "    .dataframe tbody tr th {\n",
       "        vertical-align: top;\n",
       "    }\n",
       "\n",
       "    .dataframe thead th {\n",
       "        text-align: right;\n",
       "    }\n",
       "</style>\n",
       "<table border=\"1\" class=\"dataframe\">\n",
       "  <thead>\n",
       "    <tr style=\"text-align: right;\">\n",
       "      <th></th>\n",
       "      <th>EUR=</th>\n",
       "      <th>returns</th>\n",
       "      <th>direction</th>\n",
       "      <th>lag_1</th>\n",
       "      <th>lag_2</th>\n",
       "      <th>pos_ols_1</th>\n",
       "      <th>pos_ols_2</th>\n",
       "    </tr>\n",
       "    <tr>\n",
       "      <th>Date</th>\n",
       "      <th></th>\n",
       "      <th></th>\n",
       "      <th></th>\n",
       "      <th></th>\n",
       "      <th></th>\n",
       "      <th></th>\n",
       "      <th></th>\n",
       "    </tr>\n",
       "  </thead>\n",
       "  <tbody>\n",
       "    <tr>\n",
       "      <th>2010-01-06</th>\n",
       "      <td>1.4412</td>\n",
       "      <td>0.003058</td>\n",
       "      <td>1</td>\n",
       "      <td>-0.002988</td>\n",
       "      <td>0.006125</td>\n",
       "      <td>-1</td>\n",
       "      <td>-1</td>\n",
       "    </tr>\n",
       "    <tr>\n",
       "      <th>2010-01-07</th>\n",
       "      <td>1.4318</td>\n",
       "      <td>-0.006544</td>\n",
       "      <td>-1</td>\n",
       "      <td>0.003058</td>\n",
       "      <td>-0.002988</td>\n",
       "      <td>-1</td>\n",
       "      <td>1</td>\n",
       "    </tr>\n",
       "    <tr>\n",
       "      <th>2010-01-08</th>\n",
       "      <td>1.4412</td>\n",
       "      <td>0.006544</td>\n",
       "      <td>1</td>\n",
       "      <td>-0.006544</td>\n",
       "      <td>0.003058</td>\n",
       "      <td>1</td>\n",
       "      <td>1</td>\n",
       "    </tr>\n",
       "    <tr>\n",
       "      <th>2010-01-11</th>\n",
       "      <td>1.4513</td>\n",
       "      <td>0.006984</td>\n",
       "      <td>1</td>\n",
       "      <td>0.006544</td>\n",
       "      <td>-0.006544</td>\n",
       "      <td>-1</td>\n",
       "      <td>-1</td>\n",
       "    </tr>\n",
       "    <tr>\n",
       "      <th>2010-01-12</th>\n",
       "      <td>1.4494</td>\n",
       "      <td>-0.001310</td>\n",
       "      <td>-1</td>\n",
       "      <td>0.006984</td>\n",
       "      <td>0.006544</td>\n",
       "      <td>-1</td>\n",
       "      <td>-1</td>\n",
       "    </tr>\n",
       "    <tr>\n",
       "      <th>...</th>\n",
       "      <td>...</td>\n",
       "      <td>...</td>\n",
       "      <td>...</td>\n",
       "      <td>...</td>\n",
       "      <td>...</td>\n",
       "      <td>...</td>\n",
       "      <td>...</td>\n",
       "    </tr>\n",
       "    <tr>\n",
       "      <th>2018-06-25</th>\n",
       "      <td>1.1702</td>\n",
       "      <td>0.004024</td>\n",
       "      <td>1</td>\n",
       "      <td>0.004644</td>\n",
       "      <td>0.002676</td>\n",
       "      <td>-1</td>\n",
       "      <td>-1</td>\n",
       "    </tr>\n",
       "    <tr>\n",
       "      <th>2018-06-26</th>\n",
       "      <td>1.1645</td>\n",
       "      <td>-0.004883</td>\n",
       "      <td>-1</td>\n",
       "      <td>0.004024</td>\n",
       "      <td>0.004644</td>\n",
       "      <td>-1</td>\n",
       "      <td>-1</td>\n",
       "    </tr>\n",
       "    <tr>\n",
       "      <th>2018-06-27</th>\n",
       "      <td>1.1552</td>\n",
       "      <td>-0.008018</td>\n",
       "      <td>-1</td>\n",
       "      <td>-0.004883</td>\n",
       "      <td>0.004024</td>\n",
       "      <td>1</td>\n",
       "      <td>1</td>\n",
       "    </tr>\n",
       "    <tr>\n",
       "      <th>2018-06-28</th>\n",
       "      <td>1.1567</td>\n",
       "      <td>0.001298</td>\n",
       "      <td>1</td>\n",
       "      <td>-0.008018</td>\n",
       "      <td>-0.004883</td>\n",
       "      <td>-1</td>\n",
       "      <td>1</td>\n",
       "    </tr>\n",
       "    <tr>\n",
       "      <th>2018-06-29</th>\n",
       "      <td>1.1683</td>\n",
       "      <td>0.009979</td>\n",
       "      <td>1</td>\n",
       "      <td>0.001298</td>\n",
       "      <td>-0.008018</td>\n",
       "      <td>-1</td>\n",
       "      <td>1</td>\n",
       "    </tr>\n",
       "  </tbody>\n",
       "</table>\n",
       "<p>2213 rows × 7 columns</p>\n",
       "</div>"
      ],
      "text/plain": [
       "              EUR=   returns  direction     lag_1     lag_2  pos_ols_1  \\\n",
       "Date                                                                     \n",
       "2010-01-06  1.4412  0.003058          1 -0.002988  0.006125         -1   \n",
       "2010-01-07  1.4318 -0.006544         -1  0.003058 -0.002988         -1   \n",
       "2010-01-08  1.4412  0.006544          1 -0.006544  0.003058          1   \n",
       "2010-01-11  1.4513  0.006984          1  0.006544 -0.006544         -1   \n",
       "2010-01-12  1.4494 -0.001310         -1  0.006984  0.006544         -1   \n",
       "...            ...       ...        ...       ...       ...        ...   \n",
       "2018-06-25  1.1702  0.004024          1  0.004644  0.002676         -1   \n",
       "2018-06-26  1.1645 -0.004883         -1  0.004024  0.004644         -1   \n",
       "2018-06-27  1.1552 -0.008018         -1 -0.004883  0.004024          1   \n",
       "2018-06-28  1.1567  0.001298          1 -0.008018 -0.004883         -1   \n",
       "2018-06-29  1.1683  0.009979          1  0.001298 -0.008018         -1   \n",
       "\n",
       "            pos_ols_2  \n",
       "Date                   \n",
       "2010-01-06         -1  \n",
       "2010-01-07          1  \n",
       "2010-01-08          1  \n",
       "2010-01-11         -1  \n",
       "2010-01-12         -1  \n",
       "...               ...  \n",
       "2018-06-25         -1  \n",
       "2018-06-26         -1  \n",
       "2018-06-27          1  \n",
       "2018-06-28          1  \n",
       "2018-06-29          1  \n",
       "\n",
       "[2213 rows x 7 columns]"
      ]
     },
     "execution_count": 17,
     "metadata": {},
     "output_type": "execute_result"
    }
   ],
   "source": [
    "data"
   ]
  },
  {
   "cell_type": "code",
   "execution_count": 18,
   "id": "8971e58a",
   "metadata": {},
   "outputs": [
    {
     "data": {
      "text/plain": [
       "-1    1863\n",
       " 1     350\n",
       "Name: pos_ols_1, dtype: int64"
      ]
     },
     "execution_count": 18,
     "metadata": {},
     "output_type": "execute_result"
    }
   ],
   "source": [
    "data['pos_ols_1'].value_counts()"
   ]
  },
  {
   "cell_type": "code",
   "execution_count": 19,
   "id": "1d253191",
   "metadata": {},
   "outputs": [
    {
     "data": {
      "text/plain": [
       " 1    1310\n",
       "-1     903\n",
       "Name: pos_ols_2, dtype: int64"
      ]
     },
     "execution_count": 19,
     "metadata": {},
     "output_type": "execute_result"
    }
   ],
   "source": [
    "data['pos_ols_2'].value_counts()"
   ]
  },
  {
   "cell_type": "code",
   "execution_count": 20,
   "id": "6e91b858",
   "metadata": {},
   "outputs": [
    {
     "data": {
      "text/html": [
       "<div>\n",
       "<style scoped>\n",
       "    .dataframe tbody tr th:only-of-type {\n",
       "        vertical-align: middle;\n",
       "    }\n",
       "\n",
       "    .dataframe tbody tr th {\n",
       "        vertical-align: top;\n",
       "    }\n",
       "\n",
       "    .dataframe thead th {\n",
       "        text-align: right;\n",
       "    }\n",
       "</style>\n",
       "<table border=\"1\" class=\"dataframe\">\n",
       "  <thead>\n",
       "    <tr style=\"text-align: right;\">\n",
       "      <th>pos_ols_2</th>\n",
       "      <th>-1</th>\n",
       "      <th>1</th>\n",
       "    </tr>\n",
       "    <tr>\n",
       "      <th>pos_ols_1</th>\n",
       "      <th></th>\n",
       "      <th></th>\n",
       "    </tr>\n",
       "  </thead>\n",
       "  <tbody>\n",
       "    <tr>\n",
       "      <th>-1</th>\n",
       "      <td>851</td>\n",
       "      <td>1012</td>\n",
       "    </tr>\n",
       "    <tr>\n",
       "      <th>1</th>\n",
       "      <td>52</td>\n",
       "      <td>298</td>\n",
       "    </tr>\n",
       "  </tbody>\n",
       "</table>\n",
       "</div>"
      ],
      "text/plain": [
       "pos_ols_2   -1     1\n",
       "pos_ols_1           \n",
       "-1         851  1012\n",
       " 1          52   298"
      ]
     },
     "execution_count": 20,
     "metadata": {},
     "output_type": "execute_result"
    }
   ],
   "source": [
    "pd.crosstab(data['pos_ols_1'],data['pos_ols_2'],rownames=['pos_ols_1'],colnames=['pos_ols_2'])"
   ]
  },
  {
   "cell_type": "code",
   "execution_count": 21,
   "id": "60747c51",
   "metadata": {},
   "outputs": [
    {
     "data": {
      "text/plain": [
       "653"
      ]
     },
     "execution_count": 21,
     "metadata": {},
     "output_type": "execute_result"
    }
   ],
   "source": [
    "(data['pos_ols_1'].diff() !=0).sum()"
   ]
  },
  {
   "cell_type": "code",
   "execution_count": 22,
   "id": "1a7d5a3e",
   "metadata": {},
   "outputs": [
    {
     "data": {
      "text/plain": [
       "766"
      ]
     },
     "execution_count": 22,
     "metadata": {},
     "output_type": "execute_result"
    }
   ],
   "source": [
    "(data['pos_ols_2'].diff() !=0).sum()"
   ]
  },
  {
   "cell_type": "code",
   "execution_count": 23,
   "id": "50c82cae",
   "metadata": {},
   "outputs": [
    {
     "data": {
      "text/plain": [
       "0.48847718029823767"
      ]
     },
     "execution_count": 23,
     "metadata": {},
     "output_type": "execute_result"
    }
   ],
   "source": [
    "(data['direction']==data['pos_ols_1']).mean()"
   ]
  },
  {
   "cell_type": "code",
   "execution_count": 24,
   "id": "83abb9d0",
   "metadata": {},
   "outputs": [
    {
     "data": {
      "text/plain": [
       "0.5173971983732489"
      ]
     },
     "execution_count": 24,
     "metadata": {},
     "output_type": "execute_result"
    }
   ],
   "source": [
    "(data['direction']==data['pos_ols_2']).mean()"
   ]
  },
  {
   "cell_type": "code",
   "execution_count": 25,
   "id": "3894e607",
   "metadata": {},
   "outputs": [
    {
     "data": {
      "text/plain": [
       "<AxesSubplot:xlabel='Date'>"
      ]
     },
     "execution_count": 25,
     "metadata": {},
     "output_type": "execute_result"
    },
    {
     "data": {
      "image/png": "[encoded data removed]",
      "text/plain": [
       "<Figure size 720x432 with 1 Axes>"
      ]
     },
     "metadata": {},
     "output_type": "display_data"
    }
   ],
   "source": [
    "data['strat_ols_1']=data['pos_ols_1']*data['returns']\n",
    "data['strat_ols_2']=data['pos_ols_2']*data['returns']\n",
    "data[['returns','strat_ols_1','strat_ols_2']].cumsum().plot(figsize=(10,6))"
   ]
  },
  {
   "cell_type": "code",
   "execution_count": 26,
   "id": "6d4c9234",
   "metadata": {},
   "outputs": [
    {
     "data": {
      "text/plain": [
       "<AxesSubplot:xlabel='Date'>"
      ]
     },
     "execution_count": 26,
     "metadata": {},
     "output_type": "execute_result"
    },
    {
     "data": {
      "image/png": "[encoded data removed]",
      "text/plain": [
       "<Figure size 720x432 with 1 Axes>"
      ]
     },
     "metadata": {},
     "output_type": "display_data"
    }
   ],
   "source": [
    "data[['returns','strat_ols_1','strat_ols_2']].cumsum().apply(np.exp).plot(figsize=(10,6))"
   ]
  },
  {
   "cell_type": "markdown",
   "id": "6b5bb216",
   "metadata": {},
   "source": [
    "# clustering  (kmeans)"
   ]
  },
  {
   "cell_type": "code",
   "execution_count": 27,
   "id": "4b4035cc",
   "metadata": {},
   "outputs": [],
   "source": [
    "from sklearn.cluster import KMeans"
   ]
  },
  {
   "cell_type": "code",
   "execution_count": 28,
   "id": "786c3ccd",
   "metadata": {},
   "outputs": [],
   "source": [
    "model=KMeans(n_clusters=2,random_state=0)"
   ]
  },
  {
   "cell_type": "code",
   "execution_count": 29,
   "id": "5dd61b9c",
   "metadata": {},
   "outputs": [
    {
     "data": {
      "text/plain": [
       "KMeans(n_clusters=2, random_state=0)"
      ]
     },
     "execution_count": 29,
     "metadata": {},
     "output_type": "execute_result"
    }
   ],
   "source": [
    "model.fit(data[cols])"
   ]
  },
  {
   "cell_type": "code",
   "execution_count": 30,
   "id": "7ce8321a",
   "metadata": {},
   "outputs": [],
   "source": [
    "data['pos_clus']=model.predict(data[cols])"
   ]
  },
  {
   "cell_type": "code",
   "execution_count": 31,
   "id": "c13a44e2",
   "metadata": {},
   "outputs": [
    {
     "data": {
      "text/html": [
       "<div>\n",
       "<style scoped>\n",
       "    .dataframe tbody tr th:only-of-type {\n",
       "        vertical-align: middle;\n",
       "    }\n",
       "\n",
       "    .dataframe tbody tr th {\n",
       "        vertical-align: top;\n",
       "    }\n",
       "\n",
       "    .dataframe thead th {\n",
       "        text-align: right;\n",
       "    }\n",
       "</style>\n",
       "<table border=\"1\" class=\"dataframe\">\n",
       "  <thead>\n",
       "    <tr style=\"text-align: right;\">\n",
       "      <th></th>\n",
       "      <th>EUR=</th>\n",
       "      <th>returns</th>\n",
       "      <th>direction</th>\n",
       "      <th>lag_1</th>\n",
       "      <th>lag_2</th>\n",
       "      <th>pos_ols_1</th>\n",
       "      <th>pos_ols_2</th>\n",
       "      <th>strat_ols_1</th>\n",
       "      <th>strat_ols_2</th>\n",
       "      <th>pos_clus</th>\n",
       "    </tr>\n",
       "    <tr>\n",
       "      <th>Date</th>\n",
       "      <th></th>\n",
       "      <th></th>\n",
       "      <th></th>\n",
       "      <th></th>\n",
       "      <th></th>\n",
       "      <th></th>\n",
       "      <th></th>\n",
       "      <th></th>\n",
       "      <th></th>\n",
       "      <th></th>\n",
       "    </tr>\n",
       "  </thead>\n",
       "  <tbody>\n",
       "    <tr>\n",
       "      <th>2010-01-06</th>\n",
       "      <td>1.4412</td>\n",
       "      <td>0.003058</td>\n",
       "      <td>1</td>\n",
       "      <td>-0.002988</td>\n",
       "      <td>0.006125</td>\n",
       "      <td>-1</td>\n",
       "      <td>-1</td>\n",
       "      <td>-0.003058</td>\n",
       "      <td>-0.003058</td>\n",
       "      <td>1</td>\n",
       "    </tr>\n",
       "    <tr>\n",
       "      <th>2010-01-07</th>\n",
       "      <td>1.4318</td>\n",
       "      <td>-0.006544</td>\n",
       "      <td>-1</td>\n",
       "      <td>0.003058</td>\n",
       "      <td>-0.002988</td>\n",
       "      <td>-1</td>\n",
       "      <td>1</td>\n",
       "      <td>0.006544</td>\n",
       "      <td>-0.006544</td>\n",
       "      <td>0</td>\n",
       "    </tr>\n",
       "    <tr>\n",
       "      <th>2010-01-08</th>\n",
       "      <td>1.4412</td>\n",
       "      <td>0.006544</td>\n",
       "      <td>1</td>\n",
       "      <td>-0.006544</td>\n",
       "      <td>0.003058</td>\n",
       "      <td>1</td>\n",
       "      <td>1</td>\n",
       "      <td>0.006544</td>\n",
       "      <td>0.006544</td>\n",
       "      <td>1</td>\n",
       "    </tr>\n",
       "    <tr>\n",
       "      <th>2010-01-11</th>\n",
       "      <td>1.4513</td>\n",
       "      <td>0.006984</td>\n",
       "      <td>1</td>\n",
       "      <td>0.006544</td>\n",
       "      <td>-0.006544</td>\n",
       "      <td>-1</td>\n",
       "      <td>-1</td>\n",
       "      <td>-0.006984</td>\n",
       "      <td>-0.006984</td>\n",
       "      <td>0</td>\n",
       "    </tr>\n",
       "    <tr>\n",
       "      <th>2010-01-12</th>\n",
       "      <td>1.4494</td>\n",
       "      <td>-0.001310</td>\n",
       "      <td>-1</td>\n",
       "      <td>0.006984</td>\n",
       "      <td>0.006544</td>\n",
       "      <td>-1</td>\n",
       "      <td>-1</td>\n",
       "      <td>0.001310</td>\n",
       "      <td>0.001310</td>\n",
       "      <td>0</td>\n",
       "    </tr>\n",
       "    <tr>\n",
       "      <th>...</th>\n",
       "      <td>...</td>\n",
       "      <td>...</td>\n",
       "      <td>...</td>\n",
       "      <td>...</td>\n",
       "      <td>...</td>\n",
       "      <td>...</td>\n",
       "      <td>...</td>\n",
       "      <td>...</td>\n",
       "      <td>...</td>\n",
       "      <td>...</td>\n",
       "    </tr>\n",
       "    <tr>\n",
       "      <th>2018-06-25</th>\n",
       "      <td>1.1702</td>\n",
       "      <td>0.004024</td>\n",
       "      <td>1</td>\n",
       "      <td>0.004644</td>\n",
       "      <td>0.002676</td>\n",
       "      <td>-1</td>\n",
       "      <td>-1</td>\n",
       "      <td>-0.004024</td>\n",
       "      <td>-0.004024</td>\n",
       "      <td>0</td>\n",
       "    </tr>\n",
       "    <tr>\n",
       "      <th>2018-06-26</th>\n",
       "      <td>1.1645</td>\n",
       "      <td>-0.004883</td>\n",
       "      <td>-1</td>\n",
       "      <td>0.004024</td>\n",
       "      <td>0.004644</td>\n",
       "      <td>-1</td>\n",
       "      <td>-1</td>\n",
       "      <td>0.004883</td>\n",
       "      <td>0.004883</td>\n",
       "      <td>1</td>\n",
       "    </tr>\n",
       "    <tr>\n",
       "      <th>2018-06-27</th>\n",
       "      <td>1.1552</td>\n",
       "      <td>-0.008018</td>\n",
       "      <td>-1</td>\n",
       "      <td>-0.004883</td>\n",
       "      <td>0.004024</td>\n",
       "      <td>1</td>\n",
       "      <td>1</td>\n",
       "      <td>-0.008018</td>\n",
       "      <td>-0.008018</td>\n",
       "      <td>1</td>\n",
       "    </tr>\n",
       "    <tr>\n",
       "      <th>2018-06-28</th>\n",
       "      <td>1.1567</td>\n",
       "      <td>0.001298</td>\n",
       "      <td>1</td>\n",
       "      <td>-0.008018</td>\n",
       "      <td>-0.004883</td>\n",
       "      <td>-1</td>\n",
       "      <td>1</td>\n",
       "      <td>-0.001298</td>\n",
       "      <td>0.001298</td>\n",
       "      <td>1</td>\n",
       "    </tr>\n",
       "    <tr>\n",
       "      <th>2018-06-29</th>\n",
       "      <td>1.1683</td>\n",
       "      <td>0.009979</td>\n",
       "      <td>1</td>\n",
       "      <td>0.001298</td>\n",
       "      <td>-0.008018</td>\n",
       "      <td>-1</td>\n",
       "      <td>1</td>\n",
       "      <td>-0.009979</td>\n",
       "      <td>0.009979</td>\n",
       "      <td>0</td>\n",
       "    </tr>\n",
       "  </tbody>\n",
       "</table>\n",
       "<p>2213 rows × 10 columns</p>\n",
       "</div>"
      ],
      "text/plain": [
       "              EUR=   returns  direction     lag_1     lag_2  pos_ols_1  \\\n",
       "Date                                                                     \n",
       "2010-01-06  1.4412  0.003058          1 -0.002988  0.006125         -1   \n",
       "2010-01-07  1.4318 -0.006544         -1  0.003058 -0.002988         -1   \n",
       "2010-01-08  1.4412  0.006544          1 -0.006544  0.003058          1   \n",
       "2010-01-11  1.4513  0.006984          1  0.006544 -0.006544         -1   \n",
       "2010-01-12  1.4494 -0.001310         -1  0.006984  0.006544         -1   \n",
       "...            ...       ...        ...       ...       ...        ...   \n",
       "2018-06-25  1.1702  0.004024          1  0.004644  0.002676         -1   \n",
       "2018-06-26  1.1645 -0.004883         -1  0.004024  0.004644         -1   \n",
       "2018-06-27  1.1552 -0.008018         -1 -0.004883  0.004024          1   \n",
       "2018-06-28  1.1567  0.001298          1 -0.008018 -0.004883         -1   \n",
       "2018-06-29  1.1683  0.009979          1  0.001298 -0.008018         -1   \n",
       "\n",
       "            pos_ols_2  strat_ols_1  strat_ols_2  pos_clus  \n",
       "Date                                                       \n",
       "2010-01-06         -1    -0.003058    -0.003058         1  \n",
       "2010-01-07          1     0.006544    -0.006544         0  \n",
       "2010-01-08          1     0.006544     0.006544         1  \n",
       "2010-01-11         -1    -0.006984    -0.006984         0  \n",
       "2010-01-12         -1     0.001310     0.001310         0  \n",
       "...               ...          ...          ...       ...  \n",
       "2018-06-25         -1    -0.004024    -0.004024         0  \n",
       "2018-06-26         -1     0.004883     0.004883         1  \n",
       "2018-06-27          1    -0.008018    -0.008018         1  \n",
       "2018-06-28          1    -0.001298     0.001298         1  \n",
       "2018-06-29          1    -0.009979     0.009979         0  \n",
       "\n",
       "[2213 rows x 10 columns]"
      ]
     },
     "execution_count": 31,
     "metadata": {},
     "output_type": "execute_result"
    }
   ],
   "source": [
    "data"
   ]
  },
  {
   "cell_type": "code",
   "execution_count": 32,
   "id": "4fa2056d",
   "metadata": {},
   "outputs": [
    {
     "data": {
      "text/plain": [
       "<matplotlib.lines.Line2D at 0x27327416e80>"
      ]
     },
     "execution_count": 32,
     "metadata": {},
     "output_type": "execute_result"
    },
    {
     "data": {
      "image/png": "[encoded data removed]",
      "text/plain": [
       "<Figure size 720x432 with 1 Axes>"
      ]
     },
     "metadata": {},
     "output_type": "display_data"
    }
   ],
   "source": [
    "plt.figure(figsize=(10,6))\n",
    "plt.scatter(data[cols].iloc[:,0],data[cols].iloc[:,1],c=data['pos_clus'],cmap='coolwarm')\n",
    "plt.axvline(0,c='red',ls='--')\n",
    "plt.axhline(0,c='r',ls='--')"
   ]
  },
  {
   "cell_type": "markdown",
   "id": "890437c4",
   "metadata": {},
   "source": [
    "# classification AIgorithms"
   ]
  },
  {
   "cell_type": "code",
   "execution_count": 33,
   "id": "2dcd41a1",
   "metadata": {},
   "outputs": [],
   "source": [
    "from sklearn import linear_model\n",
    "from sklearn.naive_bayes import GaussianNB\n",
    "from sklearn.svm import SVC"
   ]
  },
  {
   "cell_type": "code",
   "execution_count": 34,
   "id": "032438c3",
   "metadata": {},
   "outputs": [],
   "source": [
    "C=1"
   ]
  },
  {
   "cell_type": "code",
   "execution_count": 35,
   "id": "8ea30b41",
   "metadata": {},
   "outputs": [],
   "source": [
    "models={\n",
    "    'log_reg':linear_model.LogisticRegression(C=C),\n",
    "    'gauss_nb':GaussianNB(),\n",
    "    'svm':SVC(C=C)\n",
    "}"
   ]
  },
  {
   "cell_type": "code",
   "execution_count": 36,
   "id": "71ff2e3e",
   "metadata": {},
   "outputs": [],
   "source": [
    "def fit_models(data):\n",
    "    mfit={model:models[model].fit(data[cols_bin],data['direction'])for model in models.keys()}"
   ]
  },
  {
   "cell_type": "code",
   "execution_count": 37,
   "id": "bf434095",
   "metadata": {},
   "outputs": [],
   "source": [
    "def derive_positions(data):\n",
    "    for model in models.keys():\n",
    "        data['pos_'+model]=models[model].predict(data[cols_bin])"
   ]
  },
  {
   "cell_type": "code",
   "execution_count": 38,
   "id": "81571319",
   "metadata": {},
   "outputs": [],
   "source": [
    "def create_bins(data, bins=[0]):\n",
    "    global cols_bin\n",
    "    cols_bin = []\n",
    "    for col in cols:\n",
    "        col_bin = col + '_bin'\n",
    "        data[col_bin] = np.digitize(data[col], bins=bins)  \n",
    "        cols_bin.append(col_bin)"
   ]
  },
  {
   "cell_type": "code",
   "execution_count": 39,
   "id": "f9952d11",
   "metadata": {},
   "outputs": [
    {
     "data": {
      "text/plain": [
       "['lag_1_bin', 'lag_2_bin']"
      ]
     },
     "execution_count": 39,
     "metadata": {},
     "output_type": "execute_result"
    }
   ],
   "source": [
    "create_bins(data)\n",
    "cols_bin"
   ]
  },
  {
   "cell_type": "code",
   "execution_count": 40,
   "id": "a4438468",
   "metadata": {},
   "outputs": [],
   "source": [
    "fit_models(data)\n",
    "derive_positions(data)"
   ]
  },
  {
   "cell_type": "code",
   "execution_count": 41,
   "id": "2f4c1299",
   "metadata": {},
   "outputs": [
    {
     "data": {
      "text/html": [
       "<div>\n",
       "<style scoped>\n",
       "    .dataframe tbody tr th:only-of-type {\n",
       "        vertical-align: middle;\n",
       "    }\n",
       "\n",
       "    .dataframe tbody tr th {\n",
       "        vertical-align: top;\n",
       "    }\n",
       "\n",
       "    .dataframe thead th {\n",
       "        text-align: right;\n",
       "    }\n",
       "</style>\n",
       "<table border=\"1\" class=\"dataframe\">\n",
       "  <thead>\n",
       "    <tr style=\"text-align: right;\">\n",
       "      <th></th>\n",
       "      <th>EUR=</th>\n",
       "      <th>returns</th>\n",
       "      <th>direction</th>\n",
       "      <th>lag_1</th>\n",
       "      <th>lag_2</th>\n",
       "      <th>pos_ols_1</th>\n",
       "      <th>pos_ols_2</th>\n",
       "      <th>strat_ols_1</th>\n",
       "      <th>strat_ols_2</th>\n",
       "      <th>pos_clus</th>\n",
       "      <th>lag_1_bin</th>\n",
       "      <th>lag_2_bin</th>\n",
       "      <th>pos_log_reg</th>\n",
       "      <th>pos_gauss_nb</th>\n",
       "      <th>pos_svm</th>\n",
       "    </tr>\n",
       "    <tr>\n",
       "      <th>Date</th>\n",
       "      <th></th>\n",
       "      <th></th>\n",
       "      <th></th>\n",
       "      <th></th>\n",
       "      <th></th>\n",
       "      <th></th>\n",
       "      <th></th>\n",
       "      <th></th>\n",
       "      <th></th>\n",
       "      <th></th>\n",
       "      <th></th>\n",
       "      <th></th>\n",
       "      <th></th>\n",
       "      <th></th>\n",
       "      <th></th>\n",
       "    </tr>\n",
       "  </thead>\n",
       "  <tbody>\n",
       "    <tr>\n",
       "      <th>2010-01-06</th>\n",
       "      <td>1.4412</td>\n",
       "      <td>0.003058</td>\n",
       "      <td>1</td>\n",
       "      <td>-0.002988</td>\n",
       "      <td>0.006125</td>\n",
       "      <td>-1</td>\n",
       "      <td>-1</td>\n",
       "      <td>-0.003058</td>\n",
       "      <td>-0.003058</td>\n",
       "      <td>1</td>\n",
       "      <td>0</td>\n",
       "      <td>1</td>\n",
       "      <td>1</td>\n",
       "      <td>1</td>\n",
       "      <td>1</td>\n",
       "    </tr>\n",
       "    <tr>\n",
       "      <th>2010-01-07</th>\n",
       "      <td>1.4318</td>\n",
       "      <td>-0.006544</td>\n",
       "      <td>-1</td>\n",
       "      <td>0.003058</td>\n",
       "      <td>-0.002988</td>\n",
       "      <td>-1</td>\n",
       "      <td>1</td>\n",
       "      <td>0.006544</td>\n",
       "      <td>-0.006544</td>\n",
       "      <td>0</td>\n",
       "      <td>1</td>\n",
       "      <td>0</td>\n",
       "      <td>-1</td>\n",
       "      <td>-1</td>\n",
       "      <td>1</td>\n",
       "    </tr>\n",
       "    <tr>\n",
       "      <th>2010-01-08</th>\n",
       "      <td>1.4412</td>\n",
       "      <td>0.006544</td>\n",
       "      <td>1</td>\n",
       "      <td>-0.006544</td>\n",
       "      <td>0.003058</td>\n",
       "      <td>1</td>\n",
       "      <td>1</td>\n",
       "      <td>0.006544</td>\n",
       "      <td>0.006544</td>\n",
       "      <td>1</td>\n",
       "      <td>0</td>\n",
       "      <td>1</td>\n",
       "      <td>1</td>\n",
       "      <td>1</td>\n",
       "      <td>1</td>\n",
       "    </tr>\n",
       "    <tr>\n",
       "      <th>2010-01-11</th>\n",
       "      <td>1.4513</td>\n",
       "      <td>0.006984</td>\n",
       "      <td>1</td>\n",
       "      <td>0.006544</td>\n",
       "      <td>-0.006544</td>\n",
       "      <td>-1</td>\n",
       "      <td>-1</td>\n",
       "      <td>-0.006984</td>\n",
       "      <td>-0.006984</td>\n",
       "      <td>0</td>\n",
       "      <td>1</td>\n",
       "      <td>0</td>\n",
       "      <td>-1</td>\n",
       "      <td>-1</td>\n",
       "      <td>1</td>\n",
       "    </tr>\n",
       "    <tr>\n",
       "      <th>2010-01-12</th>\n",
       "      <td>1.4494</td>\n",
       "      <td>-0.001310</td>\n",
       "      <td>-1</td>\n",
       "      <td>0.006984</td>\n",
       "      <td>0.006544</td>\n",
       "      <td>-1</td>\n",
       "      <td>-1</td>\n",
       "      <td>0.001310</td>\n",
       "      <td>0.001310</td>\n",
       "      <td>0</td>\n",
       "      <td>1</td>\n",
       "      <td>1</td>\n",
       "      <td>-1</td>\n",
       "      <td>-1</td>\n",
       "      <td>-1</td>\n",
       "    </tr>\n",
       "    <tr>\n",
       "      <th>...</th>\n",
       "      <td>...</td>\n",
       "      <td>...</td>\n",
       "      <td>...</td>\n",
       "      <td>...</td>\n",
       "      <td>...</td>\n",
       "      <td>...</td>\n",
       "      <td>...</td>\n",
       "      <td>...</td>\n",
       "      <td>...</td>\n",
       "      <td>...</td>\n",
       "      <td>...</td>\n",
       "      <td>...</td>\n",
       "      <td>...</td>\n",
       "      <td>...</td>\n",
       "      <td>...</td>\n",
       "    </tr>\n",
       "    <tr>\n",
       "      <th>2018-06-25</th>\n",
       "      <td>1.1702</td>\n",
       "      <td>0.004024</td>\n",
       "      <td>1</td>\n",
       "      <td>0.004644</td>\n",
       "      <td>0.002676</td>\n",
       "      <td>-1</td>\n",
       "      <td>-1</td>\n",
       "      <td>-0.004024</td>\n",
       "      <td>-0.004024</td>\n",
       "      <td>0</td>\n",
       "      <td>1</td>\n",
       "      <td>1</td>\n",
       "      <td>-1</td>\n",
       "      <td>-1</td>\n",
       "      <td>-1</td>\n",
       "    </tr>\n",
       "    <tr>\n",
       "      <th>2018-06-26</th>\n",
       "      <td>1.1645</td>\n",
       "      <td>-0.004883</td>\n",
       "      <td>-1</td>\n",
       "      <td>0.004024</td>\n",
       "      <td>0.004644</td>\n",
       "      <td>-1</td>\n",
       "      <td>-1</td>\n",
       "      <td>0.004883</td>\n",
       "      <td>0.004883</td>\n",
       "      <td>1</td>\n",
       "      <td>1</td>\n",
       "      <td>1</td>\n",
       "      <td>-1</td>\n",
       "      <td>-1</td>\n",
       "      <td>-1</td>\n",
       "    </tr>\n",
       "    <tr>\n",
       "      <th>2018-06-27</th>\n",
       "      <td>1.1552</td>\n",
       "      <td>-0.008018</td>\n",
       "      <td>-1</td>\n",
       "      <td>-0.004883</td>\n",
       "      <td>0.004024</td>\n",
       "      <td>1</td>\n",
       "      <td>1</td>\n",
       "      <td>-0.008018</td>\n",
       "      <td>-0.008018</td>\n",
       "      <td>1</td>\n",
       "      <td>0</td>\n",
       "      <td>1</td>\n",
       "      <td>1</td>\n",
       "      <td>1</td>\n",
       "      <td>1</td>\n",
       "    </tr>\n",
       "    <tr>\n",
       "      <th>2018-06-28</th>\n",
       "      <td>1.1567</td>\n",
       "      <td>0.001298</td>\n",
       "      <td>1</td>\n",
       "      <td>-0.008018</td>\n",
       "      <td>-0.004883</td>\n",
       "      <td>-1</td>\n",
       "      <td>1</td>\n",
       "      <td>-0.001298</td>\n",
       "      <td>0.001298</td>\n",
       "      <td>1</td>\n",
       "      <td>0</td>\n",
       "      <td>0</td>\n",
       "      <td>1</td>\n",
       "      <td>1</td>\n",
       "      <td>1</td>\n",
       "    </tr>\n",
       "    <tr>\n",
       "      <th>2018-06-29</th>\n",
       "      <td>1.1683</td>\n",
       "      <td>0.009979</td>\n",
       "      <td>1</td>\n",
       "      <td>0.001298</td>\n",
       "      <td>-0.008018</td>\n",
       "      <td>-1</td>\n",
       "      <td>1</td>\n",
       "      <td>-0.009979</td>\n",
       "      <td>0.009979</td>\n",
       "      <td>0</td>\n",
       "      <td>1</td>\n",
       "      <td>0</td>\n",
       "      <td>-1</td>\n",
       "      <td>-1</td>\n",
       "      <td>1</td>\n",
       "    </tr>\n",
       "  </tbody>\n",
       "</table>\n",
       "<p>2213 rows × 15 columns</p>\n",
       "</div>"
      ],
      "text/plain": [
       "              EUR=   returns  direction     lag_1     lag_2  pos_ols_1  \\\n",
       "Date                                                                     \n",
       "2010-01-06  1.4412  0.003058          1 -0.002988  0.006125         -1   \n",
       "2010-01-07  1.4318 -0.006544         -1  0.003058 -0.002988         -1   \n",
       "2010-01-08  1.4412  0.006544          1 -0.006544  0.003058          1   \n",
       "2010-01-11  1.4513  0.006984          1  0.006544 -0.006544         -1   \n",
       "2010-01-12  1.4494 -0.001310         -1  0.006984  0.006544         -1   \n",
       "...            ...       ...        ...       ...       ...        ...   \n",
       "2018-06-25  1.1702  0.004024          1  0.004644  0.002676         -1   \n",
       "2018-06-26  1.1645 -0.004883         -1  0.004024  0.004644         -1   \n",
       "2018-06-27  1.1552 -0.008018         -1 -0.004883  0.004024          1   \n",
       "2018-06-28  1.1567  0.001298          1 -0.008018 -0.004883         -1   \n",
       "2018-06-29  1.1683  0.009979          1  0.001298 -0.008018         -1   \n",
       "\n",
       "            pos_ols_2  strat_ols_1  strat_ols_2  pos_clus  lag_1_bin  \\\n",
       "Date                                                                   \n",
       "2010-01-06         -1    -0.003058    -0.003058         1          0   \n",
       "2010-01-07          1     0.006544    -0.006544         0          1   \n",
       "2010-01-08          1     0.006544     0.006544         1          0   \n",
       "2010-01-11         -1    -0.006984    -0.006984         0          1   \n",
       "2010-01-12         -1     0.001310     0.001310         0          1   \n",
       "...               ...          ...          ...       ...        ...   \n",
       "2018-06-25         -1    -0.004024    -0.004024         0          1   \n",
       "2018-06-26         -1     0.004883     0.004883         1          1   \n",
       "2018-06-27          1    -0.008018    -0.008018         1          0   \n",
       "2018-06-28          1    -0.001298     0.001298         1          0   \n",
       "2018-06-29          1    -0.009979     0.009979         0          1   \n",
       "\n",
       "            lag_2_bin  pos_log_reg  pos_gauss_nb  pos_svm  \n",
       "Date                                                       \n",
       "2010-01-06          1            1             1        1  \n",
       "2010-01-07          0           -1            -1        1  \n",
       "2010-01-08          1            1             1        1  \n",
       "2010-01-11          0           -1            -1        1  \n",
       "2010-01-12          1           -1            -1       -1  \n",
       "...               ...          ...           ...      ...  \n",
       "2018-06-25          1           -1            -1       -1  \n",
       "2018-06-26          1           -1            -1       -1  \n",
       "2018-06-27          1            1             1        1  \n",
       "2018-06-28          0            1             1        1  \n",
       "2018-06-29          0           -1            -1        1  \n",
       "\n",
       "[2213 rows x 15 columns]"
      ]
     },
     "execution_count": 41,
     "metadata": {},
     "output_type": "execute_result"
    }
   ],
   "source": [
    "data"
   ]
  },
  {
   "cell_type": "code",
   "execution_count": 42,
   "id": "0dbb124c",
   "metadata": {},
   "outputs": [],
   "source": [
    "def evaluate_strats(data):\n",
    "    global sel\n",
    "    sel=[]\n",
    "    for model in models.keys():\n",
    "        col='strat_'+model\n",
    "        data[col]=data['pos_'+model]*data['returns']\n",
    "        sel.append(col)\n",
    "    sel.insert(0,'returns')"
   ]
  },
  {
   "cell_type": "code",
   "execution_count": 43,
   "id": "511028d4",
   "metadata": {},
   "outputs": [],
   "source": [
    "evaluate_strats(data)"
   ]
  },
  {
   "cell_type": "code",
   "execution_count": 44,
   "id": "03d82d18",
   "metadata": {},
   "outputs": [
    {
     "data": {
      "text/plain": [
       "['returns', 'strat_log_reg', 'strat_gauss_nb', 'strat_svm']"
      ]
     },
     "execution_count": 44,
     "metadata": {},
     "output_type": "execute_result"
    }
   ],
   "source": [
    "sel"
   ]
  },
  {
   "cell_type": "code",
   "execution_count": 45,
   "id": "0a5e32da",
   "metadata": {},
   "outputs": [
    {
     "data": {
      "text/html": [
       "<div>\n",
       "<style scoped>\n",
       "    .dataframe tbody tr th:only-of-type {\n",
       "        vertical-align: middle;\n",
       "    }\n",
       "\n",
       "    .dataframe tbody tr th {\n",
       "        vertical-align: top;\n",
       "    }\n",
       "\n",
       "    .dataframe thead th {\n",
       "        text-align: right;\n",
       "    }\n",
       "</style>\n",
       "<table border=\"1\" class=\"dataframe\">\n",
       "  <thead>\n",
       "    <tr style=\"text-align: right;\">\n",
       "      <th></th>\n",
       "      <th>EUR=</th>\n",
       "      <th>returns</th>\n",
       "      <th>direction</th>\n",
       "      <th>lag_1</th>\n",
       "      <th>lag_2</th>\n",
       "      <th>pos_ols_1</th>\n",
       "      <th>pos_ols_2</th>\n",
       "      <th>strat_ols_1</th>\n",
       "      <th>strat_ols_2</th>\n",
       "      <th>pos_clus</th>\n",
       "      <th>lag_1_bin</th>\n",
       "      <th>lag_2_bin</th>\n",
       "      <th>pos_log_reg</th>\n",
       "      <th>pos_gauss_nb</th>\n",
       "      <th>pos_svm</th>\n",
       "      <th>strat_log_reg</th>\n",
       "      <th>strat_gauss_nb</th>\n",
       "      <th>strat_svm</th>\n",
       "    </tr>\n",
       "    <tr>\n",
       "      <th>Date</th>\n",
       "      <th></th>\n",
       "      <th></th>\n",
       "      <th></th>\n",
       "      <th></th>\n",
       "      <th></th>\n",
       "      <th></th>\n",
       "      <th></th>\n",
       "      <th></th>\n",
       "      <th></th>\n",
       "      <th></th>\n",
       "      <th></th>\n",
       "      <th></th>\n",
       "      <th></th>\n",
       "      <th></th>\n",
       "      <th></th>\n",
       "      <th></th>\n",
       "      <th></th>\n",
       "      <th></th>\n",
       "    </tr>\n",
       "  </thead>\n",
       "  <tbody>\n",
       "    <tr>\n",
       "      <th>2010-01-06</th>\n",
       "      <td>1.4412</td>\n",
       "      <td>0.003058</td>\n",
       "      <td>1</td>\n",
       "      <td>-0.002988</td>\n",
       "      <td>0.006125</td>\n",
       "      <td>-1</td>\n",
       "      <td>-1</td>\n",
       "      <td>-0.003058</td>\n",
       "      <td>-0.003058</td>\n",
       "      <td>1</td>\n",
       "      <td>0</td>\n",
       "      <td>1</td>\n",
       "      <td>1</td>\n",
       "      <td>1</td>\n",
       "      <td>1</td>\n",
       "      <td>0.003058</td>\n",
       "      <td>0.003058</td>\n",
       "      <td>0.003058</td>\n",
       "    </tr>\n",
       "    <tr>\n",
       "      <th>2010-01-07</th>\n",
       "      <td>1.4318</td>\n",
       "      <td>-0.006544</td>\n",
       "      <td>-1</td>\n",
       "      <td>0.003058</td>\n",
       "      <td>-0.002988</td>\n",
       "      <td>-1</td>\n",
       "      <td>1</td>\n",
       "      <td>0.006544</td>\n",
       "      <td>-0.006544</td>\n",
       "      <td>0</td>\n",
       "      <td>1</td>\n",
       "      <td>0</td>\n",
       "      <td>-1</td>\n",
       "      <td>-1</td>\n",
       "      <td>1</td>\n",
       "      <td>0.006544</td>\n",
       "      <td>0.006544</td>\n",
       "      <td>-0.006544</td>\n",
       "    </tr>\n",
       "    <tr>\n",
       "      <th>2010-01-08</th>\n",
       "      <td>1.4412</td>\n",
       "      <td>0.006544</td>\n",
       "      <td>1</td>\n",
       "      <td>-0.006544</td>\n",
       "      <td>0.003058</td>\n",
       "      <td>1</td>\n",
       "      <td>1</td>\n",
       "      <td>0.006544</td>\n",
       "      <td>0.006544</td>\n",
       "      <td>1</td>\n",
       "      <td>0</td>\n",
       "      <td>1</td>\n",
       "      <td>1</td>\n",
       "      <td>1</td>\n",
       "      <td>1</td>\n",
       "      <td>0.006544</td>\n",
       "      <td>0.006544</td>\n",
       "      <td>0.006544</td>\n",
       "    </tr>\n",
       "    <tr>\n",
       "      <th>2010-01-11</th>\n",
       "      <td>1.4513</td>\n",
       "      <td>0.006984</td>\n",
       "      <td>1</td>\n",
       "      <td>0.006544</td>\n",
       "      <td>-0.006544</td>\n",
       "      <td>-1</td>\n",
       "      <td>-1</td>\n",
       "      <td>-0.006984</td>\n",
       "      <td>-0.006984</td>\n",
       "      <td>0</td>\n",
       "      <td>1</td>\n",
       "      <td>0</td>\n",
       "      <td>-1</td>\n",
       "      <td>-1</td>\n",
       "      <td>1</td>\n",
       "      <td>-0.006984</td>\n",
       "      <td>-0.006984</td>\n",
       "      <td>0.006984</td>\n",
       "    </tr>\n",
       "    <tr>\n",
       "      <th>2010-01-12</th>\n",
       "      <td>1.4494</td>\n",
       "      <td>-0.001310</td>\n",
       "      <td>-1</td>\n",
       "      <td>0.006984</td>\n",
       "      <td>0.006544</td>\n",
       "      <td>-1</td>\n",
       "      <td>-1</td>\n",
       "      <td>0.001310</td>\n",
       "      <td>0.001310</td>\n",
       "      <td>0</td>\n",
       "      <td>1</td>\n",
       "      <td>1</td>\n",
       "      <td>-1</td>\n",
       "      <td>-1</td>\n",
       "      <td>-1</td>\n",
       "      <td>0.001310</td>\n",
       "      <td>0.001310</td>\n",
       "      <td>0.001310</td>\n",
       "    </tr>\n",
       "    <tr>\n",
       "      <th>...</th>\n",
       "      <td>...</td>\n",
       "      <td>...</td>\n",
       "      <td>...</td>\n",
       "      <td>...</td>\n",
       "      <td>...</td>\n",
       "      <td>...</td>\n",
       "      <td>...</td>\n",
       "      <td>...</td>\n",
       "      <td>...</td>\n",
       "      <td>...</td>\n",
       "      <td>...</td>\n",
       "      <td>...</td>\n",
       "      <td>...</td>\n",
       "      <td>...</td>\n",
       "      <td>...</td>\n",
       "      <td>...</td>\n",
       "      <td>...</td>\n",
       "      <td>...</td>\n",
       "    </tr>\n",
       "    <tr>\n",
       "      <th>2018-06-25</th>\n",
       "      <td>1.1702</td>\n",
       "      <td>0.004024</td>\n",
       "      <td>1</td>\n",
       "      <td>0.004644</td>\n",
       "      <td>0.002676</td>\n",
       "      <td>-1</td>\n",
       "      <td>-1</td>\n",
       "      <td>-0.004024</td>\n",
       "      <td>-0.004024</td>\n",
       "      <td>0</td>\n",
       "      <td>1</td>\n",
       "      <td>1</td>\n",
       "      <td>-1</td>\n",
       "      <td>-1</td>\n",
       "      <td>-1</td>\n",
       "      <td>-0.004024</td>\n",
       "      <td>-0.004024</td>\n",
       "      <td>-0.004024</td>\n",
       "    </tr>\n",
       "    <tr>\n",
       "      <th>2018-06-26</th>\n",
       "      <td>1.1645</td>\n",
       "      <td>-0.004883</td>\n",
       "      <td>-1</td>\n",
       "      <td>0.004024</td>\n",
       "      <td>0.004644</td>\n",
       "      <td>-1</td>\n",
       "      <td>-1</td>\n",
       "      <td>0.004883</td>\n",
       "      <td>0.004883</td>\n",
       "      <td>1</td>\n",
       "      <td>1</td>\n",
       "      <td>1</td>\n",
       "      <td>-1</td>\n",
       "      <td>-1</td>\n",
       "      <td>-1</td>\n",
       "      <td>0.004883</td>\n",
       "      <td>0.004883</td>\n",
       "      <td>0.004883</td>\n",
       "    </tr>\n",
       "    <tr>\n",
       "      <th>2018-06-27</th>\n",
       "      <td>1.1552</td>\n",
       "      <td>-0.008018</td>\n",
       "      <td>-1</td>\n",
       "      <td>-0.004883</td>\n",
       "      <td>0.004024</td>\n",
       "      <td>1</td>\n",
       "      <td>1</td>\n",
       "      <td>-0.008018</td>\n",
       "      <td>-0.008018</td>\n",
       "      <td>1</td>\n",
       "      <td>0</td>\n",
       "      <td>1</td>\n",
       "      <td>1</td>\n",
       "      <td>1</td>\n",
       "      <td>1</td>\n",
       "      <td>-0.008018</td>\n",
       "      <td>-0.008018</td>\n",
       "      <td>-0.008018</td>\n",
       "    </tr>\n",
       "    <tr>\n",
       "      <th>2018-06-28</th>\n",
       "      <td>1.1567</td>\n",
       "      <td>0.001298</td>\n",
       "      <td>1</td>\n",
       "      <td>-0.008018</td>\n",
       "      <td>-0.004883</td>\n",
       "      <td>-1</td>\n",
       "      <td>1</td>\n",
       "      <td>-0.001298</td>\n",
       "      <td>0.001298</td>\n",
       "      <td>1</td>\n",
       "      <td>0</td>\n",
       "      <td>0</td>\n",
       "      <td>1</td>\n",
       "      <td>1</td>\n",
       "      <td>1</td>\n",
       "      <td>0.001298</td>\n",
       "      <td>0.001298</td>\n",
       "      <td>0.001298</td>\n",
       "    </tr>\n",
       "    <tr>\n",
       "      <th>2018-06-29</th>\n",
       "      <td>1.1683</td>\n",
       "      <td>0.009979</td>\n",
       "      <td>1</td>\n",
       "      <td>0.001298</td>\n",
       "      <td>-0.008018</td>\n",
       "      <td>-1</td>\n",
       "      <td>1</td>\n",
       "      <td>-0.009979</td>\n",
       "      <td>0.009979</td>\n",
       "      <td>0</td>\n",
       "      <td>1</td>\n",
       "      <td>0</td>\n",
       "      <td>-1</td>\n",
       "      <td>-1</td>\n",
       "      <td>1</td>\n",
       "      <td>-0.009979</td>\n",
       "      <td>-0.009979</td>\n",
       "      <td>0.009979</td>\n",
       "    </tr>\n",
       "  </tbody>\n",
       "</table>\n",
       "<p>2213 rows × 18 columns</p>\n",
       "</div>"
      ],
      "text/plain": [
       "              EUR=   returns  direction     lag_1     lag_2  pos_ols_1  \\\n",
       "Date                                                                     \n",
       "2010-01-06  1.4412  0.003058          1 -0.002988  0.006125         -1   \n",
       "2010-01-07  1.4318 -0.006544         -1  0.003058 -0.002988         -1   \n",
       "2010-01-08  1.4412  0.006544          1 -0.006544  0.003058          1   \n",
       "2010-01-11  1.4513  0.006984          1  0.006544 -0.006544         -1   \n",
       "2010-01-12  1.4494 -0.001310         -1  0.006984  0.006544         -1   \n",
       "...            ...       ...        ...       ...       ...        ...   \n",
       "2018-06-25  1.1702  0.004024          1  0.004644  0.002676         -1   \n",
       "2018-06-26  1.1645 -0.004883         -1  0.004024  0.004644         -1   \n",
       "2018-06-27  1.1552 -0.008018         -1 -0.004883  0.004024          1   \n",
       "2018-06-28  1.1567  0.001298          1 -0.008018 -0.004883         -1   \n",
       "2018-06-29  1.1683  0.009979          1  0.001298 -0.008018         -1   \n",
       "\n",
       "            pos_ols_2  strat_ols_1  strat_ols_2  pos_clus  lag_1_bin  \\\n",
       "Date                                                                   \n",
       "2010-01-06         -1    -0.003058    -0.003058         1          0   \n",
       "2010-01-07          1     0.006544    -0.006544         0          1   \n",
       "2010-01-08          1     0.006544     0.006544         1          0   \n",
       "2010-01-11         -1    -0.006984    -0.006984         0          1   \n",
       "2010-01-12         -1     0.001310     0.001310         0          1   \n",
       "...               ...          ...          ...       ...        ...   \n",
       "2018-06-25         -1    -0.004024    -0.004024         0          1   \n",
       "2018-06-26         -1     0.004883     0.004883         1          1   \n",
       "2018-06-27          1    -0.008018    -0.008018         1          0   \n",
       "2018-06-28          1    -0.001298     0.001298         1          0   \n",
       "2018-06-29          1    -0.009979     0.009979         0          1   \n",
       "\n",
       "            lag_2_bin  pos_log_reg  pos_gauss_nb  pos_svm  strat_log_reg  \\\n",
       "Date                                                                       \n",
       "2010-01-06          1            1             1        1       0.003058   \n",
       "2010-01-07          0           -1            -1        1       0.006544   \n",
       "2010-01-08          1            1             1        1       0.006544   \n",
       "2010-01-11          0           -1            -1        1      -0.006984   \n",
       "2010-01-12          1           -1            -1       -1       0.001310   \n",
       "...               ...          ...           ...      ...            ...   \n",
       "2018-06-25          1           -1            -1       -1      -0.004024   \n",
       "2018-06-26          1           -1            -1       -1       0.004883   \n",
       "2018-06-27          1            1             1        1      -0.008018   \n",
       "2018-06-28          0            1             1        1       0.001298   \n",
       "2018-06-29          0           -1            -1        1      -0.009979   \n",
       "\n",
       "            strat_gauss_nb  strat_svm  \n",
       "Date                                   \n",
       "2010-01-06        0.003058   0.003058  \n",
       "2010-01-07        0.006544  -0.006544  \n",
       "2010-01-08        0.006544   0.006544  \n",
       "2010-01-11       -0.006984   0.006984  \n",
       "2010-01-12        0.001310   0.001310  \n",
       "...                    ...        ...  \n",
       "2018-06-25       -0.004024  -0.004024  \n",
       "2018-06-26        0.004883   0.004883  \n",
       "2018-06-27       -0.008018  -0.008018  \n",
       "2018-06-28        0.001298   0.001298  \n",
       "2018-06-29       -0.009979   0.009979  \n",
       "\n",
       "[2213 rows x 18 columns]"
      ]
     },
     "execution_count": 45,
     "metadata": {},
     "output_type": "execute_result"
    }
   ],
   "source": [
    "data"
   ]
  },
  {
   "cell_type": "code",
   "execution_count": 46,
   "id": "a8756a2c",
   "metadata": {},
   "outputs": [
    {
     "data": {
      "text/plain": [
       "returns           0.813126\n",
       "strat_log_reg     1.385460\n",
       "strat_gauss_nb    1.385460\n",
       "strat_svm         1.016673\n",
       "dtype: float64"
      ]
     },
     "execution_count": 46,
     "metadata": {},
     "output_type": "execute_result"
    }
   ],
   "source": [
    "data[sel].sum().apply(np.exp)"
   ]
  },
  {
   "cell_type": "code",
   "execution_count": 47,
   "id": "0b03d872",
   "metadata": {},
   "outputs": [
    {
     "data": {
      "text/plain": [
       "<AxesSubplot:xlabel='Date'>"
      ]
     },
     "execution_count": 47,
     "metadata": {},
     "output_type": "execute_result"
    },
    {
     "data": {
      "image/png": "[encoded data removed]",
      "text/plain": [
       "<Figure size 720x432 with 1 Axes>"
      ]
     },
     "metadata": {},
     "output_type": "display_data"
    }
   ],
   "source": [
    "data[sel].cumsum().apply(np.exp).plot(figsize=(10,6))"
   ]
  },
  {
   "cell_type": "markdown",
   "id": "a43d01bb",
   "metadata": {},
   "source": [
    "# five binary features"
   ]
  },
  {
   "cell_type": "code",
   "execution_count": 48,
   "id": "2796a5fb",
   "metadata": {},
   "outputs": [
    {
     "data": {
      "text/html": [
       "<div>\n",
       "<style scoped>\n",
       "    .dataframe tbody tr th:only-of-type {\n",
       "        vertical-align: middle;\n",
       "    }\n",
       "\n",
       "    .dataframe tbody tr th {\n",
       "        vertical-align: top;\n",
       "    }\n",
       "\n",
       "    .dataframe thead th {\n",
       "        text-align: right;\n",
       "    }\n",
       "</style>\n",
       "<table border=\"1\" class=\"dataframe\">\n",
       "  <thead>\n",
       "    <tr style=\"text-align: right;\">\n",
       "      <th></th>\n",
       "      <th>EUR=</th>\n",
       "    </tr>\n",
       "    <tr>\n",
       "      <th>Date</th>\n",
       "      <th></th>\n",
       "    </tr>\n",
       "  </thead>\n",
       "  <tbody>\n",
       "    <tr>\n",
       "      <th>2010-01-01</th>\n",
       "      <td>1.4323</td>\n",
       "    </tr>\n",
       "    <tr>\n",
       "      <th>2010-01-04</th>\n",
       "      <td>1.4411</td>\n",
       "    </tr>\n",
       "    <tr>\n",
       "      <th>2010-01-05</th>\n",
       "      <td>1.4368</td>\n",
       "    </tr>\n",
       "    <tr>\n",
       "      <th>2010-01-06</th>\n",
       "      <td>1.4412</td>\n",
       "    </tr>\n",
       "    <tr>\n",
       "      <th>2010-01-07</th>\n",
       "      <td>1.4318</td>\n",
       "    </tr>\n",
       "    <tr>\n",
       "      <th>...</th>\n",
       "      <td>...</td>\n",
       "    </tr>\n",
       "    <tr>\n",
       "      <th>2018-06-25</th>\n",
       "      <td>1.1702</td>\n",
       "    </tr>\n",
       "    <tr>\n",
       "      <th>2018-06-26</th>\n",
       "      <td>1.1645</td>\n",
       "    </tr>\n",
       "    <tr>\n",
       "      <th>2018-06-27</th>\n",
       "      <td>1.1552</td>\n",
       "    </tr>\n",
       "    <tr>\n",
       "      <th>2018-06-28</th>\n",
       "      <td>1.1567</td>\n",
       "    </tr>\n",
       "    <tr>\n",
       "      <th>2018-06-29</th>\n",
       "      <td>1.1683</td>\n",
       "    </tr>\n",
       "  </tbody>\n",
       "</table>\n",
       "<p>2216 rows × 1 columns</p>\n",
       "</div>"
      ],
      "text/plain": [
       "              EUR=\n",
       "Date              \n",
       "2010-01-01  1.4323\n",
       "2010-01-04  1.4411\n",
       "2010-01-05  1.4368\n",
       "2010-01-06  1.4412\n",
       "2010-01-07  1.4318\n",
       "...            ...\n",
       "2018-06-25  1.1702\n",
       "2018-06-26  1.1645\n",
       "2018-06-27  1.1552\n",
       "2018-06-28  1.1567\n",
       "2018-06-29  1.1683\n",
       "\n",
       "[2216 rows x 1 columns]"
      ]
     },
     "execution_count": 48,
     "metadata": {},
     "output_type": "execute_result"
    }
   ],
   "source": [
    "data=pd.DataFrame(raw[symbol])\n",
    "data"
   ]
  },
  {
   "cell_type": "code",
   "execution_count": 49,
   "id": "79534bc7",
   "metadata": {},
   "outputs": [
    {
     "data": {
      "text/html": [
       "<div>\n",
       "<style scoped>\n",
       "    .dataframe tbody tr th:only-of-type {\n",
       "        vertical-align: middle;\n",
       "    }\n",
       "\n",
       "    .dataframe tbody tr th {\n",
       "        vertical-align: top;\n",
       "    }\n",
       "\n",
       "    .dataframe thead th {\n",
       "        text-align: right;\n",
       "    }\n",
       "</style>\n",
       "<table border=\"1\" class=\"dataframe\">\n",
       "  <thead>\n",
       "    <tr style=\"text-align: right;\">\n",
       "      <th></th>\n",
       "      <th>EUR=</th>\n",
       "      <th>returns</th>\n",
       "      <th>direction</th>\n",
       "    </tr>\n",
       "    <tr>\n",
       "      <th>Date</th>\n",
       "      <th></th>\n",
       "      <th></th>\n",
       "      <th></th>\n",
       "    </tr>\n",
       "  </thead>\n",
       "  <tbody>\n",
       "    <tr>\n",
       "      <th>2010-01-01</th>\n",
       "      <td>1.4323</td>\n",
       "      <td>NaN</td>\n",
       "      <td>NaN</td>\n",
       "    </tr>\n",
       "    <tr>\n",
       "      <th>2010-01-04</th>\n",
       "      <td>1.4411</td>\n",
       "      <td>0.006125</td>\n",
       "      <td>1.0</td>\n",
       "    </tr>\n",
       "    <tr>\n",
       "      <th>2010-01-05</th>\n",
       "      <td>1.4368</td>\n",
       "      <td>-0.002988</td>\n",
       "      <td>-1.0</td>\n",
       "    </tr>\n",
       "    <tr>\n",
       "      <th>2010-01-06</th>\n",
       "      <td>1.4412</td>\n",
       "      <td>0.003058</td>\n",
       "      <td>1.0</td>\n",
       "    </tr>\n",
       "    <tr>\n",
       "      <th>2010-01-07</th>\n",
       "      <td>1.4318</td>\n",
       "      <td>-0.006544</td>\n",
       "      <td>-1.0</td>\n",
       "    </tr>\n",
       "    <tr>\n",
       "      <th>...</th>\n",
       "      <td>...</td>\n",
       "      <td>...</td>\n",
       "      <td>...</td>\n",
       "    </tr>\n",
       "    <tr>\n",
       "      <th>2018-06-25</th>\n",
       "      <td>1.1702</td>\n",
       "      <td>0.004024</td>\n",
       "      <td>1.0</td>\n",
       "    </tr>\n",
       "    <tr>\n",
       "      <th>2018-06-26</th>\n",
       "      <td>1.1645</td>\n",
       "      <td>-0.004883</td>\n",
       "      <td>-1.0</td>\n",
       "    </tr>\n",
       "    <tr>\n",
       "      <th>2018-06-27</th>\n",
       "      <td>1.1552</td>\n",
       "      <td>-0.008018</td>\n",
       "      <td>-1.0</td>\n",
       "    </tr>\n",
       "    <tr>\n",
       "      <th>2018-06-28</th>\n",
       "      <td>1.1567</td>\n",
       "      <td>0.001298</td>\n",
       "      <td>1.0</td>\n",
       "    </tr>\n",
       "    <tr>\n",
       "      <th>2018-06-29</th>\n",
       "      <td>1.1683</td>\n",
       "      <td>0.009979</td>\n",
       "      <td>1.0</td>\n",
       "    </tr>\n",
       "  </tbody>\n",
       "</table>\n",
       "<p>2216 rows × 3 columns</p>\n",
       "</div>"
      ],
      "text/plain": [
       "              EUR=   returns  direction\n",
       "Date                                   \n",
       "2010-01-01  1.4323       NaN        NaN\n",
       "2010-01-04  1.4411  0.006125        1.0\n",
       "2010-01-05  1.4368 -0.002988       -1.0\n",
       "2010-01-06  1.4412  0.003058        1.0\n",
       "2010-01-07  1.4318 -0.006544       -1.0\n",
       "...            ...       ...        ...\n",
       "2018-06-25  1.1702  0.004024        1.0\n",
       "2018-06-26  1.1645 -0.004883       -1.0\n",
       "2018-06-27  1.1552 -0.008018       -1.0\n",
       "2018-06-28  1.1567  0.001298        1.0\n",
       "2018-06-29  1.1683  0.009979        1.0\n",
       "\n",
       "[2216 rows x 3 columns]"
      ]
     },
     "execution_count": 49,
     "metadata": {},
     "output_type": "execute_result"
    }
   ],
   "source": [
    "data['returns']=np.log(data/data.shift(1))\n",
    "data['direction']=np.sign(data['returns'])\n",
    "data"
   ]
  },
  {
   "cell_type": "code",
   "execution_count": 51,
   "id": "940f31d5",
   "metadata": {},
   "outputs": [],
   "source": [
    "lags=5\n",
    "create_lag(data)\n",
    "data.dropna(inplace=True)"
   ]
  },
  {
   "cell_type": "code",
   "execution_count": 52,
   "id": "f22fdbde",
   "metadata": {},
   "outputs": [
    {
     "data": {
      "text/html": [
       "<div>\n",
       "<style scoped>\n",
       "    .dataframe tbody tr th:only-of-type {\n",
       "        vertical-align: middle;\n",
       "    }\n",
       "\n",
       "    .dataframe tbody tr th {\n",
       "        vertical-align: top;\n",
       "    }\n",
       "\n",
       "    .dataframe thead th {\n",
       "        text-align: right;\n",
       "    }\n",
       "</style>\n",
       "<table border=\"1\" class=\"dataframe\">\n",
       "  <thead>\n",
       "    <tr style=\"text-align: right;\">\n",
       "      <th></th>\n",
       "      <th>EUR=</th>\n",
       "      <th>returns</th>\n",
       "      <th>direction</th>\n",
       "      <th>lag_1</th>\n",
       "      <th>lag_2</th>\n",
       "      <th>lag_3</th>\n",
       "      <th>lag_4</th>\n",
       "      <th>lag_5</th>\n",
       "    </tr>\n",
       "    <tr>\n",
       "      <th>Date</th>\n",
       "      <th></th>\n",
       "      <th></th>\n",
       "      <th></th>\n",
       "      <th></th>\n",
       "      <th></th>\n",
       "      <th></th>\n",
       "      <th></th>\n",
       "      <th></th>\n",
       "    </tr>\n",
       "  </thead>\n",
       "  <tbody>\n",
       "    <tr>\n",
       "      <th>2010-01-11</th>\n",
       "      <td>1.4513</td>\n",
       "      <td>0.006984</td>\n",
       "      <td>1.0</td>\n",
       "      <td>0.006544</td>\n",
       "      <td>-0.006544</td>\n",
       "      <td>0.003058</td>\n",
       "      <td>-0.002988</td>\n",
       "      <td>0.006125</td>\n",
       "    </tr>\n",
       "    <tr>\n",
       "      <th>2010-01-12</th>\n",
       "      <td>1.4494</td>\n",
       "      <td>-0.001310</td>\n",
       "      <td>-1.0</td>\n",
       "      <td>0.006984</td>\n",
       "      <td>0.006544</td>\n",
       "      <td>-0.006544</td>\n",
       "      <td>0.003058</td>\n",
       "      <td>-0.002988</td>\n",
       "    </tr>\n",
       "    <tr>\n",
       "      <th>2010-01-13</th>\n",
       "      <td>1.4510</td>\n",
       "      <td>0.001103</td>\n",
       "      <td>1.0</td>\n",
       "      <td>-0.001310</td>\n",
       "      <td>0.006984</td>\n",
       "      <td>0.006544</td>\n",
       "      <td>-0.006544</td>\n",
       "      <td>0.003058</td>\n",
       "    </tr>\n",
       "    <tr>\n",
       "      <th>2010-01-14</th>\n",
       "      <td>1.4502</td>\n",
       "      <td>-0.000551</td>\n",
       "      <td>-1.0</td>\n",
       "      <td>0.001103</td>\n",
       "      <td>-0.001310</td>\n",
       "      <td>0.006984</td>\n",
       "      <td>0.006544</td>\n",
       "      <td>-0.006544</td>\n",
       "    </tr>\n",
       "    <tr>\n",
       "      <th>2010-01-15</th>\n",
       "      <td>1.4382</td>\n",
       "      <td>-0.008309</td>\n",
       "      <td>-1.0</td>\n",
       "      <td>-0.000551</td>\n",
       "      <td>0.001103</td>\n",
       "      <td>-0.001310</td>\n",
       "      <td>0.006984</td>\n",
       "      <td>0.006544</td>\n",
       "    </tr>\n",
       "    <tr>\n",
       "      <th>...</th>\n",
       "      <td>...</td>\n",
       "      <td>...</td>\n",
       "      <td>...</td>\n",
       "      <td>...</td>\n",
       "      <td>...</td>\n",
       "      <td>...</td>\n",
       "      <td>...</td>\n",
       "      <td>...</td>\n",
       "    </tr>\n",
       "    <tr>\n",
       "      <th>2018-06-25</th>\n",
       "      <td>1.1702</td>\n",
       "      <td>0.004024</td>\n",
       "      <td>1.0</td>\n",
       "      <td>0.004644</td>\n",
       "      <td>0.002676</td>\n",
       "      <td>-0.001555</td>\n",
       "      <td>-0.002930</td>\n",
       "      <td>0.001291</td>\n",
       "    </tr>\n",
       "    <tr>\n",
       "      <th>2018-06-26</th>\n",
       "      <td>1.1645</td>\n",
       "      <td>-0.004883</td>\n",
       "      <td>-1.0</td>\n",
       "      <td>0.004024</td>\n",
       "      <td>0.004644</td>\n",
       "      <td>0.002676</td>\n",
       "      <td>-0.001555</td>\n",
       "      <td>-0.002930</td>\n",
       "    </tr>\n",
       "    <tr>\n",
       "      <th>2018-06-27</th>\n",
       "      <td>1.1552</td>\n",
       "      <td>-0.008018</td>\n",
       "      <td>-1.0</td>\n",
       "      <td>-0.004883</td>\n",
       "      <td>0.004024</td>\n",
       "      <td>0.004644</td>\n",
       "      <td>0.002676</td>\n",
       "      <td>-0.001555</td>\n",
       "    </tr>\n",
       "    <tr>\n",
       "      <th>2018-06-28</th>\n",
       "      <td>1.1567</td>\n",
       "      <td>0.001298</td>\n",
       "      <td>1.0</td>\n",
       "      <td>-0.008018</td>\n",
       "      <td>-0.004883</td>\n",
       "      <td>0.004024</td>\n",
       "      <td>0.004644</td>\n",
       "      <td>0.002676</td>\n",
       "    </tr>\n",
       "    <tr>\n",
       "      <th>2018-06-29</th>\n",
       "      <td>1.1683</td>\n",
       "      <td>0.009979</td>\n",
       "      <td>1.0</td>\n",
       "      <td>0.001298</td>\n",
       "      <td>-0.008018</td>\n",
       "      <td>-0.004883</td>\n",
       "      <td>0.004024</td>\n",
       "      <td>0.004644</td>\n",
       "    </tr>\n",
       "  </tbody>\n",
       "</table>\n",
       "<p>2210 rows × 8 columns</p>\n",
       "</div>"
      ],
      "text/plain": [
       "              EUR=   returns  direction     lag_1     lag_2     lag_3  \\\n",
       "Date                                                                    \n",
       "2010-01-11  1.4513  0.006984        1.0  0.006544 -0.006544  0.003058   \n",
       "2010-01-12  1.4494 -0.001310       -1.0  0.006984  0.006544 -0.006544   \n",
       "2010-01-13  1.4510  0.001103        1.0 -0.001310  0.006984  0.006544   \n",
       "2010-01-14  1.4502 -0.000551       -1.0  0.001103 -0.001310  0.006984   \n",
       "2010-01-15  1.4382 -0.008309       -1.0 -0.000551  0.001103 -0.001310   \n",
       "...            ...       ...        ...       ...       ...       ...   \n",
       "2018-06-25  1.1702  0.004024        1.0  0.004644  0.002676 -0.001555   \n",
       "2018-06-26  1.1645 -0.004883       -1.0  0.004024  0.004644  0.002676   \n",
       "2018-06-27  1.1552 -0.008018       -1.0 -0.004883  0.004024  0.004644   \n",
       "2018-06-28  1.1567  0.001298        1.0 -0.008018 -0.004883  0.004024   \n",
       "2018-06-29  1.1683  0.009979        1.0  0.001298 -0.008018 -0.004883   \n",
       "\n",
       "               lag_4     lag_5  \n",
       "Date                            \n",
       "2010-01-11 -0.002988  0.006125  \n",
       "2010-01-12  0.003058 -0.002988  \n",
       "2010-01-13 -0.006544  0.003058  \n",
       "2010-01-14  0.006544 -0.006544  \n",
       "2010-01-15  0.006984  0.006544  \n",
       "...              ...       ...  \n",
       "2018-06-25 -0.002930  0.001291  \n",
       "2018-06-26 -0.001555 -0.002930  \n",
       "2018-06-27  0.002676 -0.001555  \n",
       "2018-06-28  0.004644  0.002676  \n",
       "2018-06-29  0.004024  0.004644  \n",
       "\n",
       "[2210 rows x 8 columns]"
      ]
     },
     "execution_count": 52,
     "metadata": {},
     "output_type": "execute_result"
    }
   ],
   "source": [
    "data"
   ]
  },
  {
   "cell_type": "code",
   "execution_count": 53,
   "id": "19d71835",
   "metadata": {},
   "outputs": [
    {
     "data": {
      "text/plain": [
       "['lag_1_bin', 'lag_2_bin', 'lag_3_bin', 'lag_4_bin', 'lag_5_bin']"
      ]
     },
     "execution_count": 53,
     "metadata": {},
     "output_type": "execute_result"
    }
   ],
   "source": [
    "create_bins(data)\n",
    "cols_bin"
   ]
  },
  {
   "cell_type": "code",
   "execution_count": 54,
   "id": "7aa8c7d8",
   "metadata": {},
   "outputs": [],
   "source": [
    "data.dropna(inplace=True)\n",
    "fit_models(data)\n"
   ]
  },
  {
   "cell_type": "code",
   "execution_count": 57,
   "id": "a74ccba1",
   "metadata": {},
   "outputs": [],
   "source": [
    "derive_positions(data)\n",
    "evaluate_strats(data)"
   ]
  },
  {
   "cell_type": "code",
   "execution_count": 58,
   "id": "a2609c27",
   "metadata": {},
   "outputs": [
    {
     "data": {
      "text/plain": [
       "returns           0.810644\n",
       "strat_log_reg     1.191997\n",
       "strat_gauss_nb    1.191997\n",
       "strat_svm         2.364393\n",
       "dtype: float64"
      ]
     },
     "execution_count": 58,
     "metadata": {},
     "output_type": "execute_result"
    }
   ],
   "source": [
    "data[sel].sum().apply(np.exp)"
   ]
  },
  {
   "cell_type": "code",
   "execution_count": 59,
   "id": "c3e9ba85",
   "metadata": {},
   "outputs": [
    {
     "data": {
      "text/plain": [
       "0.5149321266968325"
      ]
     },
     "execution_count": 59,
     "metadata": {},
     "output_type": "execute_result"
    }
   ],
   "source": [
    "(data['direction']==data['pos_log_reg']).mean()"
   ]
  },
  {
   "cell_type": "code",
   "execution_count": 60,
   "id": "59fa71db",
   "metadata": {},
   "outputs": [
    {
     "data": {
      "text/plain": [
       "0.5149321266968325"
      ]
     },
     "execution_count": 60,
     "metadata": {},
     "output_type": "execute_result"
    }
   ],
   "source": [
    "(data['direction']==data['pos_gauss_nb']).mean()"
   ]
  },
  {
   "cell_type": "code",
   "execution_count": 61,
   "id": "36d8adbc",
   "metadata": {},
   "outputs": [
    {
     "data": {
      "text/plain": [
       "0.5447963800904977"
      ]
     },
     "execution_count": 61,
     "metadata": {},
     "output_type": "execute_result"
    }
   ],
   "source": [
    "(data['direction']==data['pos_svm']).mean()"
   ]
  },
  {
   "cell_type": "code",
   "execution_count": 63,
   "id": "63d55eeb",
   "metadata": {},
   "outputs": [
    {
     "data": {
      "text/plain": [
       "<AxesSubplot:xlabel='Date'>"
      ]
     },
     "execution_count": 63,
     "metadata": {},
     "output_type": "execute_result"
    },
    {
     "data": {
      "image/png": "[encoded data removed]",
      "text/plain": [
       "<Figure size 720x432 with 1 Axes>"
      ]
     },
     "metadata": {},
     "output_type": "display_data"
    }
   ],
   "source": [
    "data[sel].cumsum().apply(np.exp).plot(figsize=(10,6))"
   ]
  },
  {
   "cell_type": "markdown",
   "id": "9a0f211d",
   "metadata": {},
   "source": [
    "# five digitized features 回归为1,2,3,0"
   ]
  },
  {
   "cell_type": "code",
   "execution_count": 64,
   "id": "97298a1c",
   "metadata": {},
   "outputs": [],
   "source": [
    "mu=data['returns'].mean()\n",
    "v=data['returns'].std()"
   ]
  },
  {
   "cell_type": "code",
   "execution_count": 65,
   "id": "d5cd40f5",
   "metadata": {},
   "outputs": [
    {
     "data": {
      "text/plain": [
       "[-0.005924269398870448, -9.498932088272987e-05, 0.005734290757104988]"
      ]
     },
     "execution_count": 65,
     "metadata": {},
     "output_type": "execute_result"
    }
   ],
   "source": [
    "bins=[mu-v,mu,mu+v]\n",
    "bins"
   ]
  },
  {
   "cell_type": "code",
   "execution_count": 66,
   "id": "295850d7",
   "metadata": {},
   "outputs": [],
   "source": [
    "create_bins(data,bins)"
   ]
  },
  {
   "cell_type": "code",
   "execution_count": 67,
   "id": "2de59034",
   "metadata": {},
   "outputs": [
    {
     "data": {
      "text/html": [
       "<div>\n",
       "<style scoped>\n",
       "    .dataframe tbody tr th:only-of-type {\n",
       "        vertical-align: middle;\n",
       "    }\n",
       "\n",
       "    .dataframe tbody tr th {\n",
       "        vertical-align: top;\n",
       "    }\n",
       "\n",
       "    .dataframe thead th {\n",
       "        text-align: right;\n",
       "    }\n",
       "</style>\n",
       "<table border=\"1\" class=\"dataframe\">\n",
       "  <thead>\n",
       "    <tr style=\"text-align: right;\">\n",
       "      <th></th>\n",
       "      <th>lag_1_bin</th>\n",
       "      <th>lag_2_bin</th>\n",
       "      <th>lag_3_bin</th>\n",
       "      <th>lag_4_bin</th>\n",
       "      <th>lag_5_bin</th>\n",
       "    </tr>\n",
       "    <tr>\n",
       "      <th>Date</th>\n",
       "      <th></th>\n",
       "      <th></th>\n",
       "      <th></th>\n",
       "      <th></th>\n",
       "      <th></th>\n",
       "    </tr>\n",
       "  </thead>\n",
       "  <tbody>\n",
       "    <tr>\n",
       "      <th>2010-01-11</th>\n",
       "      <td>3</td>\n",
       "      <td>0</td>\n",
       "      <td>2</td>\n",
       "      <td>1</td>\n",
       "      <td>3</td>\n",
       "    </tr>\n",
       "    <tr>\n",
       "      <th>2010-01-12</th>\n",
       "      <td>3</td>\n",
       "      <td>3</td>\n",
       "      <td>0</td>\n",
       "      <td>2</td>\n",
       "      <td>1</td>\n",
       "    </tr>\n",
       "    <tr>\n",
       "      <th>2010-01-13</th>\n",
       "      <td>1</td>\n",
       "      <td>3</td>\n",
       "      <td>3</td>\n",
       "      <td>0</td>\n",
       "      <td>2</td>\n",
       "    </tr>\n",
       "    <tr>\n",
       "      <th>2010-01-14</th>\n",
       "      <td>2</td>\n",
       "      <td>1</td>\n",
       "      <td>3</td>\n",
       "      <td>3</td>\n",
       "      <td>0</td>\n",
       "    </tr>\n",
       "    <tr>\n",
       "      <th>2010-01-15</th>\n",
       "      <td>1</td>\n",
       "      <td>2</td>\n",
       "      <td>1</td>\n",
       "      <td>3</td>\n",
       "      <td>3</td>\n",
       "    </tr>\n",
       "    <tr>\n",
       "      <th>...</th>\n",
       "      <td>...</td>\n",
       "      <td>...</td>\n",
       "      <td>...</td>\n",
       "      <td>...</td>\n",
       "      <td>...</td>\n",
       "    </tr>\n",
       "    <tr>\n",
       "      <th>2018-06-25</th>\n",
       "      <td>2</td>\n",
       "      <td>2</td>\n",
       "      <td>1</td>\n",
       "      <td>1</td>\n",
       "      <td>2</td>\n",
       "    </tr>\n",
       "    <tr>\n",
       "      <th>2018-06-26</th>\n",
       "      <td>2</td>\n",
       "      <td>2</td>\n",
       "      <td>2</td>\n",
       "      <td>1</td>\n",
       "      <td>1</td>\n",
       "    </tr>\n",
       "    <tr>\n",
       "      <th>2018-06-27</th>\n",
       "      <td>1</td>\n",
       "      <td>2</td>\n",
       "      <td>2</td>\n",
       "      <td>2</td>\n",
       "      <td>1</td>\n",
       "    </tr>\n",
       "    <tr>\n",
       "      <th>2018-06-28</th>\n",
       "      <td>0</td>\n",
       "      <td>1</td>\n",
       "      <td>2</td>\n",
       "      <td>2</td>\n",
       "      <td>2</td>\n",
       "    </tr>\n",
       "    <tr>\n",
       "      <th>2018-06-29</th>\n",
       "      <td>2</td>\n",
       "      <td>0</td>\n",
       "      <td>1</td>\n",
       "      <td>2</td>\n",
       "      <td>2</td>\n",
       "    </tr>\n",
       "  </tbody>\n",
       "</table>\n",
       "<p>2210 rows × 5 columns</p>\n",
       "</div>"
      ],
      "text/plain": [
       "            lag_1_bin  lag_2_bin  lag_3_bin  lag_4_bin  lag_5_bin\n",
       "Date                                                             \n",
       "2010-01-11          3          0          2          1          3\n",
       "2010-01-12          3          3          0          2          1\n",
       "2010-01-13          1          3          3          0          2\n",
       "2010-01-14          2          1          3          3          0\n",
       "2010-01-15          1          2          1          3          3\n",
       "...               ...        ...        ...        ...        ...\n",
       "2018-06-25          2          2          1          1          2\n",
       "2018-06-26          2          2          2          1          1\n",
       "2018-06-27          1          2          2          2          1\n",
       "2018-06-28          0          1          2          2          2\n",
       "2018-06-29          2          0          1          2          2\n",
       "\n",
       "[2210 rows x 5 columns]"
      ]
     },
     "execution_count": 67,
     "metadata": {},
     "output_type": "execute_result"
    }
   ],
   "source": [
    "data[cols_bin]"
   ]
  },
  {
   "cell_type": "code",
   "execution_count": 68,
   "id": "e686523a",
   "metadata": {},
   "outputs": [],
   "source": [
    "fit_models(data)\n",
    "derive_positions(data)\n",
    "evaluate_strats(data)"
   ]
  },
  {
   "cell_type": "code",
   "execution_count": 69,
   "id": "4eeb6126",
   "metadata": {},
   "outputs": [
    {
     "data": {
      "text/plain": [
       "returns           0.810644\n",
       "strat_log_reg     1.520599\n",
       "strat_gauss_nb    1.437281\n",
       "strat_svm         5.815787\n",
       "dtype: float64"
      ]
     },
     "execution_count": 69,
     "metadata": {},
     "output_type": "execute_result"
    }
   ],
   "source": [
    "data[sel].sum().apply(np.exp)"
   ]
  },
  {
   "cell_type": "code",
   "execution_count": 70,
   "id": "34ba3f96",
   "metadata": {},
   "outputs": [
    {
     "data": {
      "text/html": [
       "<div>\n",
       "<style scoped>\n",
       "    .dataframe tbody tr th:only-of-type {\n",
       "        vertical-align: middle;\n",
       "    }\n",
       "\n",
       "    .dataframe tbody tr th {\n",
       "        vertical-align: top;\n",
       "    }\n",
       "\n",
       "    .dataframe thead th {\n",
       "        text-align: right;\n",
       "    }\n",
       "</style>\n",
       "<table border=\"1\" class=\"dataframe\">\n",
       "  <thead>\n",
       "    <tr style=\"text-align: right;\">\n",
       "      <th></th>\n",
       "      <th>EUR=</th>\n",
       "      <th>returns</th>\n",
       "      <th>direction</th>\n",
       "      <th>lag_1</th>\n",
       "      <th>lag_2</th>\n",
       "      <th>lag_3</th>\n",
       "      <th>lag_4</th>\n",
       "      <th>lag_5</th>\n",
       "      <th>lag_1_bin</th>\n",
       "      <th>lag_2_bin</th>\n",
       "      <th>lag_3_bin</th>\n",
       "      <th>lag_4_bin</th>\n",
       "      <th>lag_5_bin</th>\n",
       "      <th>pos_log_reg</th>\n",
       "      <th>pos_gauss_nb</th>\n",
       "      <th>pos_svm</th>\n",
       "      <th>strat_log_reg</th>\n",
       "      <th>strat_gauss_nb</th>\n",
       "      <th>strat_svm</th>\n",
       "    </tr>\n",
       "    <tr>\n",
       "      <th>Date</th>\n",
       "      <th></th>\n",
       "      <th></th>\n",
       "      <th></th>\n",
       "      <th></th>\n",
       "      <th></th>\n",
       "      <th></th>\n",
       "      <th></th>\n",
       "      <th></th>\n",
       "      <th></th>\n",
       "      <th></th>\n",
       "      <th></th>\n",
       "      <th></th>\n",
       "      <th></th>\n",
       "      <th></th>\n",
       "      <th></th>\n",
       "      <th></th>\n",
       "      <th></th>\n",
       "      <th></th>\n",
       "      <th></th>\n",
       "    </tr>\n",
       "  </thead>\n",
       "  <tbody>\n",
       "    <tr>\n",
       "      <th>2010-01-11</th>\n",
       "      <td>1.4513</td>\n",
       "      <td>0.006984</td>\n",
       "      <td>1.0</td>\n",
       "      <td>0.006544</td>\n",
       "      <td>-0.006544</td>\n",
       "      <td>0.003058</td>\n",
       "      <td>-0.002988</td>\n",
       "      <td>0.006125</td>\n",
       "      <td>3</td>\n",
       "      <td>0</td>\n",
       "      <td>2</td>\n",
       "      <td>1</td>\n",
       "      <td>3</td>\n",
       "      <td>-1.0</td>\n",
       "      <td>-1.0</td>\n",
       "      <td>-1.0</td>\n",
       "      <td>-0.006984</td>\n",
       "      <td>-0.006984</td>\n",
       "      <td>-0.006984</td>\n",
       "    </tr>\n",
       "    <tr>\n",
       "      <th>2010-01-12</th>\n",
       "      <td>1.4494</td>\n",
       "      <td>-0.001310</td>\n",
       "      <td>-1.0</td>\n",
       "      <td>0.006984</td>\n",
       "      <td>0.006544</td>\n",
       "      <td>-0.006544</td>\n",
       "      <td>0.003058</td>\n",
       "      <td>-0.002988</td>\n",
       "      <td>3</td>\n",
       "      <td>3</td>\n",
       "      <td>0</td>\n",
       "      <td>2</td>\n",
       "      <td>1</td>\n",
       "      <td>-1.0</td>\n",
       "      <td>-1.0</td>\n",
       "      <td>-1.0</td>\n",
       "      <td>0.001310</td>\n",
       "      <td>0.001310</td>\n",
       "      <td>0.001310</td>\n",
       "    </tr>\n",
       "    <tr>\n",
       "      <th>2010-01-13</th>\n",
       "      <td>1.4510</td>\n",
       "      <td>0.001103</td>\n",
       "      <td>1.0</td>\n",
       "      <td>-0.001310</td>\n",
       "      <td>0.006984</td>\n",
       "      <td>0.006544</td>\n",
       "      <td>-0.006544</td>\n",
       "      <td>0.003058</td>\n",
       "      <td>1</td>\n",
       "      <td>3</td>\n",
       "      <td>3</td>\n",
       "      <td>0</td>\n",
       "      <td>2</td>\n",
       "      <td>-1.0</td>\n",
       "      <td>-1.0</td>\n",
       "      <td>1.0</td>\n",
       "      <td>-0.001103</td>\n",
       "      <td>-0.001103</td>\n",
       "      <td>0.001103</td>\n",
       "    </tr>\n",
       "    <tr>\n",
       "      <th>2010-01-14</th>\n",
       "      <td>1.4502</td>\n",
       "      <td>-0.000551</td>\n",
       "      <td>-1.0</td>\n",
       "      <td>0.001103</td>\n",
       "      <td>-0.001310</td>\n",
       "      <td>0.006984</td>\n",
       "      <td>0.006544</td>\n",
       "      <td>-0.006544</td>\n",
       "      <td>2</td>\n",
       "      <td>1</td>\n",
       "      <td>3</td>\n",
       "      <td>3</td>\n",
       "      <td>0</td>\n",
       "      <td>-1.0</td>\n",
       "      <td>-1.0</td>\n",
       "      <td>-1.0</td>\n",
       "      <td>0.000551</td>\n",
       "      <td>0.000551</td>\n",
       "      <td>0.000551</td>\n",
       "    </tr>\n",
       "    <tr>\n",
       "      <th>2010-01-15</th>\n",
       "      <td>1.4382</td>\n",
       "      <td>-0.008309</td>\n",
       "      <td>-1.0</td>\n",
       "      <td>-0.000551</td>\n",
       "      <td>0.001103</td>\n",
       "      <td>-0.001310</td>\n",
       "      <td>0.006984</td>\n",
       "      <td>0.006544</td>\n",
       "      <td>1</td>\n",
       "      <td>2</td>\n",
       "      <td>1</td>\n",
       "      <td>3</td>\n",
       "      <td>3</td>\n",
       "      <td>1.0</td>\n",
       "      <td>1.0</td>\n",
       "      <td>-1.0</td>\n",
       "      <td>-0.008309</td>\n",
       "      <td>-0.008309</td>\n",
       "      <td>0.008309</td>\n",
       "    </tr>\n",
       "  </tbody>\n",
       "</table>\n",
       "</div>"
      ],
      "text/plain": [
       "              EUR=   returns  direction     lag_1     lag_2     lag_3  \\\n",
       "Date                                                                    \n",
       "2010-01-11  1.4513  0.006984        1.0  0.006544 -0.006544  0.003058   \n",
       "2010-01-12  1.4494 -0.001310       -1.0  0.006984  0.006544 -0.006544   \n",
       "2010-01-13  1.4510  0.001103        1.0 -0.001310  0.006984  0.006544   \n",
       "2010-01-14  1.4502 -0.000551       -1.0  0.001103 -0.001310  0.006984   \n",
       "2010-01-15  1.4382 -0.008309       -1.0 -0.000551  0.001103 -0.001310   \n",
       "\n",
       "               lag_4     lag_5  lag_1_bin  lag_2_bin  lag_3_bin  lag_4_bin  \\\n",
       "Date                                                                         \n",
       "2010-01-11 -0.002988  0.006125          3          0          2          1   \n",
       "2010-01-12  0.003058 -0.002988          3          3          0          2   \n",
       "2010-01-13 -0.006544  0.003058          1          3          3          0   \n",
       "2010-01-14  0.006544 -0.006544          2          1          3          3   \n",
       "2010-01-15  0.006984  0.006544          1          2          1          3   \n",
       "\n",
       "            lag_5_bin  pos_log_reg  pos_gauss_nb  pos_svm  strat_log_reg  \\\n",
       "Date                                                                       \n",
       "2010-01-11          3         -1.0          -1.0     -1.0      -0.006984   \n",
       "2010-01-12          1         -1.0          -1.0     -1.0       0.001310   \n",
       "2010-01-13          2         -1.0          -1.0      1.0      -0.001103   \n",
       "2010-01-14          0         -1.0          -1.0     -1.0       0.000551   \n",
       "2010-01-15          3          1.0           1.0     -1.0      -0.008309   \n",
       "\n",
       "            strat_gauss_nb  strat_svm  \n",
       "Date                                   \n",
       "2010-01-11       -0.006984  -0.006984  \n",
       "2010-01-12        0.001310   0.001310  \n",
       "2010-01-13       -0.001103   0.001103  \n",
       "2010-01-14        0.000551   0.000551  \n",
       "2010-01-15       -0.008309   0.008309  "
      ]
     },
     "execution_count": 70,
     "metadata": {},
     "output_type": "execute_result"
    }
   ],
   "source": [
    "data.head()"
   ]
  },
  {
   "cell_type": "code",
   "execution_count": 71,
   "id": "e6958147",
   "metadata": {},
   "outputs": [
    {
     "data": {
      "text/plain": [
       "0.5221719457013575"
      ]
     },
     "execution_count": 71,
     "metadata": {},
     "output_type": "execute_result"
    }
   ],
   "source": [
    "(data['direction']==data['pos_log_reg']).mean()"
   ]
  },
  {
   "cell_type": "code",
   "execution_count": 72,
   "id": "ffbe31e1",
   "metadata": {},
   "outputs": [
    {
     "data": {
      "text/plain": [
       "0.5158371040723982"
      ]
     },
     "execution_count": 72,
     "metadata": {},
     "output_type": "execute_result"
    }
   ],
   "source": [
    "(data['direction']==data['pos_gauss_nb']).mean()"
   ]
  },
  {
   "cell_type": "code",
   "execution_count": 73,
   "id": "a60f5c62",
   "metadata": {},
   "outputs": [
    {
     "data": {
      "text/plain": [
       "0.5868778280542987"
      ]
     },
     "execution_count": 73,
     "metadata": {},
     "output_type": "execute_result"
    }
   ],
   "source": [
    "(data['direction']==data['pos_svm']).mean()"
   ]
  },
  {
   "cell_type": "code",
   "execution_count": 74,
   "id": "b18bbd2d",
   "metadata": {},
   "outputs": [
    {
     "data": {
      "text/plain": [
       "<AxesSubplot:xlabel='Date'>"
      ]
     },
     "execution_count": 74,
     "metadata": {},
     "output_type": "execute_result"
    },
    {
     "data": {
      "image/png": "[encoded data removed]",
      "text/plain": [
       "<Figure size 720x432 with 1 Axes>"
      ]
     },
     "metadata": {},
     "output_type": "display_data"
    }
   ],
   "source": [
    "data[sel].cumsum().apply(np.exp).plot(figsize=(10,6))"
   ]
  },
  {
   "cell_type": "markdown",
   "id": "d0a6f1b6",
   "metadata": {},
   "source": [
    "# SequentialTrain-test split"
   ]
  },
  {
   "cell_type": "code",
   "execution_count": 75,
   "id": "acb2d326",
   "metadata": {},
   "outputs": [
    {
     "data": {
      "text/plain": [
       "2210"
      ]
     },
     "execution_count": 75,
     "metadata": {},
     "output_type": "execute_result"
    }
   ],
   "source": [
    "len(data)"
   ]
  },
  {
   "cell_type": "code",
   "execution_count": 79,
   "id": "e9e55573",
   "metadata": {},
   "outputs": [
    {
     "data": {
      "text/plain": [
       "1105"
      ]
     },
     "execution_count": 79,
     "metadata": {},
     "output_type": "execute_result"
    }
   ],
   "source": [
    "split=int(len(data)*0.5)\n",
    "split"
   ]
  },
  {
   "cell_type": "code",
   "execution_count": 81,
   "id": "ba0b079e",
   "metadata": {},
   "outputs": [],
   "source": [
    "train=data.iloc[:split].copy()\n",
    "test=data.iloc[split:].copy()"
   ]
  },
  {
   "cell_type": "code",
   "execution_count": 82,
   "id": "6eccd75f",
   "metadata": {},
   "outputs": [],
   "source": [
    "fit_models(train)\n",
    "derive_positions(test)\n",
    "evaluate_strats(test)"
   ]
  },
  {
   "cell_type": "code",
   "execution_count": 83,
   "id": "956b8c8f",
   "metadata": {},
   "outputs": [
    {
     "data": {
      "text/plain": [
       "returns           0.852649\n",
       "strat_log_reg     1.077934\n",
       "strat_gauss_nb    1.183389\n",
       "strat_svm         1.023219\n",
       "dtype: float64"
      ]
     },
     "execution_count": 83,
     "metadata": {},
     "output_type": "execute_result"
    }
   ],
   "source": [
    "test[sel].sum().apply(np.exp)"
   ]
  },
  {
   "cell_type": "code",
   "execution_count": 84,
   "id": "fd1f4d42",
   "metadata": {},
   "outputs": [
    {
     "data": {
      "text/plain": [
       "0.5230769230769231"
      ]
     },
     "execution_count": 84,
     "metadata": {},
     "output_type": "execute_result"
    }
   ],
   "source": [
    "(train['direction']==train['pos_log_reg']).mean()"
   ]
  },
  {
   "cell_type": "code",
   "execution_count": 85,
   "id": "80d63b1c",
   "metadata": {},
   "outputs": [
    {
     "data": {
      "text/plain": [
       "0.4986425339366516"
      ]
     },
     "execution_count": 85,
     "metadata": {},
     "output_type": "execute_result"
    }
   ],
   "source": [
    "(test['direction']==test['pos_log_reg']).mean()"
   ]
  },
  {
   "cell_type": "markdown",
   "id": "6764f0f4",
   "metadata": {},
   "source": [
    "# Randomized Train-test-split"
   ]
  },
  {
   "cell_type": "code",
   "execution_count": 86,
   "id": "22f577b8",
   "metadata": {},
   "outputs": [],
   "source": [
    "from sklearn.model_selection import train_test_split"
   ]
  },
  {
   "cell_type": "code",
   "execution_count": 87,
   "id": "0af6249d",
   "metadata": {},
   "outputs": [],
   "source": [
    "train,test=train_test_split(data,test_size=0.5,shuffle=True,random_state=100)"
   ]
  },
  {
   "cell_type": "code",
   "execution_count": 88,
   "id": "9ac371b4",
   "metadata": {},
   "outputs": [
    {
     "data": {
      "text/html": [
       "<div>\n",
       "<style scoped>\n",
       "    .dataframe tbody tr th:only-of-type {\n",
       "        vertical-align: middle;\n",
       "    }\n",
       "\n",
       "    .dataframe tbody tr th {\n",
       "        vertical-align: top;\n",
       "    }\n",
       "\n",
       "    .dataframe thead th {\n",
       "        text-align: right;\n",
       "    }\n",
       "</style>\n",
       "<table border=\"1\" class=\"dataframe\">\n",
       "  <thead>\n",
       "    <tr style=\"text-align: right;\">\n",
       "      <th></th>\n",
       "      <th>EUR=</th>\n",
       "      <th>returns</th>\n",
       "      <th>direction</th>\n",
       "      <th>lag_1</th>\n",
       "      <th>lag_2</th>\n",
       "      <th>lag_3</th>\n",
       "      <th>lag_4</th>\n",
       "      <th>lag_5</th>\n",
       "      <th>lag_1_bin</th>\n",
       "      <th>lag_2_bin</th>\n",
       "      <th>lag_3_bin</th>\n",
       "      <th>lag_4_bin</th>\n",
       "      <th>lag_5_bin</th>\n",
       "      <th>pos_log_reg</th>\n",
       "      <th>pos_gauss_nb</th>\n",
       "      <th>pos_svm</th>\n",
       "      <th>strat_log_reg</th>\n",
       "      <th>strat_gauss_nb</th>\n",
       "      <th>strat_svm</th>\n",
       "    </tr>\n",
       "    <tr>\n",
       "      <th>Date</th>\n",
       "      <th></th>\n",
       "      <th></th>\n",
       "      <th></th>\n",
       "      <th></th>\n",
       "      <th></th>\n",
       "      <th></th>\n",
       "      <th></th>\n",
       "      <th></th>\n",
       "      <th></th>\n",
       "      <th></th>\n",
       "      <th></th>\n",
       "      <th></th>\n",
       "      <th></th>\n",
       "      <th></th>\n",
       "      <th></th>\n",
       "      <th></th>\n",
       "      <th></th>\n",
       "      <th></th>\n",
       "      <th></th>\n",
       "    </tr>\n",
       "  </thead>\n",
       "  <tbody>\n",
       "    <tr>\n",
       "      <th>2010-01-11</th>\n",
       "      <td>1.4513</td>\n",
       "      <td>0.006984</td>\n",
       "      <td>1.0</td>\n",
       "      <td>0.006544</td>\n",
       "      <td>-0.006544</td>\n",
       "      <td>0.003058</td>\n",
       "      <td>-0.002988</td>\n",
       "      <td>0.006125</td>\n",
       "      <td>3</td>\n",
       "      <td>0</td>\n",
       "      <td>2</td>\n",
       "      <td>1</td>\n",
       "      <td>3</td>\n",
       "      <td>-1.0</td>\n",
       "      <td>-1.0</td>\n",
       "      <td>-1.0</td>\n",
       "      <td>-0.006984</td>\n",
       "      <td>-0.006984</td>\n",
       "      <td>-0.006984</td>\n",
       "    </tr>\n",
       "    <tr>\n",
       "      <th>2010-01-12</th>\n",
       "      <td>1.4494</td>\n",
       "      <td>-0.001310</td>\n",
       "      <td>-1.0</td>\n",
       "      <td>0.006984</td>\n",
       "      <td>0.006544</td>\n",
       "      <td>-0.006544</td>\n",
       "      <td>0.003058</td>\n",
       "      <td>-0.002988</td>\n",
       "      <td>3</td>\n",
       "      <td>3</td>\n",
       "      <td>0</td>\n",
       "      <td>2</td>\n",
       "      <td>1</td>\n",
       "      <td>-1.0</td>\n",
       "      <td>-1.0</td>\n",
       "      <td>-1.0</td>\n",
       "      <td>0.001310</td>\n",
       "      <td>0.001310</td>\n",
       "      <td>0.001310</td>\n",
       "    </tr>\n",
       "    <tr>\n",
       "      <th>2010-01-13</th>\n",
       "      <td>1.4510</td>\n",
       "      <td>0.001103</td>\n",
       "      <td>1.0</td>\n",
       "      <td>-0.001310</td>\n",
       "      <td>0.006984</td>\n",
       "      <td>0.006544</td>\n",
       "      <td>-0.006544</td>\n",
       "      <td>0.003058</td>\n",
       "      <td>1</td>\n",
       "      <td>3</td>\n",
       "      <td>3</td>\n",
       "      <td>0</td>\n",
       "      <td>2</td>\n",
       "      <td>-1.0</td>\n",
       "      <td>-1.0</td>\n",
       "      <td>1.0</td>\n",
       "      <td>-0.001103</td>\n",
       "      <td>-0.001103</td>\n",
       "      <td>0.001103</td>\n",
       "    </tr>\n",
       "    <tr>\n",
       "      <th>2010-01-14</th>\n",
       "      <td>1.4502</td>\n",
       "      <td>-0.000551</td>\n",
       "      <td>-1.0</td>\n",
       "      <td>0.001103</td>\n",
       "      <td>-0.001310</td>\n",
       "      <td>0.006984</td>\n",
       "      <td>0.006544</td>\n",
       "      <td>-0.006544</td>\n",
       "      <td>2</td>\n",
       "      <td>1</td>\n",
       "      <td>3</td>\n",
       "      <td>3</td>\n",
       "      <td>0</td>\n",
       "      <td>-1.0</td>\n",
       "      <td>-1.0</td>\n",
       "      <td>-1.0</td>\n",
       "      <td>0.000551</td>\n",
       "      <td>0.000551</td>\n",
       "      <td>0.000551</td>\n",
       "    </tr>\n",
       "    <tr>\n",
       "      <th>2010-01-15</th>\n",
       "      <td>1.4382</td>\n",
       "      <td>-0.008309</td>\n",
       "      <td>-1.0</td>\n",
       "      <td>-0.000551</td>\n",
       "      <td>0.001103</td>\n",
       "      <td>-0.001310</td>\n",
       "      <td>0.006984</td>\n",
       "      <td>0.006544</td>\n",
       "      <td>1</td>\n",
       "      <td>2</td>\n",
       "      <td>1</td>\n",
       "      <td>3</td>\n",
       "      <td>3</td>\n",
       "      <td>1.0</td>\n",
       "      <td>1.0</td>\n",
       "      <td>-1.0</td>\n",
       "      <td>-0.008309</td>\n",
       "      <td>-0.008309</td>\n",
       "      <td>0.008309</td>\n",
       "    </tr>\n",
       "    <tr>\n",
       "      <th>...</th>\n",
       "      <td>...</td>\n",
       "      <td>...</td>\n",
       "      <td>...</td>\n",
       "      <td>...</td>\n",
       "      <td>...</td>\n",
       "      <td>...</td>\n",
       "      <td>...</td>\n",
       "      <td>...</td>\n",
       "      <td>...</td>\n",
       "      <td>...</td>\n",
       "      <td>...</td>\n",
       "      <td>...</td>\n",
       "      <td>...</td>\n",
       "      <td>...</td>\n",
       "      <td>...</td>\n",
       "      <td>...</td>\n",
       "      <td>...</td>\n",
       "      <td>...</td>\n",
       "      <td>...</td>\n",
       "    </tr>\n",
       "    <tr>\n",
       "      <th>2018-06-25</th>\n",
       "      <td>1.1702</td>\n",
       "      <td>0.004024</td>\n",
       "      <td>1.0</td>\n",
       "      <td>0.004644</td>\n",
       "      <td>0.002676</td>\n",
       "      <td>-0.001555</td>\n",
       "      <td>-0.002930</td>\n",
       "      <td>0.001291</td>\n",
       "      <td>2</td>\n",
       "      <td>2</td>\n",
       "      <td>1</td>\n",
       "      <td>1</td>\n",
       "      <td>2</td>\n",
       "      <td>1.0</td>\n",
       "      <td>1.0</td>\n",
       "      <td>1.0</td>\n",
       "      <td>0.004024</td>\n",
       "      <td>0.004024</td>\n",
       "      <td>0.004024</td>\n",
       "    </tr>\n",
       "    <tr>\n",
       "      <th>2018-06-26</th>\n",
       "      <td>1.1645</td>\n",
       "      <td>-0.004883</td>\n",
       "      <td>-1.0</td>\n",
       "      <td>0.004024</td>\n",
       "      <td>0.004644</td>\n",
       "      <td>0.002676</td>\n",
       "      <td>-0.001555</td>\n",
       "      <td>-0.002930</td>\n",
       "      <td>2</td>\n",
       "      <td>2</td>\n",
       "      <td>2</td>\n",
       "      <td>1</td>\n",
       "      <td>1</td>\n",
       "      <td>-1.0</td>\n",
       "      <td>-1.0</td>\n",
       "      <td>-1.0</td>\n",
       "      <td>0.004883</td>\n",
       "      <td>0.004883</td>\n",
       "      <td>0.004883</td>\n",
       "    </tr>\n",
       "    <tr>\n",
       "      <th>2018-06-27</th>\n",
       "      <td>1.1552</td>\n",
       "      <td>-0.008018</td>\n",
       "      <td>-1.0</td>\n",
       "      <td>-0.004883</td>\n",
       "      <td>0.004024</td>\n",
       "      <td>0.004644</td>\n",
       "      <td>0.002676</td>\n",
       "      <td>-0.001555</td>\n",
       "      <td>1</td>\n",
       "      <td>2</td>\n",
       "      <td>2</td>\n",
       "      <td>2</td>\n",
       "      <td>1</td>\n",
       "      <td>-1.0</td>\n",
       "      <td>-1.0</td>\n",
       "      <td>1.0</td>\n",
       "      <td>0.008018</td>\n",
       "      <td>0.008018</td>\n",
       "      <td>-0.008018</td>\n",
       "    </tr>\n",
       "    <tr>\n",
       "      <th>2018-06-28</th>\n",
       "      <td>1.1567</td>\n",
       "      <td>0.001298</td>\n",
       "      <td>1.0</td>\n",
       "      <td>-0.008018</td>\n",
       "      <td>-0.004883</td>\n",
       "      <td>0.004024</td>\n",
       "      <td>0.004644</td>\n",
       "      <td>0.002676</td>\n",
       "      <td>0</td>\n",
       "      <td>1</td>\n",
       "      <td>2</td>\n",
       "      <td>2</td>\n",
       "      <td>2</td>\n",
       "      <td>1.0</td>\n",
       "      <td>1.0</td>\n",
       "      <td>1.0</td>\n",
       "      <td>0.001298</td>\n",
       "      <td>0.001298</td>\n",
       "      <td>0.001298</td>\n",
       "    </tr>\n",
       "    <tr>\n",
       "      <th>2018-06-29</th>\n",
       "      <td>1.1683</td>\n",
       "      <td>0.009979</td>\n",
       "      <td>1.0</td>\n",
       "      <td>0.001298</td>\n",
       "      <td>-0.008018</td>\n",
       "      <td>-0.004883</td>\n",
       "      <td>0.004024</td>\n",
       "      <td>0.004644</td>\n",
       "      <td>2</td>\n",
       "      <td>0</td>\n",
       "      <td>1</td>\n",
       "      <td>2</td>\n",
       "      <td>2</td>\n",
       "      <td>1.0</td>\n",
       "      <td>1.0</td>\n",
       "      <td>-1.0</td>\n",
       "      <td>0.009979</td>\n",
       "      <td>0.009979</td>\n",
       "      <td>-0.009979</td>\n",
       "    </tr>\n",
       "  </tbody>\n",
       "</table>\n",
       "<p>2210 rows × 19 columns</p>\n",
       "</div>"
      ],
      "text/plain": [
       "              EUR=   returns  direction     lag_1     lag_2     lag_3  \\\n",
       "Date                                                                    \n",
       "2010-01-11  1.4513  0.006984        1.0  0.006544 -0.006544  0.003058   \n",
       "2010-01-12  1.4494 -0.001310       -1.0  0.006984  0.006544 -0.006544   \n",
       "2010-01-13  1.4510  0.001103        1.0 -0.001310  0.006984  0.006544   \n",
       "2010-01-14  1.4502 -0.000551       -1.0  0.001103 -0.001310  0.006984   \n",
       "2010-01-15  1.4382 -0.008309       -1.0 -0.000551  0.001103 -0.001310   \n",
       "...            ...       ...        ...       ...       ...       ...   \n",
       "2018-06-25  1.1702  0.004024        1.0  0.004644  0.002676 -0.001555   \n",
       "2018-06-26  1.1645 -0.004883       -1.0  0.004024  0.004644  0.002676   \n",
       "2018-06-27  1.1552 -0.008018       -1.0 -0.004883  0.004024  0.004644   \n",
       "2018-06-28  1.1567  0.001298        1.0 -0.008018 -0.004883  0.004024   \n",
       "2018-06-29  1.1683  0.009979        1.0  0.001298 -0.008018 -0.004883   \n",
       "\n",
       "               lag_4     lag_5  lag_1_bin  lag_2_bin  lag_3_bin  lag_4_bin  \\\n",
       "Date                                                                         \n",
       "2010-01-11 -0.002988  0.006125          3          0          2          1   \n",
       "2010-01-12  0.003058 -0.002988          3          3          0          2   \n",
       "2010-01-13 -0.006544  0.003058          1          3          3          0   \n",
       "2010-01-14  0.006544 -0.006544          2          1          3          3   \n",
       "2010-01-15  0.006984  0.006544          1          2          1          3   \n",
       "...              ...       ...        ...        ...        ...        ...   \n",
       "2018-06-25 -0.002930  0.001291          2          2          1          1   \n",
       "2018-06-26 -0.001555 -0.002930          2          2          2          1   \n",
       "2018-06-27  0.002676 -0.001555          1          2          2          2   \n",
       "2018-06-28  0.004644  0.002676          0          1          2          2   \n",
       "2018-06-29  0.004024  0.004644          2          0          1          2   \n",
       "\n",
       "            lag_5_bin  pos_log_reg  pos_gauss_nb  pos_svm  strat_log_reg  \\\n",
       "Date                                                                       \n",
       "2010-01-11          3         -1.0          -1.0     -1.0      -0.006984   \n",
       "2010-01-12          1         -1.0          -1.0     -1.0       0.001310   \n",
       "2010-01-13          2         -1.0          -1.0      1.0      -0.001103   \n",
       "2010-01-14          0         -1.0          -1.0     -1.0       0.000551   \n",
       "2010-01-15          3          1.0           1.0     -1.0      -0.008309   \n",
       "...               ...          ...           ...      ...            ...   \n",
       "2018-06-25          2          1.0           1.0      1.0       0.004024   \n",
       "2018-06-26          1         -1.0          -1.0     -1.0       0.004883   \n",
       "2018-06-27          1         -1.0          -1.0      1.0       0.008018   \n",
       "2018-06-28          2          1.0           1.0      1.0       0.001298   \n",
       "2018-06-29          2          1.0           1.0     -1.0       0.009979   \n",
       "\n",
       "            strat_gauss_nb  strat_svm  \n",
       "Date                                   \n",
       "2010-01-11       -0.006984  -0.006984  \n",
       "2010-01-12        0.001310   0.001310  \n",
       "2010-01-13       -0.001103   0.001103  \n",
       "2010-01-14        0.000551   0.000551  \n",
       "2010-01-15       -0.008309   0.008309  \n",
       "...                    ...        ...  \n",
       "2018-06-25        0.004024   0.004024  \n",
       "2018-06-26        0.004883   0.004883  \n",
       "2018-06-27        0.008018  -0.008018  \n",
       "2018-06-28        0.001298   0.001298  \n",
       "2018-06-29        0.009979  -0.009979  \n",
       "\n",
       "[2210 rows x 19 columns]"
      ]
     },
     "execution_count": 88,
     "metadata": {},
     "output_type": "execute_result"
    }
   ],
   "source": [
    "data"
   ]
  },
  {
   "cell_type": "code",
   "execution_count": 89,
   "id": "40ac955d",
   "metadata": {},
   "outputs": [
    {
     "data": {
      "text/html": [
       "<div>\n",
       "<style scoped>\n",
       "    .dataframe tbody tr th:only-of-type {\n",
       "        vertical-align: middle;\n",
       "    }\n",
       "\n",
       "    .dataframe tbody tr th {\n",
       "        vertical-align: top;\n",
       "    }\n",
       "\n",
       "    .dataframe thead th {\n",
       "        text-align: right;\n",
       "    }\n",
       "</style>\n",
       "<table border=\"1\" class=\"dataframe\">\n",
       "  <thead>\n",
       "    <tr style=\"text-align: right;\">\n",
       "      <th></th>\n",
       "      <th>lag_1_bin</th>\n",
       "      <th>lag_2_bin</th>\n",
       "      <th>lag_3_bin</th>\n",
       "      <th>lag_4_bin</th>\n",
       "      <th>lag_5_bin</th>\n",
       "    </tr>\n",
       "    <tr>\n",
       "      <th>Date</th>\n",
       "      <th></th>\n",
       "      <th></th>\n",
       "      <th></th>\n",
       "      <th></th>\n",
       "      <th></th>\n",
       "    </tr>\n",
       "  </thead>\n",
       "  <tbody>\n",
       "    <tr>\n",
       "      <th>2010-01-11</th>\n",
       "      <td>3</td>\n",
       "      <td>0</td>\n",
       "      <td>2</td>\n",
       "      <td>1</td>\n",
       "      <td>3</td>\n",
       "    </tr>\n",
       "    <tr>\n",
       "      <th>2010-01-12</th>\n",
       "      <td>3</td>\n",
       "      <td>3</td>\n",
       "      <td>0</td>\n",
       "      <td>2</td>\n",
       "      <td>1</td>\n",
       "    </tr>\n",
       "    <tr>\n",
       "      <th>2010-01-13</th>\n",
       "      <td>1</td>\n",
       "      <td>3</td>\n",
       "      <td>3</td>\n",
       "      <td>0</td>\n",
       "      <td>2</td>\n",
       "    </tr>\n",
       "    <tr>\n",
       "      <th>2010-01-14</th>\n",
       "      <td>2</td>\n",
       "      <td>1</td>\n",
       "      <td>3</td>\n",
       "      <td>3</td>\n",
       "      <td>0</td>\n",
       "    </tr>\n",
       "    <tr>\n",
       "      <th>2010-01-18</th>\n",
       "      <td>0</td>\n",
       "      <td>1</td>\n",
       "      <td>2</td>\n",
       "      <td>1</td>\n",
       "      <td>3</td>\n",
       "    </tr>\n",
       "  </tbody>\n",
       "</table>\n",
       "</div>"
      ],
      "text/plain": [
       "            lag_1_bin  lag_2_bin  lag_3_bin  lag_4_bin  lag_5_bin\n",
       "Date                                                             \n",
       "2010-01-11          3          0          2          1          3\n",
       "2010-01-12          3          3          0          2          1\n",
       "2010-01-13          1          3          3          0          2\n",
       "2010-01-14          2          1          3          3          0\n",
       "2010-01-18          0          1          2          1          3"
      ]
     },
     "execution_count": 89,
     "metadata": {},
     "output_type": "execute_result"
    }
   ],
   "source": [
    "train=train.copy().sort_index()\n",
    "train[cols_bin].head()"
   ]
  },
  {
   "cell_type": "code",
   "execution_count": 90,
   "id": "be2f242b",
   "metadata": {},
   "outputs": [
    {
     "data": {
      "text/html": [
       "<div>\n",
       "<style scoped>\n",
       "    .dataframe tbody tr th:only-of-type {\n",
       "        vertical-align: middle;\n",
       "    }\n",
       "\n",
       "    .dataframe tbody tr th {\n",
       "        vertical-align: top;\n",
       "    }\n",
       "\n",
       "    .dataframe thead th {\n",
       "        text-align: right;\n",
       "    }\n",
       "</style>\n",
       "<table border=\"1\" class=\"dataframe\">\n",
       "  <thead>\n",
       "    <tr style=\"text-align: right;\">\n",
       "      <th></th>\n",
       "      <th>lag_1_bin</th>\n",
       "      <th>lag_2_bin</th>\n",
       "      <th>lag_3_bin</th>\n",
       "      <th>lag_4_bin</th>\n",
       "      <th>lag_5_bin</th>\n",
       "    </tr>\n",
       "    <tr>\n",
       "      <th>Date</th>\n",
       "      <th></th>\n",
       "      <th></th>\n",
       "      <th></th>\n",
       "      <th></th>\n",
       "      <th></th>\n",
       "    </tr>\n",
       "  </thead>\n",
       "  <tbody>\n",
       "    <tr>\n",
       "      <th>2010-01-15</th>\n",
       "      <td>1</td>\n",
       "      <td>2</td>\n",
       "      <td>1</td>\n",
       "      <td>3</td>\n",
       "      <td>3</td>\n",
       "    </tr>\n",
       "    <tr>\n",
       "      <th>2010-01-21</th>\n",
       "      <td>0</td>\n",
       "      <td>0</td>\n",
       "      <td>2</td>\n",
       "      <td>0</td>\n",
       "      <td>1</td>\n",
       "    </tr>\n",
       "    <tr>\n",
       "      <th>2010-01-22</th>\n",
       "      <td>1</td>\n",
       "      <td>0</td>\n",
       "      <td>0</td>\n",
       "      <td>2</td>\n",
       "      <td>0</td>\n",
       "    </tr>\n",
       "    <tr>\n",
       "      <th>2010-01-25</th>\n",
       "      <td>2</td>\n",
       "      <td>1</td>\n",
       "      <td>0</td>\n",
       "      <td>0</td>\n",
       "      <td>2</td>\n",
       "    </tr>\n",
       "    <tr>\n",
       "      <th>2010-01-27</th>\n",
       "      <td>1</td>\n",
       "      <td>2</td>\n",
       "      <td>2</td>\n",
       "      <td>1</td>\n",
       "      <td>0</td>\n",
       "    </tr>\n",
       "  </tbody>\n",
       "</table>\n",
       "</div>"
      ],
      "text/plain": [
       "            lag_1_bin  lag_2_bin  lag_3_bin  lag_4_bin  lag_5_bin\n",
       "Date                                                             \n",
       "2010-01-15          1          2          1          3          3\n",
       "2010-01-21          0          0          2          0          1\n",
       "2010-01-22          1          0          0          2          0\n",
       "2010-01-25          2          1          0          0          2\n",
       "2010-01-27          1          2          2          1          0"
      ]
     },
     "execution_count": 90,
     "metadata": {},
     "output_type": "execute_result"
    }
   ],
   "source": [
    "test=test.copy().sort_index()\n",
    "test[cols_bin].head()"
   ]
  },
  {
   "cell_type": "code",
   "execution_count": 91,
   "id": "cb87f8b1",
   "metadata": {},
   "outputs": [],
   "source": [
    "fit_models(train)\n",
    "derive_positions(test)\n",
    "evaluate_strats(test)"
   ]
  },
  {
   "cell_type": "code",
   "execution_count": 92,
   "id": "f0be994d",
   "metadata": {},
   "outputs": [
    {
     "data": {
      "text/plain": [
       "returns           0.736500\n",
       "strat_log_reg     0.796591\n",
       "strat_gauss_nb    1.010429\n",
       "strat_svm         1.148902\n",
       "dtype: float64"
      ]
     },
     "execution_count": 92,
     "metadata": {},
     "output_type": "execute_result"
    }
   ],
   "source": [
    "test[sel].sum().apply(np.exp)"
   ]
  },
  {
   "cell_type": "code",
   "execution_count": 93,
   "id": "227e427c",
   "metadata": {},
   "outputs": [
    {
     "data": {
      "text/plain": [
       "<AxesSubplot:xlabel='Date'>"
      ]
     },
     "execution_count": 93,
     "metadata": {},
     "output_type": "execute_result"
    },
    {
     "data": {
      "image/png": "[encoded data removed]",
      "text/plain": [
       "<Figure size 720x432 with 1 Axes>"
      ]
     },
     "metadata": {},
     "output_type": "display_data"
    }
   ],
   "source": [
    "test[sel].cumsum().apply(np.exp).plot(figsize=(10,6))"
   ]
  },
  {
   "cell_type": "markdown",
   "id": "cd259414",
   "metadata": {},
   "source": [
    "# DNN with scikit-learn"
   ]
  },
  {
   "cell_type": "code",
   "execution_count": 94,
   "id": "c43f805f",
   "metadata": {},
   "outputs": [],
   "source": [
    "from sklearn.neural_network import MLPClassifier"
   ]
  },
  {
   "cell_type": "code",
   "execution_count": 95,
   "id": "e4e93781",
   "metadata": {},
   "outputs": [],
   "source": [
    "model=MLPClassifier(solver='lbfgs',alpha=1e-5, hidden_layer_sizes=2*[250],random_state=1)"
   ]
  },
  {
   "cell_type": "code",
   "execution_count": 96,
   "id": "dde9f4d1",
   "metadata": {},
   "outputs": [
    {
     "name": "stdout",
     "output_type": "stream",
     "text": [
      "Wall time: 7.44 s\n"
     ]
    },
    {
     "data": {
      "text/plain": [
       "MLPClassifier(alpha=1e-05, hidden_layer_sizes=[250, 250], random_state=1,\n",
       "              solver='lbfgs')"
      ]
     },
     "execution_count": 96,
     "metadata": {},
     "output_type": "execute_result"
    }
   ],
   "source": [
    "%time model.fit(data[cols_bin],data['direction'])"
   ]
  },
  {
   "cell_type": "code",
   "execution_count": 97,
   "id": "27a62705",
   "metadata": {},
   "outputs": [],
   "source": [
    "data['pos_dnn_sk']=model.predict(data[cols_bin])"
   ]
  },
  {
   "cell_type": "code",
   "execution_count": 98,
   "id": "a1083309",
   "metadata": {},
   "outputs": [],
   "source": [
    "data['strat_dnn_sk']=data['pos_dnn_sk']*data['returns']"
   ]
  },
  {
   "cell_type": "code",
   "execution_count": 99,
   "id": "7f4f4efe",
   "metadata": {},
   "outputs": [
    {
     "data": {
      "text/plain": [
       "returns          0.810644\n",
       "strat_dnn_sk    35.273592\n",
       "dtype: float64"
      ]
     },
     "execution_count": 99,
     "metadata": {},
     "output_type": "execute_result"
    }
   ],
   "source": [
    "data[['returns','strat_dnn_sk']].sum().apply(np.exp)"
   ]
  },
  {
   "cell_type": "code",
   "execution_count": 101,
   "id": "82c57fc3",
   "metadata": {},
   "outputs": [
    {
     "data": {
      "text/plain": [
       "0.6764705882352942"
      ]
     },
     "execution_count": 101,
     "metadata": {},
     "output_type": "execute_result"
    }
   ],
   "source": [
    "(data['direction']==data['pos_dnn_sk']).mean()"
   ]
  },
  {
   "cell_type": "code",
   "execution_count": 102,
   "id": "e3f18356",
   "metadata": {},
   "outputs": [
    {
     "data": {
      "text/plain": [
       "<AxesSubplot:xlabel='Date'>"
      ]
     },
     "execution_count": 102,
     "metadata": {},
     "output_type": "execute_result"
    },
    {
     "data": {
      "image/png": "[encoded data removed]",
      "text/plain": [
       "<Figure size 720x432 with 1 Axes>"
      ]
     },
     "metadata": {},
     "output_type": "display_data"
    }
   ],
   "source": [
    "data[['returns','strat_dnn_sk']].cumsum().apply(np.exp).plot(figsize=(10,6))"
   ]
  },
  {
   "cell_type": "code",
   "execution_count": 103,
   "id": "a4b364ae",
   "metadata": {},
   "outputs": [],
   "source": [
    "train,test=train_test_split(data,test_size=0.5,random_state=100)"
   ]
  },
  {
   "cell_type": "code",
   "execution_count": 104,
   "id": "780d95fd",
   "metadata": {},
   "outputs": [
    {
     "data": {
      "text/html": [
       "<div>\n",
       "<style scoped>\n",
       "    .dataframe tbody tr th:only-of-type {\n",
       "        vertical-align: middle;\n",
       "    }\n",
       "\n",
       "    .dataframe tbody tr th {\n",
       "        vertical-align: top;\n",
       "    }\n",
       "\n",
       "    .dataframe thead th {\n",
       "        text-align: right;\n",
       "    }\n",
       "</style>\n",
       "<table border=\"1\" class=\"dataframe\">\n",
       "  <thead>\n",
       "    <tr style=\"text-align: right;\">\n",
       "      <th></th>\n",
       "      <th>lag_1_bin</th>\n",
       "      <th>lag_2_bin</th>\n",
       "      <th>lag_3_bin</th>\n",
       "      <th>lag_4_bin</th>\n",
       "      <th>lag_5_bin</th>\n",
       "    </tr>\n",
       "    <tr>\n",
       "      <th>Date</th>\n",
       "      <th></th>\n",
       "      <th></th>\n",
       "      <th></th>\n",
       "      <th></th>\n",
       "      <th></th>\n",
       "    </tr>\n",
       "  </thead>\n",
       "  <tbody>\n",
       "    <tr>\n",
       "      <th>2010-01-11</th>\n",
       "      <td>3</td>\n",
       "      <td>0</td>\n",
       "      <td>2</td>\n",
       "      <td>1</td>\n",
       "      <td>3</td>\n",
       "    </tr>\n",
       "    <tr>\n",
       "      <th>2010-01-12</th>\n",
       "      <td>3</td>\n",
       "      <td>3</td>\n",
       "      <td>0</td>\n",
       "      <td>2</td>\n",
       "      <td>1</td>\n",
       "    </tr>\n",
       "    <tr>\n",
       "      <th>2010-01-13</th>\n",
       "      <td>1</td>\n",
       "      <td>3</td>\n",
       "      <td>3</td>\n",
       "      <td>0</td>\n",
       "      <td>2</td>\n",
       "    </tr>\n",
       "    <tr>\n",
       "      <th>2010-01-14</th>\n",
       "      <td>2</td>\n",
       "      <td>1</td>\n",
       "      <td>3</td>\n",
       "      <td>3</td>\n",
       "      <td>0</td>\n",
       "    </tr>\n",
       "    <tr>\n",
       "      <th>2010-01-18</th>\n",
       "      <td>0</td>\n",
       "      <td>1</td>\n",
       "      <td>2</td>\n",
       "      <td>1</td>\n",
       "      <td>3</td>\n",
       "    </tr>\n",
       "  </tbody>\n",
       "</table>\n",
       "</div>"
      ],
      "text/plain": [
       "            lag_1_bin  lag_2_bin  lag_3_bin  lag_4_bin  lag_5_bin\n",
       "Date                                                             \n",
       "2010-01-11          3          0          2          1          3\n",
       "2010-01-12          3          3          0          2          1\n",
       "2010-01-13          1          3          3          0          2\n",
       "2010-01-14          2          1          3          3          0\n",
       "2010-01-18          0          1          2          1          3"
      ]
     },
     "execution_count": 104,
     "metadata": {},
     "output_type": "execute_result"
    }
   ],
   "source": [
    "train=train.copy().sort_index()\n",
    "train[cols_bin].head()"
   ]
  },
  {
   "cell_type": "code",
   "execution_count": 105,
   "id": "7e025384",
   "metadata": {},
   "outputs": [
    {
     "data": {
      "text/html": [
       "<div>\n",
       "<style scoped>\n",
       "    .dataframe tbody tr th:only-of-type {\n",
       "        vertical-align: middle;\n",
       "    }\n",
       "\n",
       "    .dataframe tbody tr th {\n",
       "        vertical-align: top;\n",
       "    }\n",
       "\n",
       "    .dataframe thead th {\n",
       "        text-align: right;\n",
       "    }\n",
       "</style>\n",
       "<table border=\"1\" class=\"dataframe\">\n",
       "  <thead>\n",
       "    <tr style=\"text-align: right;\">\n",
       "      <th></th>\n",
       "      <th>lag_1_bin</th>\n",
       "      <th>lag_2_bin</th>\n",
       "      <th>lag_3_bin</th>\n",
       "      <th>lag_4_bin</th>\n",
       "      <th>lag_5_bin</th>\n",
       "    </tr>\n",
       "    <tr>\n",
       "      <th>Date</th>\n",
       "      <th></th>\n",
       "      <th></th>\n",
       "      <th></th>\n",
       "      <th></th>\n",
       "      <th></th>\n",
       "    </tr>\n",
       "  </thead>\n",
       "  <tbody>\n",
       "    <tr>\n",
       "      <th>2010-01-15</th>\n",
       "      <td>1</td>\n",
       "      <td>2</td>\n",
       "      <td>1</td>\n",
       "      <td>3</td>\n",
       "      <td>3</td>\n",
       "    </tr>\n",
       "    <tr>\n",
       "      <th>2010-01-21</th>\n",
       "      <td>0</td>\n",
       "      <td>0</td>\n",
       "      <td>2</td>\n",
       "      <td>0</td>\n",
       "      <td>1</td>\n",
       "    </tr>\n",
       "    <tr>\n",
       "      <th>2010-01-22</th>\n",
       "      <td>1</td>\n",
       "      <td>0</td>\n",
       "      <td>0</td>\n",
       "      <td>2</td>\n",
       "      <td>0</td>\n",
       "    </tr>\n",
       "    <tr>\n",
       "      <th>2010-01-25</th>\n",
       "      <td>2</td>\n",
       "      <td>1</td>\n",
       "      <td>0</td>\n",
       "      <td>0</td>\n",
       "      <td>2</td>\n",
       "    </tr>\n",
       "    <tr>\n",
       "      <th>2010-01-27</th>\n",
       "      <td>1</td>\n",
       "      <td>2</td>\n",
       "      <td>2</td>\n",
       "      <td>1</td>\n",
       "      <td>0</td>\n",
       "    </tr>\n",
       "  </tbody>\n",
       "</table>\n",
       "</div>"
      ],
      "text/plain": [
       "            lag_1_bin  lag_2_bin  lag_3_bin  lag_4_bin  lag_5_bin\n",
       "Date                                                             \n",
       "2010-01-15          1          2          1          3          3\n",
       "2010-01-21          0          0          2          0          1\n",
       "2010-01-22          1          0          0          2          0\n",
       "2010-01-25          2          1          0          0          2\n",
       "2010-01-27          1          2          2          1          0"
      ]
     },
     "execution_count": 105,
     "metadata": {},
     "output_type": "execute_result"
    }
   ],
   "source": [
    "test=test.copy().sort_index()\n",
    "test[cols_bin].head()"
   ]
  },
  {
   "cell_type": "code",
   "execution_count": 107,
   "id": "ea977280",
   "metadata": {},
   "outputs": [],
   "source": [
    "model=MLPClassifier(solver='lbfgs',alpha=1e-5,max_iter=500,hidden_layer_sizes=3*[500],random_state=1)"
   ]
  },
  {
   "cell_type": "code",
   "execution_count": 108,
   "id": "b6ea7212",
   "metadata": {},
   "outputs": [
    {
     "name": "stdout",
     "output_type": "stream",
     "text": [
      "Wall time: 1min 22s\n"
     ]
    },
    {
     "data": {
      "text/plain": [
       "MLPClassifier(alpha=1e-05, hidden_layer_sizes=[500, 500, 500], max_iter=500,\n",
       "              random_state=1, solver='lbfgs')"
      ]
     },
     "execution_count": 108,
     "metadata": {},
     "output_type": "execute_result"
    }
   ],
   "source": [
    "%time model.fit(train[cols_bin],train['direction'])"
   ]
  },
  {
   "cell_type": "code",
   "execution_count": 109,
   "id": "20d1f9f9",
   "metadata": {},
   "outputs": [],
   "source": [
    "test['pos_dnn_sk']=model.predict(test[cols_bin])\n",
    "test['strat_dnn_sk']=test['pos_dnn_sk']*test['returns']"
   ]
  },
  {
   "cell_type": "code",
   "execution_count": 110,
   "id": "1f3b2f21",
   "metadata": {},
   "outputs": [
    {
     "data": {
      "text/plain": [
       "returns         0.736500\n",
       "strat_dnn_sk    0.898304\n",
       "dtype: float64"
      ]
     },
     "execution_count": 110,
     "metadata": {},
     "output_type": "execute_result"
    }
   ],
   "source": [
    "test[['returns','strat_dnn_sk']].sum().apply(np.exp)"
   ]
  },
  {
   "cell_type": "code",
   "execution_count": 111,
   "id": "f65ff44f",
   "metadata": {},
   "outputs": [
    {
     "data": {
      "text/plain": [
       "0.6660633484162896"
      ]
     },
     "execution_count": 111,
     "metadata": {},
     "output_type": "execute_result"
    }
   ],
   "source": [
    "(train['direction']==train['pos_dnn_sk']).mean()"
   ]
  },
  {
   "cell_type": "code",
   "execution_count": 112,
   "id": "2288dc09",
   "metadata": {},
   "outputs": [
    {
     "data": {
      "text/plain": [
       "0.5067873303167421"
      ]
     },
     "execution_count": 112,
     "metadata": {},
     "output_type": "execute_result"
    }
   ],
   "source": [
    "(test['direction']==test['pos_dnn_sk']).mean()"
   ]
  },
  {
   "cell_type": "markdown",
   "id": "ee42664c",
   "metadata": {},
   "source": [
    "## 以上都是以sklearn为基础的实验，但没有做交叉验证，所以模型仅供参考"
   ]
  },
  {
   "cell_type": "code",
   "execution_count": null,
   "id": "f857ac61",
   "metadata": {},
   "outputs": [],
   "source": []
  },
  {
   "cell_type": "code",
   "execution_count": null,
   "id": "fe08ae38",
   "metadata": {},
   "outputs": [],
   "source": []
  }
 ],
 "metadata": {
  "kernelspec": {
   "display_name": "Python 3",
   "language": "python",
   "name": "python3"
  },
  "language_info": {
   "codemirror_mode": {
    "name": "ipython",
    "version": 3
   },
   "file_extension": ".py",
   "mimetype": "text/x-python",
   "name": "python",
   "nbconvert_exporter": "python",
   "pygments_lexer": "ipython3",
   "version": "3.8.8"
  }
 },
 "nbformat": 4,
 "nbformat_minor": 5
}
