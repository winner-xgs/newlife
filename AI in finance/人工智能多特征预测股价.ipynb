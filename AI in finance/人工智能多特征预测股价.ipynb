{
 "cells": [
  {
   "cell_type": "code",
   "execution_count": 1,
   "id": "ad9d670b",
   "metadata": {},
   "outputs": [],
   "source": [
    "import numpy as np\n",
    "import pandas as pd\n",
    "from pylab import plt,mpl\n",
    "plt.style.use('seaborn')\n",
    "mpl.rcParams['savefig.dpi']=300\n",
    "mpl.rcParams['font.family']='serif'\n",
    "\n",
    "pd.set_option('precision',4)\n",
    "np.set_printoptions(suppress=True,precision=4)"
   ]
  },
  {
   "cell_type": "code",
   "execution_count": 2,
   "id": "1526584c",
   "metadata": {},
   "outputs": [],
   "source": [
    "url='http://hilpisch.com/aiif_eikon_eod_data.csv'"
   ]
  },
  {
   "cell_type": "code",
   "execution_count": 3,
   "id": "195cb2d2",
   "metadata": {},
   "outputs": [
    {
     "data": {
      "text/html": [
       "<div>\n",
       "<style scoped>\n",
       "    .dataframe tbody tr th:only-of-type {\n",
       "        vertical-align: middle;\n",
       "    }\n",
       "\n",
       "    .dataframe tbody tr th {\n",
       "        vertical-align: top;\n",
       "    }\n",
       "\n",
       "    .dataframe thead th {\n",
       "        text-align: right;\n",
       "    }\n",
       "</style>\n",
       "<table border=\"1\" class=\"dataframe\">\n",
       "  <thead>\n",
       "    <tr style=\"text-align: right;\">\n",
       "      <th></th>\n",
       "      <th>AAPL.O</th>\n",
       "      <th>MSFT.O</th>\n",
       "      <th>INTC.O</th>\n",
       "      <th>AMZN.O</th>\n",
       "      <th>GS.N</th>\n",
       "      <th>SPY</th>\n",
       "      <th>.SPX</th>\n",
       "      <th>.VIX</th>\n",
       "      <th>EUR=</th>\n",
       "      <th>XAU=</th>\n",
       "      <th>GDX</th>\n",
       "      <th>GLD</th>\n",
       "    </tr>\n",
       "    <tr>\n",
       "      <th>Date</th>\n",
       "      <th></th>\n",
       "      <th></th>\n",
       "      <th></th>\n",
       "      <th></th>\n",
       "      <th></th>\n",
       "      <th></th>\n",
       "      <th></th>\n",
       "      <th></th>\n",
       "      <th></th>\n",
       "      <th></th>\n",
       "      <th></th>\n",
       "      <th></th>\n",
       "    </tr>\n",
       "  </thead>\n",
       "  <tbody>\n",
       "    <tr>\n",
       "      <th>2010-01-04</th>\n",
       "      <td>30.5728</td>\n",
       "      <td>30.950</td>\n",
       "      <td>20.88</td>\n",
       "      <td>133.90</td>\n",
       "      <td>173.08</td>\n",
       "      <td>113.33</td>\n",
       "      <td>1132.99</td>\n",
       "      <td>20.04</td>\n",
       "      <td>1.4411</td>\n",
       "      <td>1120.0000</td>\n",
       "      <td>47.71</td>\n",
       "      <td>109.80</td>\n",
       "    </tr>\n",
       "    <tr>\n",
       "      <th>2010-01-05</th>\n",
       "      <td>30.6257</td>\n",
       "      <td>30.960</td>\n",
       "      <td>20.87</td>\n",
       "      <td>134.69</td>\n",
       "      <td>176.14</td>\n",
       "      <td>113.63</td>\n",
       "      <td>1136.52</td>\n",
       "      <td>19.35</td>\n",
       "      <td>1.4368</td>\n",
       "      <td>1118.6500</td>\n",
       "      <td>48.17</td>\n",
       "      <td>109.70</td>\n",
       "    </tr>\n",
       "    <tr>\n",
       "      <th>2010-01-06</th>\n",
       "      <td>30.1385</td>\n",
       "      <td>30.770</td>\n",
       "      <td>20.80</td>\n",
       "      <td>132.25</td>\n",
       "      <td>174.26</td>\n",
       "      <td>113.71</td>\n",
       "      <td>1137.14</td>\n",
       "      <td>19.16</td>\n",
       "      <td>1.4412</td>\n",
       "      <td>1138.5000</td>\n",
       "      <td>49.34</td>\n",
       "      <td>111.51</td>\n",
       "    </tr>\n",
       "    <tr>\n",
       "      <th>2010-01-07</th>\n",
       "      <td>30.0828</td>\n",
       "      <td>30.452</td>\n",
       "      <td>20.60</td>\n",
       "      <td>130.00</td>\n",
       "      <td>177.67</td>\n",
       "      <td>114.19</td>\n",
       "      <td>1141.69</td>\n",
       "      <td>19.06</td>\n",
       "      <td>1.4318</td>\n",
       "      <td>1131.9000</td>\n",
       "      <td>49.10</td>\n",
       "      <td>110.82</td>\n",
       "    </tr>\n",
       "    <tr>\n",
       "      <th>2010-01-08</th>\n",
       "      <td>30.2828</td>\n",
       "      <td>30.660</td>\n",
       "      <td>20.83</td>\n",
       "      <td>133.52</td>\n",
       "      <td>174.31</td>\n",
       "      <td>114.57</td>\n",
       "      <td>1144.98</td>\n",
       "      <td>18.13</td>\n",
       "      <td>1.4412</td>\n",
       "      <td>1136.1000</td>\n",
       "      <td>49.84</td>\n",
       "      <td>111.37</td>\n",
       "    </tr>\n",
       "    <tr>\n",
       "      <th>...</th>\n",
       "      <td>...</td>\n",
       "      <td>...</td>\n",
       "      <td>...</td>\n",
       "      <td>...</td>\n",
       "      <td>...</td>\n",
       "      <td>...</td>\n",
       "      <td>...</td>\n",
       "      <td>...</td>\n",
       "      <td>...</td>\n",
       "      <td>...</td>\n",
       "      <td>...</td>\n",
       "      <td>...</td>\n",
       "    </tr>\n",
       "    <tr>\n",
       "      <th>2019-12-24</th>\n",
       "      <td>284.2700</td>\n",
       "      <td>157.380</td>\n",
       "      <td>59.41</td>\n",
       "      <td>1789.21</td>\n",
       "      <td>229.91</td>\n",
       "      <td>321.23</td>\n",
       "      <td>3223.38</td>\n",
       "      <td>12.67</td>\n",
       "      <td>1.1087</td>\n",
       "      <td>1498.8100</td>\n",
       "      <td>28.66</td>\n",
       "      <td>141.27</td>\n",
       "    </tr>\n",
       "    <tr>\n",
       "      <th>2019-12-26</th>\n",
       "      <td>289.9100</td>\n",
       "      <td>158.670</td>\n",
       "      <td>59.82</td>\n",
       "      <td>1868.77</td>\n",
       "      <td>231.21</td>\n",
       "      <td>322.94</td>\n",
       "      <td>3239.91</td>\n",
       "      <td>12.65</td>\n",
       "      <td>1.1096</td>\n",
       "      <td>1511.2979</td>\n",
       "      <td>29.08</td>\n",
       "      <td>142.38</td>\n",
       "    </tr>\n",
       "    <tr>\n",
       "      <th>2019-12-27</th>\n",
       "      <td>289.8000</td>\n",
       "      <td>158.960</td>\n",
       "      <td>60.08</td>\n",
       "      <td>1869.80</td>\n",
       "      <td>230.66</td>\n",
       "      <td>322.86</td>\n",
       "      <td>3240.02</td>\n",
       "      <td>13.43</td>\n",
       "      <td>1.1175</td>\n",
       "      <td>1510.4167</td>\n",
       "      <td>28.87</td>\n",
       "      <td>142.33</td>\n",
       "    </tr>\n",
       "    <tr>\n",
       "      <th>2019-12-30</th>\n",
       "      <td>291.5200</td>\n",
       "      <td>157.590</td>\n",
       "      <td>59.62</td>\n",
       "      <td>1846.89</td>\n",
       "      <td>229.80</td>\n",
       "      <td>321.08</td>\n",
       "      <td>3221.29</td>\n",
       "      <td>14.82</td>\n",
       "      <td>1.1197</td>\n",
       "      <td>1515.1230</td>\n",
       "      <td>29.49</td>\n",
       "      <td>142.63</td>\n",
       "    </tr>\n",
       "    <tr>\n",
       "      <th>2019-12-31</th>\n",
       "      <td>293.6500</td>\n",
       "      <td>157.700</td>\n",
       "      <td>59.85</td>\n",
       "      <td>1847.84</td>\n",
       "      <td>229.93</td>\n",
       "      <td>321.86</td>\n",
       "      <td>3230.78</td>\n",
       "      <td>13.78</td>\n",
       "      <td>1.1210</td>\n",
       "      <td>1517.0100</td>\n",
       "      <td>29.28</td>\n",
       "      <td>142.90</td>\n",
       "    </tr>\n",
       "  </tbody>\n",
       "</table>\n",
       "<p>2516 rows × 12 columns</p>\n",
       "</div>"
      ],
      "text/plain": [
       "              AAPL.O   MSFT.O  INTC.O   AMZN.O    GS.N     SPY     .SPX  \\\n",
       "Date                                                                      \n",
       "2010-01-04   30.5728   30.950   20.88   133.90  173.08  113.33  1132.99   \n",
       "2010-01-05   30.6257   30.960   20.87   134.69  176.14  113.63  1136.52   \n",
       "2010-01-06   30.1385   30.770   20.80   132.25  174.26  113.71  1137.14   \n",
       "2010-01-07   30.0828   30.452   20.60   130.00  177.67  114.19  1141.69   \n",
       "2010-01-08   30.2828   30.660   20.83   133.52  174.31  114.57  1144.98   \n",
       "...              ...      ...     ...      ...     ...     ...      ...   \n",
       "2019-12-24  284.2700  157.380   59.41  1789.21  229.91  321.23  3223.38   \n",
       "2019-12-26  289.9100  158.670   59.82  1868.77  231.21  322.94  3239.91   \n",
       "2019-12-27  289.8000  158.960   60.08  1869.80  230.66  322.86  3240.02   \n",
       "2019-12-30  291.5200  157.590   59.62  1846.89  229.80  321.08  3221.29   \n",
       "2019-12-31  293.6500  157.700   59.85  1847.84  229.93  321.86  3230.78   \n",
       "\n",
       "             .VIX    EUR=       XAU=    GDX     GLD  \n",
       "Date                                                 \n",
       "2010-01-04  20.04  1.4411  1120.0000  47.71  109.80  \n",
       "2010-01-05  19.35  1.4368  1118.6500  48.17  109.70  \n",
       "2010-01-06  19.16  1.4412  1138.5000  49.34  111.51  \n",
       "2010-01-07  19.06  1.4318  1131.9000  49.10  110.82  \n",
       "2010-01-08  18.13  1.4412  1136.1000  49.84  111.37  \n",
       "...           ...     ...        ...    ...     ...  \n",
       "2019-12-24  12.67  1.1087  1498.8100  28.66  141.27  \n",
       "2019-12-26  12.65  1.1096  1511.2979  29.08  142.38  \n",
       "2019-12-27  13.43  1.1175  1510.4167  28.87  142.33  \n",
       "2019-12-30  14.82  1.1197  1515.1230  29.49  142.63  \n",
       "2019-12-31  13.78  1.1210  1517.0100  29.28  142.90  \n",
       "\n",
       "[2516 rows x 12 columns]"
      ]
     },
     "execution_count": 3,
     "metadata": {},
     "output_type": "execute_result"
    }
   ],
   "source": [
    "data=pd.read_csv(url,index_col=0,parse_dates=True).dropna()\n",
    "data"
   ]
  },
  {
   "cell_type": "code",
   "execution_count": 4,
   "id": "e47c3460",
   "metadata": {
    "scrolled": false
   },
   "outputs": [
    {
     "data": {
      "text/plain": [
       "<AxesSubplot:xlabel='Date'>"
      ]
     },
     "execution_count": 4,
     "metadata": {},
     "output_type": "execute_result"
    },
    {
     "data": {
      "image/png": "[encoded data removed]",
      "text/plain": [
       "<Figure size 1440x576 with 1 Axes>"
      ]
     },
     "metadata": {},
     "output_type": "display_data"
    }
   ],
   "source": [
    "(data/data.iloc[0]).plot(figsize=(20,8),cmap='coolwarm')"
   ]
  },
  {
   "cell_type": "code",
   "execution_count": 5,
   "id": "341b7de4",
   "metadata": {},
   "outputs": [],
   "source": [
    "lags=7"
   ]
  },
  {
   "cell_type": "code",
   "execution_count": 6,
   "id": "840d708f",
   "metadata": {},
   "outputs": [],
   "source": [
    "def add_lags(data,ric,lags):\n",
    "    cols=[]\n",
    "    df=pd.DataFrame(data[ric])\n",
    "    for lag in range(1,lags+1):\n",
    "        col='lag_{}'.format(lag)\n",
    "        df[col]=df[ric].shift(lag)\n",
    "        cols.append(col)\n",
    "        \n",
    "    df.dropna(inplace=True)\n",
    "    return df,cols"
   ]
  },
  {
   "cell_type": "code",
   "execution_count": 7,
   "id": "a6378cdc",
   "metadata": {},
   "outputs": [],
   "source": [
    "dfs={}\n",
    "for sym in data.columns:\n",
    "    df,cols =add_lags(data,sym,lags)\n",
    "    dfs[sym]=df"
   ]
  },
  {
   "cell_type": "code",
   "execution_count": 8,
   "id": "1ded0aec",
   "metadata": {},
   "outputs": [
    {
     "data": {
      "text/html": [
       "<div>\n",
       "<style scoped>\n",
       "    .dataframe tbody tr th:only-of-type {\n",
       "        vertical-align: middle;\n",
       "    }\n",
       "\n",
       "    .dataframe tbody tr th {\n",
       "        vertical-align: top;\n",
       "    }\n",
       "\n",
       "    .dataframe thead th {\n",
       "        text-align: right;\n",
       "    }\n",
       "</style>\n",
       "<table border=\"1\" class=\"dataframe\">\n",
       "  <thead>\n",
       "    <tr style=\"text-align: right;\">\n",
       "      <th></th>\n",
       "      <th>GLD</th>\n",
       "      <th>lag_1</th>\n",
       "      <th>lag_2</th>\n",
       "      <th>lag_3</th>\n",
       "      <th>lag_4</th>\n",
       "      <th>lag_5</th>\n",
       "      <th>lag_6</th>\n",
       "      <th>lag_7</th>\n",
       "    </tr>\n",
       "    <tr>\n",
       "      <th>Date</th>\n",
       "      <th></th>\n",
       "      <th></th>\n",
       "      <th></th>\n",
       "      <th></th>\n",
       "      <th></th>\n",
       "      <th></th>\n",
       "      <th></th>\n",
       "      <th></th>\n",
       "    </tr>\n",
       "  </thead>\n",
       "  <tbody>\n",
       "    <tr>\n",
       "      <th>2010-01-13</th>\n",
       "      <td>111.54</td>\n",
       "      <td>110.49</td>\n",
       "      <td>112.85</td>\n",
       "      <td>111.37</td>\n",
       "      <td>110.82</td>\n",
       "      <td>111.51</td>\n",
       "      <td>109.70</td>\n",
       "      <td>109.80</td>\n",
       "    </tr>\n",
       "    <tr>\n",
       "      <th>2010-01-14</th>\n",
       "      <td>112.03</td>\n",
       "      <td>111.54</td>\n",
       "      <td>110.49</td>\n",
       "      <td>112.85</td>\n",
       "      <td>111.37</td>\n",
       "      <td>110.82</td>\n",
       "      <td>111.51</td>\n",
       "      <td>109.70</td>\n",
       "    </tr>\n",
       "    <tr>\n",
       "      <th>2010-01-15</th>\n",
       "      <td>110.86</td>\n",
       "      <td>112.03</td>\n",
       "      <td>111.54</td>\n",
       "      <td>110.49</td>\n",
       "      <td>112.85</td>\n",
       "      <td>111.37</td>\n",
       "      <td>110.82</td>\n",
       "      <td>111.51</td>\n",
       "    </tr>\n",
       "    <tr>\n",
       "      <th>2010-01-19</th>\n",
       "      <td>111.52</td>\n",
       "      <td>110.86</td>\n",
       "      <td>112.03</td>\n",
       "      <td>111.54</td>\n",
       "      <td>110.49</td>\n",
       "      <td>112.85</td>\n",
       "      <td>111.37</td>\n",
       "      <td>110.82</td>\n",
       "    </tr>\n",
       "    <tr>\n",
       "      <th>2010-01-20</th>\n",
       "      <td>108.94</td>\n",
       "      <td>111.52</td>\n",
       "      <td>110.86</td>\n",
       "      <td>112.03</td>\n",
       "      <td>111.54</td>\n",
       "      <td>110.49</td>\n",
       "      <td>112.85</td>\n",
       "      <td>111.37</td>\n",
       "    </tr>\n",
       "    <tr>\n",
       "      <th>2010-01-21</th>\n",
       "      <td>107.37</td>\n",
       "      <td>108.94</td>\n",
       "      <td>111.52</td>\n",
       "      <td>110.86</td>\n",
       "      <td>112.03</td>\n",
       "      <td>111.54</td>\n",
       "      <td>110.49</td>\n",
       "      <td>112.85</td>\n",
       "    </tr>\n",
       "    <tr>\n",
       "      <th>2010-01-22</th>\n",
       "      <td>107.17</td>\n",
       "      <td>107.37</td>\n",
       "      <td>108.94</td>\n",
       "      <td>111.52</td>\n",
       "      <td>110.86</td>\n",
       "      <td>112.03</td>\n",
       "      <td>111.54</td>\n",
       "      <td>110.49</td>\n",
       "    </tr>\n",
       "  </tbody>\n",
       "</table>\n",
       "</div>"
      ],
      "text/plain": [
       "               GLD   lag_1   lag_2   lag_3   lag_4   lag_5   lag_6   lag_7\n",
       "Date                                                                      \n",
       "2010-01-13  111.54  110.49  112.85  111.37  110.82  111.51  109.70  109.80\n",
       "2010-01-14  112.03  111.54  110.49  112.85  111.37  110.82  111.51  109.70\n",
       "2010-01-15  110.86  112.03  111.54  110.49  112.85  111.37  110.82  111.51\n",
       "2010-01-19  111.52  110.86  112.03  111.54  110.49  112.85  111.37  110.82\n",
       "2010-01-20  108.94  111.52  110.86  112.03  111.54  110.49  112.85  111.37\n",
       "2010-01-21  107.37  108.94  111.52  110.86  112.03  111.54  110.49  112.85\n",
       "2010-01-22  107.17  107.37  108.94  111.52  110.86  112.03  111.54  110.49"
      ]
     },
     "execution_count": 8,
     "metadata": {},
     "output_type": "execute_result"
    }
   ],
   "source": [
    "dfs[sym].head(7)"
   ]
  },
  {
   "cell_type": "code",
   "execution_count": 9,
   "id": "99e9f9db",
   "metadata": {},
   "outputs": [],
   "source": [
    "regs={}\n",
    "for sym in data.columns:\n",
    "    df=dfs[sym]\n",
    "    reg=np.linalg.lstsq(df[cols],df[sym],rcond=-1)[0]\n",
    "    regs[sym]=reg"
   ]
  },
  {
   "cell_type": "code",
   "execution_count": 10,
   "id": "9a0ff86d",
   "metadata": {},
   "outputs": [
    {
     "data": {
      "text/plain": [
       "{'AAPL.O': array([ 1.0106, -0.0592,  0.0258,  0.0535, -0.0172,  0.006 , -0.0184]),\n",
       " 'MSFT.O': array([ 0.8928,  0.0112,  0.1175, -0.0832, -0.0258,  0.0567,  0.0323]),\n",
       " 'INTC.O': array([ 0.9519,  0.0579,  0.049 , -0.0772, -0.0373,  0.0449,  0.0112]),\n",
       " 'AMZN.O': array([ 0.9799, -0.0134,  0.0206,  0.0007,  0.0525, -0.0452,  0.0056]),\n",
       " 'GS.N': array([ 0.9806,  0.0342, -0.0172,  0.0042, -0.0387,  0.0585, -0.0215]),\n",
       " 'SPY': array([ 0.9692,  0.0067,  0.0228, -0.0244, -0.0237,  0.0379,  0.0121]),\n",
       " '.SPX': array([ 0.9672,  0.0106,  0.0219, -0.0252, -0.0318,  0.0515,  0.0063]),\n",
       " '.VIX': array([ 0.8823,  0.0591, -0.0289,  0.0284, -0.0256,  0.0511,  0.0306]),\n",
       " 'EUR=': array([ 0.9859,  0.0239, -0.0484,  0.0508, -0.0217,  0.0149, -0.0055]),\n",
       " 'XAU=': array([ 0.9864,  0.0069,  0.0166, -0.0215,  0.0044,  0.0198, -0.0125]),\n",
       " 'GDX': array([ 0.9765,  0.0096, -0.0039,  0.0223, -0.0364,  0.0379, -0.0065]),\n",
       " 'GLD': array([ 0.9766,  0.0246,  0.006 , -0.0142, -0.0047,  0.0223, -0.0106])}"
      ]
     },
     "execution_count": 10,
     "metadata": {},
     "output_type": "execute_result"
    }
   ],
   "source": [
    "regs"
   ]
  },
  {
   "cell_type": "code",
   "execution_count": 11,
   "id": "a5cfbe4d",
   "metadata": {},
   "outputs": [
    {
     "data": {
      "text/plain": [
       "(array([ 1.0106, -0.0592,  0.0258,  0.0535, -0.0172,  0.006 , -0.0184]),\n",
       " array([ 0.8928,  0.0112,  0.1175, -0.0832, -0.0258,  0.0567,  0.0323]),\n",
       " array([ 0.9519,  0.0579,  0.049 , -0.0772, -0.0373,  0.0449,  0.0112]),\n",
       " array([ 0.9799, -0.0134,  0.0206,  0.0007,  0.0525, -0.0452,  0.0056]),\n",
       " array([ 0.9806,  0.0342, -0.0172,  0.0042, -0.0387,  0.0585, -0.0215]),\n",
       " array([ 0.9692,  0.0067,  0.0228, -0.0244, -0.0237,  0.0379,  0.0121]),\n",
       " array([ 0.9672,  0.0106,  0.0219, -0.0252, -0.0318,  0.0515,  0.0063]),\n",
       " array([ 0.8823,  0.0591, -0.0289,  0.0284, -0.0256,  0.0511,  0.0306]),\n",
       " array([ 0.9859,  0.0239, -0.0484,  0.0508, -0.0217,  0.0149, -0.0055]),\n",
       " array([ 0.9864,  0.0069,  0.0166, -0.0215,  0.0044,  0.0198, -0.0125]),\n",
       " array([ 0.9765,  0.0096, -0.0039,  0.0223, -0.0364,  0.0379, -0.0065]),\n",
       " array([ 0.9766,  0.0246,  0.006 , -0.0142, -0.0047,  0.0223, -0.0106]))"
      ]
     },
     "execution_count": 11,
     "metadata": {},
     "output_type": "execute_result"
    }
   ],
   "source": [
    "tuple(regs.values())"
   ]
  },
  {
   "cell_type": "code",
   "execution_count": 12,
   "id": "cb6bd9c9",
   "metadata": {},
   "outputs": [
    {
     "data": {
      "text/plain": [
       "array([[ 1.0106, -0.0592,  0.0258,  0.0535, -0.0172,  0.006 , -0.0184],\n",
       "       [ 0.8928,  0.0112,  0.1175, -0.0832, -0.0258,  0.0567,  0.0323],\n",
       "       [ 0.9519,  0.0579,  0.049 , -0.0772, -0.0373,  0.0449,  0.0112],\n",
       "       [ 0.9799, -0.0134,  0.0206,  0.0007,  0.0525, -0.0452,  0.0056],\n",
       "       [ 0.9806,  0.0342, -0.0172,  0.0042, -0.0387,  0.0585, -0.0215],\n",
       "       [ 0.9692,  0.0067,  0.0228, -0.0244, -0.0237,  0.0379,  0.0121],\n",
       "       [ 0.9672,  0.0106,  0.0219, -0.0252, -0.0318,  0.0515,  0.0063],\n",
       "       [ 0.8823,  0.0591, -0.0289,  0.0284, -0.0256,  0.0511,  0.0306],\n",
       "       [ 0.9859,  0.0239, -0.0484,  0.0508, -0.0217,  0.0149, -0.0055],\n",
       "       [ 0.9864,  0.0069,  0.0166, -0.0215,  0.0044,  0.0198, -0.0125],\n",
       "       [ 0.9765,  0.0096, -0.0039,  0.0223, -0.0364,  0.0379, -0.0065],\n",
       "       [ 0.9766,  0.0246,  0.006 , -0.0142, -0.0047,  0.0223, -0.0106]])"
      ]
     },
     "execution_count": 12,
     "metadata": {},
     "output_type": "execute_result"
    }
   ],
   "source": [
    "#combines the optimal results into a single ndarray object\n",
    "rega=np.stack(tuple(regs.values()))\n",
    "rega"
   ]
  },
  {
   "cell_type": "code",
   "execution_count": 13,
   "id": "beb32735",
   "metadata": {},
   "outputs": [
    {
     "data": {
      "text/html": [
       "<div>\n",
       "<style scoped>\n",
       "    .dataframe tbody tr th:only-of-type {\n",
       "        vertical-align: middle;\n",
       "    }\n",
       "\n",
       "    .dataframe tbody tr th {\n",
       "        vertical-align: top;\n",
       "    }\n",
       "\n",
       "    .dataframe thead th {\n",
       "        text-align: right;\n",
       "    }\n",
       "</style>\n",
       "<table border=\"1\" class=\"dataframe\">\n",
       "  <thead>\n",
       "    <tr style=\"text-align: right;\">\n",
       "      <th></th>\n",
       "      <th>lag_1</th>\n",
       "      <th>lag_2</th>\n",
       "      <th>lag_3</th>\n",
       "      <th>lag_4</th>\n",
       "      <th>lag_5</th>\n",
       "      <th>lag_6</th>\n",
       "      <th>lag_7</th>\n",
       "    </tr>\n",
       "  </thead>\n",
       "  <tbody>\n",
       "    <tr>\n",
       "      <th>AAPL.O</th>\n",
       "      <td>1.0106</td>\n",
       "      <td>-0.0592</td>\n",
       "      <td>0.0258</td>\n",
       "      <td>0.0535</td>\n",
       "      <td>-0.0172</td>\n",
       "      <td>0.0060</td>\n",
       "      <td>-0.0184</td>\n",
       "    </tr>\n",
       "    <tr>\n",
       "      <th>MSFT.O</th>\n",
       "      <td>0.8928</td>\n",
       "      <td>0.0112</td>\n",
       "      <td>0.1175</td>\n",
       "      <td>-0.0832</td>\n",
       "      <td>-0.0258</td>\n",
       "      <td>0.0567</td>\n",
       "      <td>0.0323</td>\n",
       "    </tr>\n",
       "    <tr>\n",
       "      <th>INTC.O</th>\n",
       "      <td>0.9519</td>\n",
       "      <td>0.0579</td>\n",
       "      <td>0.0490</td>\n",
       "      <td>-0.0772</td>\n",
       "      <td>-0.0373</td>\n",
       "      <td>0.0449</td>\n",
       "      <td>0.0112</td>\n",
       "    </tr>\n",
       "    <tr>\n",
       "      <th>AMZN.O</th>\n",
       "      <td>0.9799</td>\n",
       "      <td>-0.0134</td>\n",
       "      <td>0.0206</td>\n",
       "      <td>0.0007</td>\n",
       "      <td>0.0525</td>\n",
       "      <td>-0.0452</td>\n",
       "      <td>0.0056</td>\n",
       "    </tr>\n",
       "    <tr>\n",
       "      <th>GS.N</th>\n",
       "      <td>0.9806</td>\n",
       "      <td>0.0342</td>\n",
       "      <td>-0.0172</td>\n",
       "      <td>0.0042</td>\n",
       "      <td>-0.0387</td>\n",
       "      <td>0.0585</td>\n",
       "      <td>-0.0215</td>\n",
       "    </tr>\n",
       "    <tr>\n",
       "      <th>SPY</th>\n",
       "      <td>0.9692</td>\n",
       "      <td>0.0067</td>\n",
       "      <td>0.0228</td>\n",
       "      <td>-0.0244</td>\n",
       "      <td>-0.0237</td>\n",
       "      <td>0.0379</td>\n",
       "      <td>0.0121</td>\n",
       "    </tr>\n",
       "    <tr>\n",
       "      <th>.SPX</th>\n",
       "      <td>0.9672</td>\n",
       "      <td>0.0106</td>\n",
       "      <td>0.0219</td>\n",
       "      <td>-0.0252</td>\n",
       "      <td>-0.0318</td>\n",
       "      <td>0.0515</td>\n",
       "      <td>0.0063</td>\n",
       "    </tr>\n",
       "    <tr>\n",
       "      <th>.VIX</th>\n",
       "      <td>0.8823</td>\n",
       "      <td>0.0591</td>\n",
       "      <td>-0.0289</td>\n",
       "      <td>0.0284</td>\n",
       "      <td>-0.0256</td>\n",
       "      <td>0.0511</td>\n",
       "      <td>0.0306</td>\n",
       "    </tr>\n",
       "    <tr>\n",
       "      <th>EUR=</th>\n",
       "      <td>0.9859</td>\n",
       "      <td>0.0239</td>\n",
       "      <td>-0.0484</td>\n",
       "      <td>0.0508</td>\n",
       "      <td>-0.0217</td>\n",
       "      <td>0.0149</td>\n",
       "      <td>-0.0055</td>\n",
       "    </tr>\n",
       "    <tr>\n",
       "      <th>XAU=</th>\n",
       "      <td>0.9864</td>\n",
       "      <td>0.0069</td>\n",
       "      <td>0.0166</td>\n",
       "      <td>-0.0215</td>\n",
       "      <td>0.0044</td>\n",
       "      <td>0.0198</td>\n",
       "      <td>-0.0125</td>\n",
       "    </tr>\n",
       "    <tr>\n",
       "      <th>GDX</th>\n",
       "      <td>0.9765</td>\n",
       "      <td>0.0096</td>\n",
       "      <td>-0.0039</td>\n",
       "      <td>0.0223</td>\n",
       "      <td>-0.0364</td>\n",
       "      <td>0.0379</td>\n",
       "      <td>-0.0065</td>\n",
       "    </tr>\n",
       "    <tr>\n",
       "      <th>GLD</th>\n",
       "      <td>0.9766</td>\n",
       "      <td>0.0246</td>\n",
       "      <td>0.0060</td>\n",
       "      <td>-0.0142</td>\n",
       "      <td>-0.0047</td>\n",
       "      <td>0.0223</td>\n",
       "      <td>-0.0106</td>\n",
       "    </tr>\n",
       "  </tbody>\n",
       "</table>\n",
       "</div>"
      ],
      "text/plain": [
       "         lag_1   lag_2   lag_3   lag_4   lag_5   lag_6   lag_7\n",
       "AAPL.O  1.0106 -0.0592  0.0258  0.0535 -0.0172  0.0060 -0.0184\n",
       "MSFT.O  0.8928  0.0112  0.1175 -0.0832 -0.0258  0.0567  0.0323\n",
       "INTC.O  0.9519  0.0579  0.0490 -0.0772 -0.0373  0.0449  0.0112\n",
       "AMZN.O  0.9799 -0.0134  0.0206  0.0007  0.0525 -0.0452  0.0056\n",
       "GS.N    0.9806  0.0342 -0.0172  0.0042 -0.0387  0.0585 -0.0215\n",
       "SPY     0.9692  0.0067  0.0228 -0.0244 -0.0237  0.0379  0.0121\n",
       ".SPX    0.9672  0.0106  0.0219 -0.0252 -0.0318  0.0515  0.0063\n",
       ".VIX    0.8823  0.0591 -0.0289  0.0284 -0.0256  0.0511  0.0306\n",
       "EUR=    0.9859  0.0239 -0.0484  0.0508 -0.0217  0.0149 -0.0055\n",
       "XAU=    0.9864  0.0069  0.0166 -0.0215  0.0044  0.0198 -0.0125\n",
       "GDX     0.9765  0.0096 -0.0039  0.0223 -0.0364  0.0379 -0.0065\n",
       "GLD     0.9766  0.0246  0.0060 -0.0142 -0.0047  0.0223 -0.0106"
      ]
     },
     "execution_count": 13,
     "metadata": {},
     "output_type": "execute_result"
    }
   ],
   "source": [
    "regd=pd.DataFrame(rega,columns=cols,index=data.columns)\n",
    "regd"
   ]
  },
  {
   "cell_type": "code",
   "execution_count": 14,
   "id": "288f75e9",
   "metadata": {},
   "outputs": [],
   "source": [
    "# 这里面的数字就是最小平方法得出的系数"
   ]
  },
  {
   "cell_type": "code",
   "execution_count": 15,
   "id": "78325220",
   "metadata": {},
   "outputs": [
    {
     "data": {
      "text/plain": [
       "lag_1    0.9633\n",
       "lag_2    0.0143\n",
       "lag_3    0.0151\n",
       "lag_4   -0.0071\n",
       "lag_5   -0.0172\n",
       "lag_6    0.0297\n",
       "lag_7    0.0019\n",
       "dtype: float64"
      ]
     },
     "execution_count": 15,
     "metadata": {},
     "output_type": "execute_result"
    }
   ],
   "source": [
    "regd.mean()"
   ]
  },
  {
   "cell_type": "code",
   "execution_count": 16,
   "id": "be34756a",
   "metadata": {},
   "outputs": [
    {
     "data": {
      "text/plain": [
       "<AxesSubplot:>"
      ]
     },
     "execution_count": 16,
     "metadata": {},
     "output_type": "execute_result"
    },
    {
     "data": {
      "image/png": "[encoded data removed]",
      "text/plain": [
       "<Figure size 720x432 with 1 Axes>"
      ]
     },
     "metadata": {},
     "output_type": "display_data"
    }
   ],
   "source": [
    "regd.mean().plot(kind='bar',figsize=(10,6))"
   ]
  },
  {
   "cell_type": "code",
   "execution_count": 17,
   "id": "85bab971",
   "metadata": {},
   "outputs": [
    {
     "data": {
      "text/plain": [
       "<AxesSubplot:>"
      ]
     },
     "execution_count": 17,
     "metadata": {},
     "output_type": "execute_result"
    },
    {
     "data": {
      "image/png": "[encoded data removed]",
      "text/plain": [
       "<Figure size 720x432 with 1 Axes>"
      ]
     },
     "metadata": {},
     "output_type": "display_data"
    }
   ],
   "source": [
    "regd.mean().plot(figsize=(10,6))"
   ]
  },
  {
   "cell_type": "code",
   "execution_count": 18,
   "id": "4b1ecc0d",
   "metadata": {},
   "outputs": [
    {
     "data": {
      "text/html": [
       "<div>\n",
       "<style scoped>\n",
       "    .dataframe tbody tr th:only-of-type {\n",
       "        vertical-align: middle;\n",
       "    }\n",
       "\n",
       "    .dataframe tbody tr th {\n",
       "        vertical-align: top;\n",
       "    }\n",
       "\n",
       "    .dataframe thead th {\n",
       "        text-align: right;\n",
       "    }\n",
       "</style>\n",
       "<table border=\"1\" class=\"dataframe\">\n",
       "  <thead>\n",
       "    <tr style=\"text-align: right;\">\n",
       "      <th></th>\n",
       "      <th>GLD</th>\n",
       "      <th>lag_1</th>\n",
       "      <th>lag_2</th>\n",
       "      <th>lag_3</th>\n",
       "      <th>lag_4</th>\n",
       "      <th>lag_5</th>\n",
       "      <th>lag_6</th>\n",
       "      <th>lag_7</th>\n",
       "    </tr>\n",
       "  </thead>\n",
       "  <tbody>\n",
       "    <tr>\n",
       "      <th>GLD</th>\n",
       "      <td>1.0000</td>\n",
       "      <td>0.9972</td>\n",
       "      <td>0.9946</td>\n",
       "      <td>0.9920</td>\n",
       "      <td>0.9893</td>\n",
       "      <td>0.9867</td>\n",
       "      <td>0.9841</td>\n",
       "      <td>0.9815</td>\n",
       "    </tr>\n",
       "    <tr>\n",
       "      <th>lag_1</th>\n",
       "      <td>0.9972</td>\n",
       "      <td>1.0000</td>\n",
       "      <td>0.9972</td>\n",
       "      <td>0.9946</td>\n",
       "      <td>0.9920</td>\n",
       "      <td>0.9893</td>\n",
       "      <td>0.9867</td>\n",
       "      <td>0.9842</td>\n",
       "    </tr>\n",
       "    <tr>\n",
       "      <th>lag_2</th>\n",
       "      <td>0.9946</td>\n",
       "      <td>0.9972</td>\n",
       "      <td>1.0000</td>\n",
       "      <td>0.9972</td>\n",
       "      <td>0.9946</td>\n",
       "      <td>0.9920</td>\n",
       "      <td>0.9893</td>\n",
       "      <td>0.9867</td>\n",
       "    </tr>\n",
       "    <tr>\n",
       "      <th>lag_3</th>\n",
       "      <td>0.9920</td>\n",
       "      <td>0.9946</td>\n",
       "      <td>0.9972</td>\n",
       "      <td>1.0000</td>\n",
       "      <td>0.9972</td>\n",
       "      <td>0.9946</td>\n",
       "      <td>0.9920</td>\n",
       "      <td>0.9893</td>\n",
       "    </tr>\n",
       "    <tr>\n",
       "      <th>lag_4</th>\n",
       "      <td>0.9893</td>\n",
       "      <td>0.9920</td>\n",
       "      <td>0.9946</td>\n",
       "      <td>0.9972</td>\n",
       "      <td>1.0000</td>\n",
       "      <td>0.9972</td>\n",
       "      <td>0.9946</td>\n",
       "      <td>0.9920</td>\n",
       "    </tr>\n",
       "    <tr>\n",
       "      <th>lag_5</th>\n",
       "      <td>0.9867</td>\n",
       "      <td>0.9893</td>\n",
       "      <td>0.9920</td>\n",
       "      <td>0.9946</td>\n",
       "      <td>0.9972</td>\n",
       "      <td>1.0000</td>\n",
       "      <td>0.9972</td>\n",
       "      <td>0.9946</td>\n",
       "    </tr>\n",
       "    <tr>\n",
       "      <th>lag_6</th>\n",
       "      <td>0.9841</td>\n",
       "      <td>0.9867</td>\n",
       "      <td>0.9893</td>\n",
       "      <td>0.9920</td>\n",
       "      <td>0.9946</td>\n",
       "      <td>0.9972</td>\n",
       "      <td>1.0000</td>\n",
       "      <td>0.9972</td>\n",
       "    </tr>\n",
       "    <tr>\n",
       "      <th>lag_7</th>\n",
       "      <td>0.9815</td>\n",
       "      <td>0.9842</td>\n",
       "      <td>0.9867</td>\n",
       "      <td>0.9893</td>\n",
       "      <td>0.9920</td>\n",
       "      <td>0.9946</td>\n",
       "      <td>0.9972</td>\n",
       "      <td>1.0000</td>\n",
       "    </tr>\n",
       "  </tbody>\n",
       "</table>\n",
       "</div>"
      ],
      "text/plain": [
       "          GLD   lag_1   lag_2   lag_3   lag_4   lag_5   lag_6   lag_7\n",
       "GLD    1.0000  0.9972  0.9946  0.9920  0.9893  0.9867  0.9841  0.9815\n",
       "lag_1  0.9972  1.0000  0.9972  0.9946  0.9920  0.9893  0.9867  0.9842\n",
       "lag_2  0.9946  0.9972  1.0000  0.9972  0.9946  0.9920  0.9893  0.9867\n",
       "lag_3  0.9920  0.9946  0.9972  1.0000  0.9972  0.9946  0.9920  0.9893\n",
       "lag_4  0.9893  0.9920  0.9946  0.9972  1.0000  0.9972  0.9946  0.9920\n",
       "lag_5  0.9867  0.9893  0.9920  0.9946  0.9972  1.0000  0.9972  0.9946\n",
       "lag_6  0.9841  0.9867  0.9893  0.9920  0.9946  0.9972  1.0000  0.9972\n",
       "lag_7  0.9815  0.9842  0.9867  0.9893  0.9920  0.9946  0.9972  1.0000"
      ]
     },
     "execution_count": 18,
     "metadata": {},
     "output_type": "execute_result"
    }
   ],
   "source": [
    "dfs[sym].corr()"
   ]
  },
  {
   "cell_type": "code",
   "execution_count": 19,
   "id": "6c0d00b9",
   "metadata": {},
   "outputs": [],
   "source": [
    "#都是高度相关的 所以取最后一期数据和取前7天的数据是一样的"
   ]
  },
  {
   "cell_type": "code",
   "execution_count": 20,
   "id": "b72bc41f",
   "metadata": {},
   "outputs": [],
   "source": [
    "from statsmodels.tsa.stattools import adfuller"
   ]
  },
  {
   "cell_type": "code",
   "execution_count": 21,
   "id": "8cd5c8eb",
   "metadata": {},
   "outputs": [
    {
     "data": {
      "text/plain": [
       "(-1.948896957700993,\n",
       " 0.3094193074034729,\n",
       " 0,\n",
       " 2515,\n",
       " {'1%': -3.4329527780962255,\n",
       "  '5%': -2.8626898965523724,\n",
       "  '10%': -2.567382133955709},\n",
       " 8446.683102944744)"
      ]
     },
     "execution_count": 21,
     "metadata": {},
     "output_type": "execute_result"
    }
   ],
   "source": [
    "adfuller(data[sym].dropna())"
   ]
  },
  {
   "cell_type": "code",
   "execution_count": 22,
   "id": "aaf3960e",
   "metadata": {},
   "outputs": [],
   "source": [
    "#股价有点不行 所以用每天的收益率 再来观察 "
   ]
  },
  {
   "cell_type": "code",
   "execution_count": 23,
   "id": "4db74363",
   "metadata": {},
   "outputs": [],
   "source": [
    "# market prediction based on returns data"
   ]
  },
  {
   "cell_type": "code",
   "execution_count": 24,
   "id": "b3a6ca50",
   "metadata": {},
   "outputs": [],
   "source": [
    "rets=np.log(data/data.shift(1))\n",
    "rets.dropna(inplace=True)"
   ]
  },
  {
   "cell_type": "code",
   "execution_count": 25,
   "id": "7cecbfdc",
   "metadata": {},
   "outputs": [],
   "source": [
    "dfs={}\n",
    "for sym in data:\n",
    "    df,cols=add_lags(rets,sym,lags)\n",
    "    mu,std=df[cols].mean(),df[cols].std()\n",
    "    df[cols]=(df[cols]-mu)/std  #标准化\n",
    "    dfs[sym]=df"
   ]
  },
  {
   "cell_type": "code",
   "execution_count": 26,
   "id": "830a396f",
   "metadata": {},
   "outputs": [
    {
     "data": {
      "text/html": [
       "<div>\n",
       "<style scoped>\n",
       "    .dataframe tbody tr th:only-of-type {\n",
       "        vertical-align: middle;\n",
       "    }\n",
       "\n",
       "    .dataframe tbody tr th {\n",
       "        vertical-align: top;\n",
       "    }\n",
       "\n",
       "    .dataframe thead th {\n",
       "        text-align: right;\n",
       "    }\n",
       "</style>\n",
       "<table border=\"1\" class=\"dataframe\">\n",
       "  <thead>\n",
       "    <tr style=\"text-align: right;\">\n",
       "      <th></th>\n",
       "      <th>GLD</th>\n",
       "      <th>lag_1</th>\n",
       "      <th>lag_2</th>\n",
       "      <th>lag_3</th>\n",
       "      <th>lag_4</th>\n",
       "      <th>lag_5</th>\n",
       "      <th>lag_6</th>\n",
       "      <th>lag_7</th>\n",
       "    </tr>\n",
       "    <tr>\n",
       "      <th>Date</th>\n",
       "      <th></th>\n",
       "      <th></th>\n",
       "      <th></th>\n",
       "      <th></th>\n",
       "      <th></th>\n",
       "      <th></th>\n",
       "      <th></th>\n",
       "      <th></th>\n",
       "    </tr>\n",
       "  </thead>\n",
       "  <tbody>\n",
       "    <tr>\n",
       "      <th>2010-01-14</th>\n",
       "      <td>0.0044</td>\n",
       "      <td>0.9570</td>\n",
       "      <td>-2.1692</td>\n",
       "      <td>1.3386</td>\n",
       "      <td>0.4959</td>\n",
       "      <td>-0.6434</td>\n",
       "      <td>1.6613</td>\n",
       "      <td>-0.1028</td>\n",
       "    </tr>\n",
       "    <tr>\n",
       "      <th>2010-01-15</th>\n",
       "      <td>-0.0105</td>\n",
       "      <td>0.4379</td>\n",
       "      <td>0.9571</td>\n",
       "      <td>-2.1689</td>\n",
       "      <td>1.3388</td>\n",
       "      <td>0.4966</td>\n",
       "      <td>-0.6436</td>\n",
       "      <td>1.6614</td>\n",
       "    </tr>\n",
       "    <tr>\n",
       "      <th>2010-01-19</th>\n",
       "      <td>0.0059</td>\n",
       "      <td>-1.0842</td>\n",
       "      <td>0.4385</td>\n",
       "      <td>0.9562</td>\n",
       "      <td>-2.1690</td>\n",
       "      <td>1.3395</td>\n",
       "      <td>0.4958</td>\n",
       "      <td>-0.6435</td>\n",
       "    </tr>\n",
       "    <tr>\n",
       "      <th>2010-01-20</th>\n",
       "      <td>-0.0234</td>\n",
       "      <td>0.5967</td>\n",
       "      <td>-1.0823</td>\n",
       "      <td>0.4378</td>\n",
       "      <td>0.9564</td>\n",
       "      <td>-2.1686</td>\n",
       "      <td>1.3383</td>\n",
       "      <td>0.4958</td>\n",
       "    </tr>\n",
       "    <tr>\n",
       "      <th>2010-01-21</th>\n",
       "      <td>-0.0145</td>\n",
       "      <td>-2.4045</td>\n",
       "      <td>0.5971</td>\n",
       "      <td>-1.0825</td>\n",
       "      <td>0.4379</td>\n",
       "      <td>0.9571</td>\n",
       "      <td>-2.1680</td>\n",
       "      <td>1.3384</td>\n",
       "    </tr>\n",
       "  </tbody>\n",
       "</table>\n",
       "</div>"
      ],
      "text/plain": [
       "               GLD   lag_1   lag_2   lag_3   lag_4   lag_5   lag_6   lag_7\n",
       "Date                                                                      \n",
       "2010-01-14  0.0044  0.9570 -2.1692  1.3386  0.4959 -0.6434  1.6613 -0.1028\n",
       "2010-01-15 -0.0105  0.4379  0.9571 -2.1689  1.3388  0.4966 -0.6436  1.6614\n",
       "2010-01-19  0.0059 -1.0842  0.4385  0.9562 -2.1690  1.3395  0.4958 -0.6435\n",
       "2010-01-20 -0.0234  0.5967 -1.0823  0.4378  0.9564 -2.1686  1.3383  0.4958\n",
       "2010-01-21 -0.0145 -2.4045  0.5971 -1.0825  0.4379  0.9571 -2.1680  1.3384"
      ]
     },
     "execution_count": 26,
     "metadata": {},
     "output_type": "execute_result"
    }
   ],
   "source": [
    "dfs[sym].head()"
   ]
  },
  {
   "cell_type": "code",
   "execution_count": 27,
   "id": "2e6de757",
   "metadata": {},
   "outputs": [
    {
     "data": {
      "text/plain": [
       "GLD      9.8789e-05\n",
       "lag_1   -2.1691e-18\n",
       "lag_2    1.0696e-17\n",
       "lag_3    2.6870e-17\n",
       "lag_4    8.1894e-18\n",
       "lag_5    1.4520e-17\n",
       "lag_6    1.6855e-17\n",
       "lag_7   -2.0717e-17\n",
       "dtype: float64"
      ]
     },
     "execution_count": 27,
     "metadata": {},
     "output_type": "execute_result"
    }
   ],
   "source": [
    "dfs[sym].mean()"
   ]
  },
  {
   "cell_type": "code",
   "execution_count": 28,
   "id": "ba89b167",
   "metadata": {},
   "outputs": [
    {
     "data": {
      "text/plain": [
       "2508"
      ]
     },
     "execution_count": 28,
     "metadata": {},
     "output_type": "execute_result"
    }
   ],
   "source": [
    "len(dfs[sym])"
   ]
  },
  {
   "cell_type": "code",
   "execution_count": 29,
   "id": "4ab7c928",
   "metadata": {},
   "outputs": [
    {
     "data": {
      "text/plain": [
       "(-51.56825150582551,\n",
       " 0.0,\n",
       " 0,\n",
       " 2507,\n",
       " {'1%': -3.4329610922579095,\n",
       "  '5%': -2.8626935681060375,\n",
       "  '10%': -2.567384088736619},\n",
       " 7017.165474260226)"
      ]
     },
     "execution_count": 29,
     "metadata": {},
     "output_type": "execute_result"
    }
   ],
   "source": [
    "adfuller(dfs[sym]['lag_1'])"
   ]
  },
  {
   "cell_type": "code",
   "execution_count": 31,
   "id": "fb1bd7a8",
   "metadata": {},
   "outputs": [
    {
     "data": {
      "text/html": [
       "<div>\n",
       "<style scoped>\n",
       "    .dataframe tbody tr th:only-of-type {\n",
       "        vertical-align: middle;\n",
       "    }\n",
       "\n",
       "    .dataframe tbody tr th {\n",
       "        vertical-align: top;\n",
       "    }\n",
       "\n",
       "    .dataframe thead th {\n",
       "        text-align: right;\n",
       "    }\n",
       "</style>\n",
       "<table border=\"1\" class=\"dataframe\">\n",
       "  <thead>\n",
       "    <tr style=\"text-align: right;\">\n",
       "      <th></th>\n",
       "      <th>GLD</th>\n",
       "      <th>lag_1</th>\n",
       "      <th>lag_2</th>\n",
       "      <th>lag_3</th>\n",
       "      <th>lag_4</th>\n",
       "      <th>lag_5</th>\n",
       "      <th>lag_6</th>\n",
       "      <th>lag_7</th>\n",
       "    </tr>\n",
       "  </thead>\n",
       "  <tbody>\n",
       "    <tr>\n",
       "      <th>GLD</th>\n",
       "      <td>1.0000</td>\n",
       "      <td>-0.0297</td>\n",
       "      <td>0.0003</td>\n",
       "      <td>1.2635e-02</td>\n",
       "      <td>-0.0026</td>\n",
       "      <td>-5.9392e-03</td>\n",
       "      <td>0.0099</td>\n",
       "      <td>-0.0013</td>\n",
       "    </tr>\n",
       "    <tr>\n",
       "      <th>lag_1</th>\n",
       "      <td>-0.0297</td>\n",
       "      <td>1.0000</td>\n",
       "      <td>-0.0305</td>\n",
       "      <td>8.1418e-04</td>\n",
       "      <td>0.0128</td>\n",
       "      <td>-2.8765e-03</td>\n",
       "      <td>-0.0053</td>\n",
       "      <td>0.0098</td>\n",
       "    </tr>\n",
       "    <tr>\n",
       "      <th>lag_2</th>\n",
       "      <td>0.0003</td>\n",
       "      <td>-0.0305</td>\n",
       "      <td>1.0000</td>\n",
       "      <td>-3.1617e-02</td>\n",
       "      <td>0.0003</td>\n",
       "      <td>1.3234e-02</td>\n",
       "      <td>-0.0043</td>\n",
       "      <td>-0.0052</td>\n",
       "    </tr>\n",
       "    <tr>\n",
       "      <th>lag_3</th>\n",
       "      <td>0.0126</td>\n",
       "      <td>0.0008</td>\n",
       "      <td>-0.0316</td>\n",
       "      <td>1.0000e+00</td>\n",
       "      <td>-0.0313</td>\n",
       "      <td>-6.8542e-06</td>\n",
       "      <td>0.0141</td>\n",
       "      <td>-0.0044</td>\n",
       "    </tr>\n",
       "    <tr>\n",
       "      <th>lag_4</th>\n",
       "      <td>-0.0026</td>\n",
       "      <td>0.0128</td>\n",
       "      <td>0.0003</td>\n",
       "      <td>-3.1329e-02</td>\n",
       "      <td>1.0000</td>\n",
       "      <td>-3.1761e-02</td>\n",
       "      <td>0.0002</td>\n",
       "      <td>0.0141</td>\n",
       "    </tr>\n",
       "    <tr>\n",
       "      <th>lag_5</th>\n",
       "      <td>-0.0059</td>\n",
       "      <td>-0.0029</td>\n",
       "      <td>0.0132</td>\n",
       "      <td>-6.8542e-06</td>\n",
       "      <td>-0.0318</td>\n",
       "      <td>1.0000e+00</td>\n",
       "      <td>-0.0323</td>\n",
       "      <td>0.0002</td>\n",
       "    </tr>\n",
       "    <tr>\n",
       "      <th>lag_6</th>\n",
       "      <td>0.0099</td>\n",
       "      <td>-0.0053</td>\n",
       "      <td>-0.0043</td>\n",
       "      <td>1.4115e-02</td>\n",
       "      <td>0.0002</td>\n",
       "      <td>-3.2289e-02</td>\n",
       "      <td>1.0000</td>\n",
       "      <td>-0.0324</td>\n",
       "    </tr>\n",
       "    <tr>\n",
       "      <th>lag_7</th>\n",
       "      <td>-0.0013</td>\n",
       "      <td>0.0098</td>\n",
       "      <td>-0.0052</td>\n",
       "      <td>-4.3869e-03</td>\n",
       "      <td>0.0141</td>\n",
       "      <td>2.1707e-04</td>\n",
       "      <td>-0.0324</td>\n",
       "      <td>1.0000</td>\n",
       "    </tr>\n",
       "  </tbody>\n",
       "</table>\n",
       "</div>"
      ],
      "text/plain": [
       "          GLD   lag_1   lag_2       lag_3   lag_4       lag_5   lag_6   lag_7\n",
       "GLD    1.0000 -0.0297  0.0003  1.2635e-02 -0.0026 -5.9392e-03  0.0099 -0.0013\n",
       "lag_1 -0.0297  1.0000 -0.0305  8.1418e-04  0.0128 -2.8765e-03 -0.0053  0.0098\n",
       "lag_2  0.0003 -0.0305  1.0000 -3.1617e-02  0.0003  1.3234e-02 -0.0043 -0.0052\n",
       "lag_3  0.0126  0.0008 -0.0316  1.0000e+00 -0.0313 -6.8542e-06  0.0141 -0.0044\n",
       "lag_4 -0.0026  0.0128  0.0003 -3.1329e-02  1.0000 -3.1761e-02  0.0002  0.0141\n",
       "lag_5 -0.0059 -0.0029  0.0132 -6.8542e-06 -0.0318  1.0000e+00 -0.0323  0.0002\n",
       "lag_6  0.0099 -0.0053 -0.0043  1.4115e-02  0.0002 -3.2289e-02  1.0000 -0.0324\n",
       "lag_7 -0.0013  0.0098 -0.0052 -4.3869e-03  0.0141  2.1707e-04 -0.0324  1.0000"
      ]
     },
     "execution_count": 31,
     "metadata": {},
     "output_type": "execute_result"
    }
   ],
   "source": [
    "dfs[sym].corr()"
   ]
  },
  {
   "cell_type": "code",
   "execution_count": 32,
   "id": "e4cfb003",
   "metadata": {},
   "outputs": [],
   "source": [
    "#结论：用收益率来观察，相关性系数都比较低了，可以进行下面的实验"
   ]
  },
  {
   "cell_type": "code",
   "execution_count": 33,
   "id": "f781fe25",
   "metadata": {},
   "outputs": [],
   "source": [
    "from sklearn.metrics import accuracy_score"
   ]
  },
  {
   "cell_type": "code",
   "execution_count": 34,
   "id": "9f6f2984",
   "metadata": {},
   "outputs": [
    {
     "name": "stdout",
     "output_type": "stream",
     "text": [
      "OLS|AAPL.O    |acc=0.5056\n",
      "OLS|MSFT.O    |acc=0.5088\n",
      "OLS|INTC.O    |acc=0.5040\n",
      "OLS|AMZN.O    |acc=0.5048\n",
      "OLS|GS.N      |acc=0.5080\n",
      "OLS|SPY       |acc=0.5080\n",
      "OLS|.SPX      |acc=0.5167\n",
      "OLS|.VIX      |acc=0.5291\n",
      "OLS|EUR=      |acc=0.4984\n",
      "OLS|XAU=      |acc=0.5207\n",
      "OLS|GDX       |acc=0.5307\n",
      "OLS|GLD       |acc=0.5072\n",
      "Wall time: 37.4 ms\n"
     ]
    }
   ],
   "source": [
    "%%time\n",
    "acc_=[]\n",
    "for sym in data:\n",
    "    df=dfs[sym]\n",
    "    reg=np.linalg.lstsq(df[cols],df[sym],rcond=-1)[0]\n",
    "    pred=np.dot(df[cols],reg)\n",
    "    acc=accuracy_score(np.sign(df[sym]),np.sign(pred))\n",
    "    acc_.append(acc)\n",
    "    print(f'OLS|{sym:10s}|acc={acc:.4f}')"
   ]
  },
  {
   "cell_type": "code",
   "execution_count": 35,
   "id": "446f9bdc",
   "metadata": {},
   "outputs": [
    {
     "data": {
      "text/plain": [
       "0.5118288144603934"
      ]
     },
     "execution_count": 35,
     "metadata": {},
     "output_type": "execute_result"
    }
   ],
   "source": [
    "np.array(acc_).mean()"
   ]
  },
  {
   "cell_type": "code",
   "execution_count": 36,
   "id": "0627eec2",
   "metadata": {},
   "outputs": [],
   "source": [
    "from sklearn.neural_network import MLPRegressor"
   ]
  },
  {
   "cell_type": "code",
   "execution_count": 37,
   "id": "26b0e29e",
   "metadata": {},
   "outputs": [
    {
     "name": "stdout",
     "output_type": "stream",
     "text": [
      "OLS|AAPL.O    |acc=0.6005\n",
      "OLS|MSFT.O    |acc=0.5853\n",
      "OLS|INTC.O    |acc=0.5766\n",
      "OLS|AMZN.O    |acc=0.5510\n",
      "OLS|GS.N      |acc=0.6527\n",
      "OLS|SPY       |acc=0.5419\n",
      "OLS|.SPX      |acc=0.5399\n",
      "OLS|.VIX      |acc=0.6579\n",
      "OLS|EUR=      |acc=0.5642\n",
      "OLS|XAU=      |acc=0.5522\n",
      "OLS|GDX       |acc=0.6029\n",
      "OLS|GLD       |acc=0.5259\n",
      "Wall time: 10.8 s\n"
     ]
    }
   ],
   "source": [
    "%%time\n",
    "acc_=[]\n",
    "for sym in data.columns:\n",
    "    df=dfs[sym]\n",
    "    model=MLPRegressor(hidden_layer_sizes=[512],random_state=100,max_iter=1000,early_stopping=True,validation_fraction=0.15,shuffle=False)\n",
    "    model.fit(df[cols],df[sym])\n",
    "    pred=model.predict(df[cols])\n",
    "    acc=accuracy_score(np.sign(df[sym]),np.sign(pred))\n",
    "    acc_.append(acc)\n",
    "    print(f'MLP|{sym:10s}|acc={acc:.4f}')"
   ]
  },
  {
   "cell_type": "code",
   "execution_count": 38,
   "id": "d64499d4",
   "metadata": {},
   "outputs": [
    {
     "data": {
      "text/plain": [
       "0.5792464114832536"
      ]
     },
     "execution_count": 38,
     "metadata": {},
     "output_type": "execute_result"
    }
   ],
   "source": [
    "np.array(acc_).mean()"
   ]
  },
  {
   "cell_type": "code",
   "execution_count": 39,
   "id": "9ae6ca68",
   "metadata": {},
   "outputs": [],
   "source": [
    "#利用决策树来预测明天的收益率"
   ]
  },
  {
   "cell_type": "code",
   "execution_count": 40,
   "id": "14e98164",
   "metadata": {},
   "outputs": [
    {
     "name": "stdout",
     "output_type": "stream",
     "text": [
      "DTR|AAPL.O    |acc=1.0000\n",
      "DTR|MSFT.O    |acc=1.0000\n",
      "DTR|INTC.O    |acc=1.0000\n",
      "DTR|AMZN.O    |acc=1.0000\n",
      "DTR|GS.N      |acc=1.0000\n",
      "DTR|SPY       |acc=1.0000\n",
      "DTR|.SPX      |acc=1.0000\n",
      "DTR|.VIX      |acc=1.0000\n",
      "DTR|EUR=      |acc=1.0000\n",
      "DTR|XAU=      |acc=1.0000\n",
      "DTR|GDX       |acc=1.0000\n",
      "DTR|GLD       |acc=1.0000\n",
      "Wall time: 497 ms\n"
     ]
    }
   ],
   "source": [
    "%%time\n",
    "acc_=[]\n",
    "from sklearn.tree import DecisionTreeRegressor\n",
    "for sym in data.columns:\n",
    "    df=dfs[sym]\n",
    "    model=DecisionTreeRegressor()\n",
    "    model.fit(df[cols],df[sym])\n",
    "    pred=model.predict(df[cols])\n",
    "    acc=accuracy_score(np.sign(df[sym]),np.sign(pred))\n",
    "    acc_.append(acc)\n",
    "    print(f'DTR|{sym:10s}|acc={acc:.4f}')"
   ]
  },
  {
   "cell_type": "code",
   "execution_count": 41,
   "id": "f802a1c2",
   "metadata": {},
   "outputs": [],
   "source": [
    "#只用keras里面的DNN"
   ]
  },
  {
   "cell_type": "code",
   "execution_count": 42,
   "id": "1aa7687c",
   "metadata": {},
   "outputs": [],
   "source": [
    "import tensorflow as tf\n",
    "from tensorflow.keras.layers import Dense\n",
    "from tensorflow.keras.models import Sequential"
   ]
  },
  {
   "cell_type": "code",
   "execution_count": 43,
   "id": "4e68e440",
   "metadata": {},
   "outputs": [],
   "source": [
    "np.random.seed(100)\n",
    "tf.random.set_seed(100)"
   ]
  },
  {
   "cell_type": "code",
   "execution_count": 44,
   "id": "fcc1b4f7",
   "metadata": {},
   "outputs": [],
   "source": [
    "def create_model(problem='regression'):\n",
    "    model=Sequential()\n",
    "    model.add(Dense(512,input_dim=len(cols),activation='relu'))\n",
    "    if problem=='regression':\n",
    "        model.add(Dense(1,activation='linear'))\n",
    "        model.compile(loss='mse',optimizer='adam')\n",
    "    else:\n",
    "        model.add(Dense(1,activation='sigmoid'))\n",
    "        model.compile(loss='binary_crossentropy',optimizer='adam')\n",
    "    return model"
   ]
  },
  {
   "cell_type": "code",
   "execution_count": 45,
   "id": "9f52fa07",
   "metadata": {},
   "outputs": [
    {
     "name": "stdout",
     "output_type": "stream",
     "text": [
      "DNN  | AAPL.O    |acc=0.6085\n",
      "DNN  | MSFT.O    |acc=0.6152\n",
      "DNN  | INTC.O    |acc=0.6236\n",
      "DNN  | AMZN.O    |acc=0.6276\n",
      "DNN  | GS.N      |acc=0.6136\n",
      "DNN  | SPY       |acc=0.5594\n",
      "DNN  | .SPX      |acc=0.5478\n",
      "DNN  | .VIX      |acc=0.6148\n",
      "DNN  | EUR=      |acc=0.5817\n",
      "DNN  | XAU=      |acc=0.6021\n",
      "DNN  | GDX       |acc=0.6120\n",
      "DNN  | GLD       |acc=0.6001\n",
      "Wall time: 13.1 s\n"
     ]
    }
   ],
   "source": [
    "%%time\n",
    "acc_=[]\n",
    "for sym in data.columns[:]:\n",
    "    df=dfs[sym]\n",
    "    model=create_model()\n",
    "    model.fit(df[cols],df[sym],epochs=25,verbose=False)\n",
    "    pred=model.predict(df[cols])\n",
    "    acc=accuracy_score(np.sign(df[sym]),np.sign(pred))\n",
    "    acc_.append(acc)\n",
    "    print(f'DNN  | {sym:10s}|acc={acc:.4f}')"
   ]
  },
  {
   "cell_type": "code",
   "execution_count": 46,
   "id": "5be85bd9",
   "metadata": {},
   "outputs": [
    {
     "data": {
      "text/plain": [
       "2006"
      ]
     },
     "execution_count": 46,
     "metadata": {},
     "output_type": "execute_result"
    }
   ],
   "source": [
    "split=int(len(dfs[sym])*0.8)\n",
    "split"
   ]
  },
  {
   "cell_type": "code",
   "execution_count": 48,
   "id": "8ee4a33f",
   "metadata": {},
   "outputs": [
    {
     "name": "stdout",
     "output_type": "stream",
     "text": [
      "OLS  | AAPL.O    |acc=0.5219\n",
      "OLS  | MSFT.O    |acc=0.4960\n",
      "OLS  | INTC.O    |acc=0.5418\n",
      "OLS  | AMZN.O    |acc=0.4841\n",
      "OLS  | GS.N      |acc=0.4980\n",
      "OLS  | SPY       |acc=0.5020\n",
      "OLS  | .SPX      |acc=0.5120\n",
      "OLS  | .VIX      |acc=0.5458\n",
      "OLS  | EUR=      |acc=0.4482\n",
      "OLS  | XAU=      |acc=0.5299\n",
      "OLS  | GDX       |acc=0.5159\n",
      "OLS  | GLD       |acc=0.5100\n"
     ]
    }
   ],
   "source": [
    "acc_=[]\n",
    "for sym in data.columns:\n",
    "    df=dfs[sym]\n",
    "    train=df.iloc[:split]\n",
    "    reg=np.linalg.lstsq(train[cols],train[sym],rcond=-1)[0]\n",
    "    test=df.iloc[split:]\n",
    "    pred=np.dot(test[cols],reg)\n",
    "    acc=accuracy_score(np.sign(test[sym]),np.sign(pred))\n",
    "    acc_.append(acc)\n",
    "    print(f'OLS  | {sym:10s}|acc={acc:.4f}')"
   ]
  },
  {
   "cell_type": "code",
   "execution_count": 49,
   "id": "4c4aefc1",
   "metadata": {},
   "outputs": [
    {
     "data": {
      "text/plain": [
       "0.5087981407702523"
      ]
     },
     "execution_count": 49,
     "metadata": {},
     "output_type": "execute_result"
    }
   ],
   "source": [
    "np.array(acc_).mean()"
   ]
  },
  {
   "cell_type": "code",
   "execution_count": 50,
   "id": "0051931d",
   "metadata": {},
   "outputs": [
    {
     "name": "stdout",
     "output_type": "stream",
     "text": [
      "MLP|AAPL.O    |acc=0.4920\n",
      "MLP|MSFT.O    |acc=0.5279\n",
      "MLP|INTC.O    |acc=0.5279\n",
      "MLP|AMZN.O    |acc=0.4641\n",
      "MLP|GS.N      |acc=0.5040\n",
      "MLP|SPY       |acc=0.5259\n",
      "MLP|.SPX      |acc=0.5478\n",
      "MLP|.VIX      |acc=0.5279\n",
      "MLP|EUR=      |acc=0.4980\n",
      "MLP|XAU=      |acc=0.5239\n",
      "MLP|GDX       |acc=0.4880\n",
      "MLP|GLD       |acc=0.5000\n",
      "Wall time: 10.4 s\n"
     ]
    }
   ],
   "source": [
    "%%time\n",
    "acc_=[]\n",
    "for sym in data.columns:\n",
    "    df=dfs[sym]\n",
    "    train=df.iloc[:split]\n",
    "    model=MLPRegressor(hidden_layer_sizes=[512],random_state=100,max_iter=1000,early_stopping=True,validation_fraction=0.15,shuffle=False)\n",
    "    \n",
    "    model.fit(train[cols],train[sym])\n",
    "    \n",
    "    test=df.iloc[split:]\n",
    "    \n",
    "    pred=model.predict(test[cols])\n",
    "    acc=accuracy_score(np.sign(test[sym]),np.sign(pred))\n",
    "    acc_.append(acc)\n",
    "    print(f'MLP|{sym:10s}|acc={acc:.4f}')"
   ]
  },
  {
   "cell_type": "code",
   "execution_count": 52,
   "id": "ef1658c5",
   "metadata": {},
   "outputs": [
    {
     "data": {
      "text/plain": [
       "0.5106241699867199"
      ]
     },
     "execution_count": 52,
     "metadata": {},
     "output_type": "execute_result"
    }
   ],
   "source": [
    "np.array(acc_).mean()"
   ]
  },
  {
   "cell_type": "markdown",
   "id": "18ea2b2e",
   "metadata": {},
   "source": [
    "# marketing prediction with more features"
   ]
  },
  {
   "cell_type": "code",
   "execution_count": 53,
   "id": "4d837fdc",
   "metadata": {},
   "outputs": [],
   "source": [
    "data=pd.read_csv(url,index_col=0,parse_dates=True).dropna()"
   ]
  },
  {
   "cell_type": "code",
   "execution_count": 57,
   "id": "db0d1f5b",
   "metadata": {},
   "outputs": [],
   "source": [
    "def add_lags(data,ric,lags,window=50):\n",
    "    cols=[]\n",
    "    df=pd.DataFrame(data[ric])\n",
    "    df.dropna(inplace=True)\n",
    "    df['r']=np.log(df/df.shift())\n",
    "    df['sma']=df[ric].rolling(window).mean()\n",
    "    df['min']=df[ric].rolling(window).min()\n",
    "    df['max']=df[ric].rolling(window).max()\n",
    "    df['mom']=df['r'].rolling(window).mean()\n",
    "    df['vol']=df['r'].rolling(window).std()\n",
    "    \n",
    "    df.dropna(inplace=True)\n",
    "    df['d']=np.where(df['r']>0,1,0)\n",
    "    features=[ric,'r','d','sma','min','max','mom','vol']\n",
    "    for f in features:\n",
    "        for lag in range(1,lags+1):\n",
    "            col=f'{f}__lag__{lag}'\n",
    "            df[col]=df[f].shift(lag)\n",
    "            cols.append(col)\n",
    "            \n",
    "    df.dropna(inplace=True)\n",
    "    return df, cols"
   ]
  },
  {
   "cell_type": "code",
   "execution_count": 58,
   "id": "c8147513",
   "metadata": {},
   "outputs": [],
   "source": [
    "lags=5"
   ]
  },
  {
   "cell_type": "code",
   "execution_count": 59,
   "id": "5aebfea7",
   "metadata": {},
   "outputs": [],
   "source": [
    "dfs={}\n",
    "for ric in data:\n",
    "    df,cols=add_lags(data,ric,lags)\n",
    "    dfs[ric]=df.dropna(),cols"
   ]
  },
  {
   "cell_type": "code",
   "execution_count": 60,
   "id": "420a07e7",
   "metadata": {},
   "outputs": [
    {
     "data": {
      "text/plain": [
       "40"
      ]
     },
     "execution_count": 60,
     "metadata": {},
     "output_type": "execute_result"
    }
   ],
   "source": [
    "len(cols)"
   ]
  },
  {
   "cell_type": "code",
   "execution_count": 61,
   "id": "3eaa7362",
   "metadata": {},
   "outputs": [
    {
     "data": {
      "text/plain": [
       "(               GLD       r       sma     min     max         mom     vol  d  \\\n",
       " Date                                                                          \n",
       " 2010-03-24  106.30 -0.0188  108.5191  104.04  112.03 -1.1959e-03  0.0120  0   \n",
       " 2010-03-25  106.78  0.0045  108.4449  104.04  112.03 -6.8309e-04  0.0117  1   \n",
       " 2010-03-26  108.59  0.0168  108.3859  104.04  112.03 -5.3608e-04  0.0119  1   \n",
       " 2010-03-29  108.75  0.0015  108.3203  104.04  111.63 -5.9430e-04  0.0118  1   \n",
       " 2010-03-30  107.97 -0.0072  108.2625  104.04  111.63 -5.2829e-04  0.0118  0   \n",
       " ...            ...     ...       ...     ...     ...         ...     ... ..   \n",
       " 2019-12-24  141.27  0.0094  139.2466  137.01  142.56  9.6502e-05  0.0056  1   \n",
       " 2019-12-26  142.38  0.0078  139.3020  137.01  142.56  3.9293e-04  0.0057  1   \n",
       " 2019-12-27  142.33 -0.0004  139.3404  137.01  142.56  2.7163e-04  0.0056  0   \n",
       " 2019-12-30  142.63  0.0021  139.3808  137.01  142.63  2.8528e-04  0.0056  1   \n",
       " 2019-12-31  142.90  0.0019  139.4296  137.01  142.90  3.4445e-04  0.0056  1   \n",
       " \n",
       "             GLD__lag__1  GLD__lag__2  ...  mom__lag__1  mom__lag__2  \\\n",
       " Date                                  ...                             \n",
       " 2010-03-24       108.32       107.75  ...  -5.5536e-04  -5.6187e-04   \n",
       " 2010-03-25       106.30       108.32  ...  -1.1959e-03  -5.5536e-04   \n",
       " 2010-03-26       106.78       106.30  ...  -6.8309e-04  -1.1959e-03   \n",
       " 2010-03-29       108.59       106.78  ...  -5.3608e-04  -6.8309e-04   \n",
       " 2010-03-30       108.75       108.59  ...  -5.9430e-04  -5.3608e-04   \n",
       " ...                 ...          ...  ...          ...          ...   \n",
       " 2019-12-24       139.95       139.52  ...  -1.1429e-05  -1.8407e-04   \n",
       " 2019-12-26       141.27       139.95  ...   9.6502e-05  -1.1429e-05   \n",
       " 2019-12-27       142.38       141.27  ...   3.9293e-04   9.6502e-05   \n",
       " 2019-12-30       142.33       142.38  ...   2.7163e-04   3.9293e-04   \n",
       " 2019-12-31       142.63       142.33  ...   2.8528e-04   2.7163e-04   \n",
       " \n",
       "             mom__lag__3  mom__lag__4  mom__lag__5  vol__lag__1  vol__lag__2  \\\n",
       " Date                                                                          \n",
       " 2010-03-24  -5.8788e-04   1.1634e-04  -3.8288e-05       0.0119       0.0119   \n",
       " 2010-03-25  -5.6187e-04  -5.8788e-04   1.1634e-04       0.0120       0.0119   \n",
       " 2010-03-26  -5.5536e-04  -5.6187e-04  -5.8788e-04       0.0117       0.0120   \n",
       " 2010-03-29  -1.1959e-03  -5.5536e-04  -5.6187e-04       0.0119       0.0117   \n",
       " 2010-03-30  -6.8309e-04  -1.1959e-03  -5.5536e-04       0.0118       0.0119   \n",
       " ...                 ...          ...          ...          ...          ...   \n",
       " 2019-12-24  -3.7950e-04  -4.1291e-04  -2.4026e-04       0.0055       0.0056   \n",
       " 2019-12-26  -1.8407e-04  -3.7950e-04  -4.1291e-04       0.0056       0.0055   \n",
       " 2019-12-27  -1.1429e-05  -1.8407e-04  -3.7950e-04       0.0057       0.0056   \n",
       " 2019-12-30   9.6502e-05  -1.1429e-05  -1.8407e-04       0.0056       0.0057   \n",
       " 2019-12-31   3.9293e-04   9.6502e-05  -1.1429e-05       0.0056       0.0056   \n",
       " \n",
       "             vol__lag__3  vol__lag__4  vol__lag__5  \n",
       " Date                                               \n",
       " 2010-03-24       0.0119       0.0118       0.0118  \n",
       " 2010-03-25       0.0119       0.0119       0.0118  \n",
       " 2010-03-26       0.0119       0.0119       0.0119  \n",
       " 2010-03-29       0.0120       0.0119       0.0119  \n",
       " 2010-03-30       0.0117       0.0120       0.0119  \n",
       " ...                 ...          ...          ...  \n",
       " 2019-12-24       0.0057       0.0057       0.0058  \n",
       " 2019-12-26       0.0056       0.0057       0.0057  \n",
       " 2019-12-27       0.0055       0.0056       0.0057  \n",
       " 2019-12-30       0.0056       0.0055       0.0056  \n",
       " 2019-12-31       0.0057       0.0056       0.0055  \n",
       " \n",
       " [2461 rows x 48 columns],\n",
       " ['GLD__lag__1',\n",
       "  'GLD__lag__2',\n",
       "  'GLD__lag__3',\n",
       "  'GLD__lag__4',\n",
       "  'GLD__lag__5',\n",
       "  'r__lag__1',\n",
       "  'r__lag__2',\n",
       "  'r__lag__3',\n",
       "  'r__lag__4',\n",
       "  'r__lag__5',\n",
       "  'd__lag__1',\n",
       "  'd__lag__2',\n",
       "  'd__lag__3',\n",
       "  'd__lag__4',\n",
       "  'd__lag__5',\n",
       "  'sma__lag__1',\n",
       "  'sma__lag__2',\n",
       "  'sma__lag__3',\n",
       "  'sma__lag__4',\n",
       "  'sma__lag__5',\n",
       "  'min__lag__1',\n",
       "  'min__lag__2',\n",
       "  'min__lag__3',\n",
       "  'min__lag__4',\n",
       "  'min__lag__5',\n",
       "  'max__lag__1',\n",
       "  'max__lag__2',\n",
       "  'max__lag__3',\n",
       "  'max__lag__4',\n",
       "  'max__lag__5',\n",
       "  'mom__lag__1',\n",
       "  'mom__lag__2',\n",
       "  'mom__lag__3',\n",
       "  'mom__lag__4',\n",
       "  'mom__lag__5',\n",
       "  'vol__lag__1',\n",
       "  'vol__lag__2',\n",
       "  'vol__lag__3',\n",
       "  'vol__lag__4',\n",
       "  'vol__lag__5'])"
      ]
     },
     "execution_count": 61,
     "metadata": {},
     "output_type": "execute_result"
    }
   ],
   "source": [
    "dfs[ric]"
   ]
  },
  {
   "cell_type": "code",
   "execution_count": 62,
   "id": "c285a485",
   "metadata": {},
   "outputs": [],
   "source": [
    "from sklearn.neural_network import MLPClassifier"
   ]
  },
  {
   "cell_type": "code",
   "execution_count": 67,
   "id": "51d6123d",
   "metadata": {},
   "outputs": [
    {
     "name": "stdout",
     "output_type": "stream",
     "text": [
      "IN-SAMPLT  |AAPL.O    |acc=0.5510\n",
      "IN-SAMPLT  |MSFT.O    |acc=0.5376\n",
      "IN-SAMPLT  |INTC.O    |acc=0.5607\n",
      "IN-SAMPLT  |AMZN.O    |acc=0.5559\n",
      "IN-SAMPLT  |GS.N      |acc=0.5794\n",
      "IN-SAMPLT  |SPY       |acc=0.5729\n",
      "IN-SAMPLT  |.SPX      |acc=0.5941\n",
      "IN-SAMPLT  |.VIX      |acc=0.6940\n",
      "IN-SAMPLT  |EUR=      |acc=0.5766\n",
      "IN-SAMPLT  |XAU=      |acc=0.5672\n",
      "IN-SAMPLT  |GDX       |acc=0.5847\n",
      "IN-SAMPLT  |GLD       |acc=0.5567\n",
      "Wall time: 6.37 s\n"
     ]
    }
   ],
   "source": [
    "%%time\n",
    "acc_=[]\n",
    "for ric in data:\n",
    "#     df=dfs[sym]\n",
    "    model=MLPClassifier(hidden_layer_sizes=[512],random_state=100,max_iter=1000,early_stopping=True,validation_fraction=0.15,shuffle=False)\n",
    "    \n",
    "    df,cols=dfs[ric]\n",
    "    df[cols]=(df[cols]-df[cols].mean())/df[cols].std()\n",
    "    model.fit(df[cols],df['d'])\n",
    "    pred=model.predict(df[cols])\n",
    "    acc=accuracy_score(df['d'],pred)\n",
    "    acc_.append(acc)\n",
    "    print(f'IN-SAMPLT  |{ric:10s}|acc={acc:.4f}')\n"
   ]
  },
  {
   "cell_type": "code",
   "execution_count": 68,
   "id": "a82b1951",
   "metadata": {},
   "outputs": [
    {
     "data": {
      "text/plain": [
       "0.5775768657727212"
      ]
     },
     "execution_count": 68,
     "metadata": {},
     "output_type": "execute_result"
    }
   ],
   "source": [
    "np.array(acc_).mean()"
   ]
  },
  {
   "cell_type": "code",
   "execution_count": 69,
   "id": "bffe1303",
   "metadata": {},
   "outputs": [
    {
     "name": "stdout",
     "output_type": "stream",
     "text": [
      "DNN in sample | GLD    |acc=0.6989\n",
      "DNN in sample | GLD    |acc=0.6973\n",
      "DNN in sample | GLD    |acc=0.7066\n",
      "DNN in sample | GLD    |acc=0.6595\n",
      "DNN in sample | GLD    |acc=0.6952\n",
      "DNN in sample | GLD    |acc=0.6822\n",
      "DNN in sample | GLD    |acc=0.6908\n",
      "DNN in sample | GLD    |acc=0.7412\n",
      "DNN in sample | GLD    |acc=0.6749\n",
      "DNN in sample | GLD    |acc=0.7062\n",
      "DNN in sample | GLD    |acc=0.6822\n",
      "DNN in sample | GLD    |acc=0.6952\n",
      "Wall time: 25.9 s\n"
     ]
    }
   ],
   "source": [
    "%%time\n",
    "acc_=[]\n",
    "for ric in data:\n",
    "\n",
    "    model=create_model('classification')\n",
    "    df,cols=dfs[ric]\n",
    "    df[cols]=(df[cols]-df[cols].mean())/df[cols].std()\n",
    "    model.fit(df[cols],df['d'],epochs=50,verbose=False)\n",
    "    pred=np.where(model.predict(df[cols])>0.5,1,0)\n",
    "    \n",
    "    acc=accuracy_score(df['d'],pred)\n",
    "    acc_.append(acc)\n",
    "    print(f'DNN in sample | {sym:7s}|acc={acc:.4f}')"
   ]
  },
  {
   "cell_type": "code",
   "execution_count": 70,
   "id": "fff9385d",
   "metadata": {},
   "outputs": [
    {
     "data": {
      "text/plain": [
       "0.6941961262359473"
      ]
     },
     "execution_count": 70,
     "metadata": {},
     "output_type": "execute_result"
    }
   ],
   "source": [
    "np.array(acc_).mean()"
   ]
  },
  {
   "cell_type": "code",
   "execution_count": 75,
   "id": "9b8e5fa2",
   "metadata": {},
   "outputs": [],
   "source": [
    "def train_test_model(model):\n",
    "    acc_=[]\n",
    "    for ric in data:\n",
    "        df,cols=dfs[ric]\n",
    "        split=int(len(df)*0.85)\n",
    "        train=df.iloc[:split].copy()\n",
    "        mu,std=train[cols].mean(),train[cols].std()\n",
    "        train[cols]=(train[cols]-mu)/std\n",
    "        model.fit(train[cols],train['d'])\n",
    "        test=df.iloc[split:].copy()\n",
    "        test[cols]=(test[cols]-mu)/std\n",
    "        pred=model.predict(test[cols])\n",
    "        acc=accuracy_score(test['d'],pred)\n",
    "        acc_.append(acc)\n",
    "        print(f'DNN in sample split | {sym:7s}|acc={acc:.4f}')\n",
    "    print('\\n the average accuracy rate is', np.array(acc_).mean())"
   ]
  },
  {
   "cell_type": "code",
   "execution_count": 73,
   "id": "1cf81424",
   "metadata": {},
   "outputs": [],
   "source": [
    "model_mlp=MLPClassifier(hidden_layer_sizes=[512],random_state=100,max_iter=1000,early_stopping=True,validation_fraction=0.15,shuffle=False)"
   ]
  },
  {
   "cell_type": "code",
   "execution_count": 76,
   "id": "d36a1c3d",
   "metadata": {},
   "outputs": [
    {
     "name": "stdout",
     "output_type": "stream",
     "text": [
      "DNN in sample split | GLD    |acc=0.4432\n",
      "DNN in sample split | GLD    |acc=0.4595\n",
      "DNN in sample split | GLD    |acc=0.5000\n",
      "DNN in sample split | GLD    |acc=0.5270\n",
      "DNN in sample split | GLD    |acc=0.4838\n",
      "DNN in sample split | GLD    |acc=0.4811\n",
      "DNN in sample split | GLD    |acc=0.5027\n",
      "DNN in sample split | GLD    |acc=0.5676\n",
      "DNN in sample split | GLD    |acc=0.4649\n",
      "DNN in sample split | GLD    |acc=0.5514\n",
      "DNN in sample split | GLD    |acc=0.5162\n",
      "DNN in sample split | GLD    |acc=0.4946\n",
      "\n",
      " the average accuracy rate is 0.4993243243243242\n",
      "Wall time: 4.34 s\n"
     ]
    }
   ],
   "source": [
    "%time train_test_model(model_mlp)"
   ]
  },
  {
   "cell_type": "code",
   "execution_count": 77,
   "id": "a6d7f09f",
   "metadata": {},
   "outputs": [],
   "source": [
    "from sklearn.ensemble import BaggingClassifier"
   ]
  },
  {
   "cell_type": "code",
   "execution_count": 78,
   "id": "667e544c",
   "metadata": {},
   "outputs": [],
   "source": [
    "base_estimator=MLPClassifier(hidden_layer_sizes=[512],random_state=100,max_iter=1000,early_stopping=True,validation_fraction=0.15,shuffle=False)"
   ]
  },
  {
   "cell_type": "code",
   "execution_count": 79,
   "id": "47db70b2",
   "metadata": {},
   "outputs": [],
   "source": [
    "model_bag=BaggingClassifier(base_estimator=base_estimator,n_estimators=35,max_samples=0.25,max_features=0.5,bootstrap=False,bootstrap_features=True\n",
    "                           ,n_jobs=-1,random_state=100)"
   ]
  },
  {
   "cell_type": "code",
   "execution_count": 80,
   "id": "5c03a9f8",
   "metadata": {},
   "outputs": [
    {
     "name": "stdout",
     "output_type": "stream",
     "text": [
      "DNN in sample split | GLD    |acc=0.5432\n",
      "DNN in sample split | GLD    |acc=0.5703\n",
      "DNN in sample split | GLD    |acc=0.5027\n",
      "DNN in sample split | GLD    |acc=0.5270\n",
      "DNN in sample split | GLD    |acc=0.4838\n",
      "DNN in sample split | GLD    |acc=0.5541\n",
      "DNN in sample split | GLD    |acc=0.5514\n",
      "DNN in sample split | GLD    |acc=0.5405\n",
      "DNN in sample split | GLD    |acc=0.4757\n",
      "DNN in sample split | GLD    |acc=0.5189\n",
      "DNN in sample split | GLD    |acc=0.5324\n",
      "DNN in sample split | GLD    |acc=0.5351\n",
      "\n",
      " the average accuracy rate is 0.527927927927928\n",
      "Wall time: 20.3 s\n"
     ]
    }
   ],
   "source": [
    "%time train_test_model(model_bag)"
   ]
  },
  {
   "cell_type": "code",
   "execution_count": null,
   "id": "4dd9b52f",
   "metadata": {},
   "outputs": [],
   "source": []
  }
 ],
 "metadata": {
  "kernelspec": {
   "display_name": "Python 3",
   "language": "python",
   "name": "python3"
  },
  "language_info": {
   "codemirror_mode": {
    "name": "ipython",
    "version": 3
   },
   "file_extension": ".py",
   "mimetype": "text/x-python",
   "name": "python",
   "nbconvert_exporter": "python",
   "pygments_lexer": "ipython3",
   "version": "3.8.8"
  }
 },
 "nbformat": 4,
 "nbformat_minor": 5
}
